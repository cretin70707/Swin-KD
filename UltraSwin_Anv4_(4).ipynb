{
  "cells": [
    {
      "cell_type": "markdown",
      "metadata": {
        "id": "WknP2PFNkDwl"
      },
      "source": [
        "#Load dataset"
      ]
    },
    {
      "cell_type": "markdown",
      "metadata": {
        "id": "YANv6Pv0kS-Z"
      },
      "source": [
        "## Dataset"
      ]
    },
    {
      "cell_type": "markdown",
      "metadata": {
        "id": "Q3FOr8-BkVia"
      },
      "source": [
        "### Download dataset"
      ]
    },
    {
      "cell_type": "markdown",
      "metadata": {
        "id": "WGqDpLShm51U"
      },
      "source": [
        "Instalasi gdown untuk mendownload file dari Google Drive"
      ]
    },
    {
      "cell_type": "code",
      "execution_count": 1,
      "metadata": {
        "colab": {
          "base_uri": "https://localhost:8080/"
        },
        "id": "lbc-34fVlmN_",
        "outputId": "24da2fee-be27-43e7-a543-bd8408be2be2"
      },
      "outputs": [
        {
          "output_type": "stream",
          "name": "stdout",
          "text": [
            "Requirement already satisfied: gdown in /usr/local/lib/python3.10/dist-packages (5.1.0)\n",
            "Requirement already satisfied: beautifulsoup4 in /usr/local/lib/python3.10/dist-packages (from gdown) (4.12.3)\n",
            "Requirement already satisfied: filelock in /usr/local/lib/python3.10/dist-packages (from gdown) (3.13.4)\n",
            "Requirement already satisfied: requests[socks] in /usr/local/lib/python3.10/dist-packages (from gdown) (2.31.0)\n",
            "Requirement already satisfied: tqdm in /usr/local/lib/python3.10/dist-packages (from gdown) (4.66.2)\n",
            "Requirement already satisfied: soupsieve>1.2 in /usr/local/lib/python3.10/dist-packages (from beautifulsoup4->gdown) (2.5)\n",
            "Requirement already satisfied: charset-normalizer<4,>=2 in /usr/local/lib/python3.10/dist-packages (from requests[socks]->gdown) (3.3.2)\n",
            "Requirement already satisfied: idna<4,>=2.5 in /usr/local/lib/python3.10/dist-packages (from requests[socks]->gdown) (3.7)\n",
            "Requirement already satisfied: urllib3<3,>=1.21.1 in /usr/local/lib/python3.10/dist-packages (from requests[socks]->gdown) (2.0.7)\n",
            "Requirement already satisfied: certifi>=2017.4.17 in /usr/local/lib/python3.10/dist-packages (from requests[socks]->gdown) (2024.2.2)\n",
            "Requirement already satisfied: PySocks!=1.5.7,>=1.5.6 in /usr/local/lib/python3.10/dist-packages (from requests[socks]->gdown) (1.7.1)\n"
          ]
        }
      ],
      "source": [
        "!pip install gdown"
      ]
    },
    {
      "cell_type": "markdown",
      "metadata": {
        "id": "mkgKWhrGm-JF"
      },
      "source": [
        "Download dataset"
      ]
    },
    {
      "cell_type": "code",
      "execution_count": 2,
      "metadata": {
        "colab": {
          "base_uri": "https://localhost:8080/"
        },
        "id": "VV04KlLriOSb",
        "outputId": "4304ab60-462a-4f4b-a629-9546a7e3710a"
      },
      "outputs": [
        {
          "output_type": "stream",
          "name": "stdout",
          "text": [
            "Downloading...\n",
            "From (original): https://drive.google.com/uc?id=15Zrz3cK6dlia32c0yK-1ASK46IH4C9Lz\n",
            "From (redirected): https://drive.google.com/uc?id=15Zrz3cK6dlia32c0yK-1ASK46IH4C9Lz&confirm=t&uuid=a1d398d1-4345-4980-a4ec-b70034d877f3\n",
            "To: /content/EchoNet-Dynamic.zip\n",
            "100% 7.04G/7.04G [01:35<00:00, 73.4MB/s]\n"
          ]
        }
      ],
      "source": [
        "!gdown 15Zrz3cK6dlia32c0yK-1ASK46IH4C9Lz"
      ]
    },
    {
      "cell_type": "code",
      "execution_count": null,
      "metadata": {
        "colab": {
          "base_uri": "https://localhost:8080/"
        },
        "id": "mJU6UyHIkfaw",
        "outputId": "dd3c1f70-12f6-4edf-abd7-3bab93ea1914"
      },
      "outputs": [
        {
          "output_type": "stream",
          "name": "stdout",
          "text": [
            "Downloading...\n",
            "From (original): https://drive.google.com/uc?id=1Pxo4tlnQnaFYFEKgk9n3KpDAx9DHA8SP\n",
            "From (redirected): https://drive.google.com/uc?id=1Pxo4tlnQnaFYFEKgk9n3KpDAx9DHA8SP&confirm=t&uuid=091dc9ef-40e9-4bcd-a75d-0d4d6dabf67c\n",
            "To: /content/EchoNet-Dynamic.zip\n",
            "100% 7.04G/7.04G [01:22<00:00, 85.7MB/s]\n"
          ]
        }
      ],
      "source": [
        "!gdown 1Pxo4tlnQnaFYFEKgk9n3KpDAx9DHA8SP"
      ]
    },
    {
      "cell_type": "markdown",
      "metadata": {
        "id": "tYdicxj6kt88"
      },
      "source": [
        "### Extract Dataset"
      ]
    },
    {
      "cell_type": "markdown",
      "metadata": {
        "id": "2rFQ78QCniwI"
      },
      "source": [
        "Unzipping dataset may take time"
      ]
    },
    {
      "cell_type": "code",
      "execution_count": 3,
      "metadata": {
        "id": "-H5LPwQtkwxn"
      },
      "outputs": [],
      "source": [
        "!unzip -q EchoNet-Dynamic.zip"
      ]
    },
    {
      "cell_type": "markdown",
      "metadata": {
        "id": "Oy5Itxgool4Z"
      },
      "source": [
        "Hapus file EchoNet-Dynamic.zip"
      ]
    },
    {
      "cell_type": "code",
      "execution_count": 4,
      "metadata": {
        "id": "uz-9UFVIopZj"
      },
      "outputs": [],
      "source": [
        "!rm EchoNet-Dynamic.zip"
      ]
    },
    {
      "cell_type": "markdown",
      "metadata": {
        "id": "1UpPQ8LqkG65"
      },
      "source": [
        "## Clone Project & install requirements"
      ]
    },
    {
      "cell_type": "code",
      "execution_count": 5,
      "metadata": {
        "colab": {
          "base_uri": "https://localhost:8080/"
        },
        "id": "2jSvI6GhkBR4",
        "outputId": "7a216ac6-42e2-489b-bc9e-6729ef57691c"
      },
      "outputs": [
        {
          "output_type": "stream",
          "name": "stdout",
          "text": [
            "Cloning into 'Swin-KD'...\n",
            "remote: Enumerating objects: 72, done.\u001b[K\n",
            "remote: Counting objects: 100% (72/72), done.\u001b[K\n",
            "remote: Compressing objects: 100% (49/49), done.\u001b[K\n",
            "remote: Total 72 (delta 27), reused 63 (delta 18), pack-reused 0\u001b[K\n",
            "Receiving objects: 100% (72/72), 43.19 KiB | 819.00 KiB/s, done.\n",
            "Resolving deltas: 100% (27/27), done.\n"
          ]
        }
      ],
      "source": [
        "!git clone https://github.com/cretin70707/Swin-KD"
      ]
    },
    {
      "cell_type": "code",
      "execution_count": 6,
      "metadata": {
        "colab": {
          "base_uri": "https://localhost:8080/"
        },
        "id": "gFUNljfbMbzP",
        "outputId": "bc43acd0-14ef-4744-f278-2bb555314c7b"
      },
      "outputs": [
        {
          "output_type": "stream",
          "name": "stdout",
          "text": [
            "/content/Swin-KD\n"
          ]
        }
      ],
      "source": [
        "%cd Swin-KD"
      ]
    },
    {
      "cell_type": "code",
      "execution_count": 7,
      "metadata": {
        "colab": {
          "base_uri": "https://localhost:8080/"
        },
        "id": "qIz7lGQcMlXv",
        "outputId": "049cb654-e744-417c-df17-af1657f549e7"
      },
      "outputs": [
        {
          "output_type": "stream",
          "name": "stdout",
          "text": [
            "Collecting pytorch_lightning (from -r requirements_pip.txt (line 1))\n",
            "  Downloading pytorch_lightning-2.2.3-py3-none-any.whl (802 kB)\n",
            "\u001b[2K     \u001b[90m━━━━━━━━━━━━━━━━━━━━━━━━━━━━━━━━━━━━━━━━\u001b[0m \u001b[32m802.2/802.2 kB\u001b[0m \u001b[31m10.6 MB/s\u001b[0m eta \u001b[36m0:00:00\u001b[0m\n",
            "\u001b[?25hCollecting timm (from -r requirements_pip.txt (line 2))\n",
            "  Downloading timm-0.9.16-py3-none-any.whl (2.2 MB)\n",
            "\u001b[2K     \u001b[90m━━━━━━━━━━━━━━━━━━━━━━━━━━━━━━━━━━━━━━━━\u001b[0m \u001b[32m2.2/2.2 MB\u001b[0m \u001b[31m21.9 MB/s\u001b[0m eta \u001b[36m0:00:00\u001b[0m\n",
            "\u001b[?25hCollecting einops (from -r requirements_pip.txt (line 3))\n",
            "  Downloading einops-0.8.0-py3-none-any.whl (43 kB)\n",
            "\u001b[2K     \u001b[90m━━━━━━━━━━━━━━━━━━━━━━━━━━━━━━━━━━━━━━━━\u001b[0m \u001b[32m43.2/43.2 kB\u001b[0m \u001b[31m5.5 MB/s\u001b[0m eta \u001b[36m0:00:00\u001b[0m\n",
            "\u001b[?25hCollecting vidaug (from -r requirements_pip.txt (line 4))\n",
            "  Downloading vidaug-1.5-py3-none-any.whl (13 kB)\n",
            "Requirement already satisfied: scikit_image in /usr/local/lib/python3.10/dist-packages (from -r requirements_pip.txt (line 5)) (0.19.3)\n",
            "Requirement already satisfied: scikit-learn in /usr/local/lib/python3.10/dist-packages (from -r requirements_pip.txt (line 6)) (1.2.2)\n",
            "Requirement already satisfied: numpy>=1.17.2 in /usr/local/lib/python3.10/dist-packages (from pytorch_lightning->-r requirements_pip.txt (line 1)) (1.25.2)\n",
            "Requirement already satisfied: torch>=1.13.0 in /usr/local/lib/python3.10/dist-packages (from pytorch_lightning->-r requirements_pip.txt (line 1)) (2.2.1+cu121)\n",
            "Requirement already satisfied: tqdm>=4.57.0 in /usr/local/lib/python3.10/dist-packages (from pytorch_lightning->-r requirements_pip.txt (line 1)) (4.66.2)\n",
            "Requirement already satisfied: PyYAML>=5.4 in /usr/local/lib/python3.10/dist-packages (from pytorch_lightning->-r requirements_pip.txt (line 1)) (6.0.1)\n",
            "Requirement already satisfied: fsspec[http]>=2022.5.0 in /usr/local/lib/python3.10/dist-packages (from pytorch_lightning->-r requirements_pip.txt (line 1)) (2023.6.0)\n",
            "Collecting torchmetrics>=0.7.0 (from pytorch_lightning->-r requirements_pip.txt (line 1))\n",
            "  Downloading torchmetrics-1.3.2-py3-none-any.whl (841 kB)\n",
            "\u001b[2K     \u001b[90m━━━━━━━━━━━━━━━━━━━━━━━━━━━━━━━━━━━━━━━━\u001b[0m \u001b[32m841.5/841.5 kB\u001b[0m \u001b[31m28.7 MB/s\u001b[0m eta \u001b[36m0:00:00\u001b[0m\n",
            "\u001b[?25hRequirement already satisfied: packaging>=20.0 in /usr/local/lib/python3.10/dist-packages (from pytorch_lightning->-r requirements_pip.txt (line 1)) (24.0)\n",
            "Requirement already satisfied: typing-extensions>=4.4.0 in /usr/local/lib/python3.10/dist-packages (from pytorch_lightning->-r requirements_pip.txt (line 1)) (4.11.0)\n",
            "Collecting lightning-utilities>=0.8.0 (from pytorch_lightning->-r requirements_pip.txt (line 1))\n",
            "  Downloading lightning_utilities-0.11.2-py3-none-any.whl (26 kB)\n",
            "Requirement already satisfied: torchvision in /usr/local/lib/python3.10/dist-packages (from timm->-r requirements_pip.txt (line 2)) (0.17.1+cu121)\n",
            "Requirement already satisfied: huggingface_hub in /usr/local/lib/python3.10/dist-packages (from timm->-r requirements_pip.txt (line 2)) (0.20.3)\n",
            "Requirement already satisfied: safetensors in /usr/local/lib/python3.10/dist-packages (from timm->-r requirements_pip.txt (line 2)) (0.4.3)\n",
            "Requirement already satisfied: scipy>=1.4.1 in /usr/local/lib/python3.10/dist-packages (from scikit_image->-r requirements_pip.txt (line 5)) (1.11.4)\n",
            "Requirement already satisfied: networkx>=2.2 in /usr/local/lib/python3.10/dist-packages (from scikit_image->-r requirements_pip.txt (line 5)) (3.3)\n",
            "Requirement already satisfied: pillow!=7.1.0,!=7.1.1,!=8.3.0,>=6.1.0 in /usr/local/lib/python3.10/dist-packages (from scikit_image->-r requirements_pip.txt (line 5)) (9.4.0)\n",
            "Requirement already satisfied: imageio>=2.4.1 in /usr/local/lib/python3.10/dist-packages (from scikit_image->-r requirements_pip.txt (line 5)) (2.31.6)\n",
            "Requirement already satisfied: tifffile>=2019.7.26 in /usr/local/lib/python3.10/dist-packages (from scikit_image->-r requirements_pip.txt (line 5)) (2024.4.18)\n",
            "Requirement already satisfied: PyWavelets>=1.1.1 in /usr/local/lib/python3.10/dist-packages (from scikit_image->-r requirements_pip.txt (line 5)) (1.6.0)\n",
            "Requirement already satisfied: joblib>=1.1.1 in /usr/local/lib/python3.10/dist-packages (from scikit-learn->-r requirements_pip.txt (line 6)) (1.4.0)\n",
            "Requirement already satisfied: threadpoolctl>=2.0.0 in /usr/local/lib/python3.10/dist-packages (from scikit-learn->-r requirements_pip.txt (line 6)) (3.4.0)\n",
            "Requirement already satisfied: requests in /usr/local/lib/python3.10/dist-packages (from fsspec[http]>=2022.5.0->pytorch_lightning->-r requirements_pip.txt (line 1)) (2.31.0)\n",
            "Requirement already satisfied: aiohttp!=4.0.0a0,!=4.0.0a1 in /usr/local/lib/python3.10/dist-packages (from fsspec[http]>=2022.5.0->pytorch_lightning->-r requirements_pip.txt (line 1)) (3.9.5)\n",
            "Requirement already satisfied: setuptools in /usr/local/lib/python3.10/dist-packages (from lightning-utilities>=0.8.0->pytorch_lightning->-r requirements_pip.txt (line 1)) (67.7.2)\n",
            "Requirement already satisfied: filelock in /usr/local/lib/python3.10/dist-packages (from torch>=1.13.0->pytorch_lightning->-r requirements_pip.txt (line 1)) (3.13.4)\n",
            "Requirement already satisfied: sympy in /usr/local/lib/python3.10/dist-packages (from torch>=1.13.0->pytorch_lightning->-r requirements_pip.txt (line 1)) (1.12)\n",
            "Requirement already satisfied: jinja2 in /usr/local/lib/python3.10/dist-packages (from torch>=1.13.0->pytorch_lightning->-r requirements_pip.txt (line 1)) (3.1.3)\n",
            "Collecting nvidia-cuda-nvrtc-cu12==12.1.105 (from torch>=1.13.0->pytorch_lightning->-r requirements_pip.txt (line 1))\n",
            "  Using cached nvidia_cuda_nvrtc_cu12-12.1.105-py3-none-manylinux1_x86_64.whl (23.7 MB)\n",
            "Collecting nvidia-cuda-runtime-cu12==12.1.105 (from torch>=1.13.0->pytorch_lightning->-r requirements_pip.txt (line 1))\n",
            "  Using cached nvidia_cuda_runtime_cu12-12.1.105-py3-none-manylinux1_x86_64.whl (823 kB)\n",
            "Collecting nvidia-cuda-cupti-cu12==12.1.105 (from torch>=1.13.0->pytorch_lightning->-r requirements_pip.txt (line 1))\n",
            "  Using cached nvidia_cuda_cupti_cu12-12.1.105-py3-none-manylinux1_x86_64.whl (14.1 MB)\n",
            "Collecting nvidia-cudnn-cu12==8.9.2.26 (from torch>=1.13.0->pytorch_lightning->-r requirements_pip.txt (line 1))\n",
            "  Using cached nvidia_cudnn_cu12-8.9.2.26-py3-none-manylinux1_x86_64.whl (731.7 MB)\n",
            "Collecting nvidia-cublas-cu12==12.1.3.1 (from torch>=1.13.0->pytorch_lightning->-r requirements_pip.txt (line 1))\n",
            "  Using cached nvidia_cublas_cu12-12.1.3.1-py3-none-manylinux1_x86_64.whl (410.6 MB)\n",
            "Collecting nvidia-cufft-cu12==11.0.2.54 (from torch>=1.13.0->pytorch_lightning->-r requirements_pip.txt (line 1))\n",
            "  Using cached nvidia_cufft_cu12-11.0.2.54-py3-none-manylinux1_x86_64.whl (121.6 MB)\n",
            "Collecting nvidia-curand-cu12==10.3.2.106 (from torch>=1.13.0->pytorch_lightning->-r requirements_pip.txt (line 1))\n",
            "  Using cached nvidia_curand_cu12-10.3.2.106-py3-none-manylinux1_x86_64.whl (56.5 MB)\n",
            "Collecting nvidia-cusolver-cu12==11.4.5.107 (from torch>=1.13.0->pytorch_lightning->-r requirements_pip.txt (line 1))\n",
            "  Using cached nvidia_cusolver_cu12-11.4.5.107-py3-none-manylinux1_x86_64.whl (124.2 MB)\n",
            "Collecting nvidia-cusparse-cu12==12.1.0.106 (from torch>=1.13.0->pytorch_lightning->-r requirements_pip.txt (line 1))\n",
            "  Using cached nvidia_cusparse_cu12-12.1.0.106-py3-none-manylinux1_x86_64.whl (196.0 MB)\n",
            "Collecting nvidia-nccl-cu12==2.19.3 (from torch>=1.13.0->pytorch_lightning->-r requirements_pip.txt (line 1))\n",
            "  Using cached nvidia_nccl_cu12-2.19.3-py3-none-manylinux1_x86_64.whl (166.0 MB)\n",
            "Collecting nvidia-nvtx-cu12==12.1.105 (from torch>=1.13.0->pytorch_lightning->-r requirements_pip.txt (line 1))\n",
            "  Using cached nvidia_nvtx_cu12-12.1.105-py3-none-manylinux1_x86_64.whl (99 kB)\n",
            "Requirement already satisfied: triton==2.2.0 in /usr/local/lib/python3.10/dist-packages (from torch>=1.13.0->pytorch_lightning->-r requirements_pip.txt (line 1)) (2.2.0)\n",
            "Collecting nvidia-nvjitlink-cu12 (from nvidia-cusolver-cu12==11.4.5.107->torch>=1.13.0->pytorch_lightning->-r requirements_pip.txt (line 1))\n",
            "  Using cached nvidia_nvjitlink_cu12-12.4.127-py3-none-manylinux2014_x86_64.whl (21.1 MB)\n",
            "Requirement already satisfied: aiosignal>=1.1.2 in /usr/local/lib/python3.10/dist-packages (from aiohttp!=4.0.0a0,!=4.0.0a1->fsspec[http]>=2022.5.0->pytorch_lightning->-r requirements_pip.txt (line 1)) (1.3.1)\n",
            "Requirement already satisfied: attrs>=17.3.0 in /usr/local/lib/python3.10/dist-packages (from aiohttp!=4.0.0a0,!=4.0.0a1->fsspec[http]>=2022.5.0->pytorch_lightning->-r requirements_pip.txt (line 1)) (23.2.0)\n",
            "Requirement already satisfied: frozenlist>=1.1.1 in /usr/local/lib/python3.10/dist-packages (from aiohttp!=4.0.0a0,!=4.0.0a1->fsspec[http]>=2022.5.0->pytorch_lightning->-r requirements_pip.txt (line 1)) (1.4.1)\n",
            "Requirement already satisfied: multidict<7.0,>=4.5 in /usr/local/lib/python3.10/dist-packages (from aiohttp!=4.0.0a0,!=4.0.0a1->fsspec[http]>=2022.5.0->pytorch_lightning->-r requirements_pip.txt (line 1)) (6.0.5)\n",
            "Requirement already satisfied: yarl<2.0,>=1.0 in /usr/local/lib/python3.10/dist-packages (from aiohttp!=4.0.0a0,!=4.0.0a1->fsspec[http]>=2022.5.0->pytorch_lightning->-r requirements_pip.txt (line 1)) (1.9.4)\n",
            "Requirement already satisfied: async-timeout<5.0,>=4.0 in /usr/local/lib/python3.10/dist-packages (from aiohttp!=4.0.0a0,!=4.0.0a1->fsspec[http]>=2022.5.0->pytorch_lightning->-r requirements_pip.txt (line 1)) (4.0.3)\n",
            "Requirement already satisfied: MarkupSafe>=2.0 in /usr/local/lib/python3.10/dist-packages (from jinja2->torch>=1.13.0->pytorch_lightning->-r requirements_pip.txt (line 1)) (2.1.5)\n",
            "Requirement already satisfied: charset-normalizer<4,>=2 in /usr/local/lib/python3.10/dist-packages (from requests->fsspec[http]>=2022.5.0->pytorch_lightning->-r requirements_pip.txt (line 1)) (3.3.2)\n",
            "Requirement already satisfied: idna<4,>=2.5 in /usr/local/lib/python3.10/dist-packages (from requests->fsspec[http]>=2022.5.0->pytorch_lightning->-r requirements_pip.txt (line 1)) (3.7)\n",
            "Requirement already satisfied: urllib3<3,>=1.21.1 in /usr/local/lib/python3.10/dist-packages (from requests->fsspec[http]>=2022.5.0->pytorch_lightning->-r requirements_pip.txt (line 1)) (2.0.7)\n",
            "Requirement already satisfied: certifi>=2017.4.17 in /usr/local/lib/python3.10/dist-packages (from requests->fsspec[http]>=2022.5.0->pytorch_lightning->-r requirements_pip.txt (line 1)) (2024.2.2)\n",
            "Requirement already satisfied: mpmath>=0.19 in /usr/local/lib/python3.10/dist-packages (from sympy->torch>=1.13.0->pytorch_lightning->-r requirements_pip.txt (line 1)) (1.3.0)\n",
            "Installing collected packages: vidaug, nvidia-nvtx-cu12, nvidia-nvjitlink-cu12, nvidia-nccl-cu12, nvidia-curand-cu12, nvidia-cufft-cu12, nvidia-cuda-runtime-cu12, nvidia-cuda-nvrtc-cu12, nvidia-cuda-cupti-cu12, nvidia-cublas-cu12, lightning-utilities, einops, nvidia-cusparse-cu12, nvidia-cudnn-cu12, nvidia-cusolver-cu12, torchmetrics, timm, pytorch_lightning\n",
            "Successfully installed einops-0.8.0 lightning-utilities-0.11.2 nvidia-cublas-cu12-12.1.3.1 nvidia-cuda-cupti-cu12-12.1.105 nvidia-cuda-nvrtc-cu12-12.1.105 nvidia-cuda-runtime-cu12-12.1.105 nvidia-cudnn-cu12-8.9.2.26 nvidia-cufft-cu12-11.0.2.54 nvidia-curand-cu12-10.3.2.106 nvidia-cusolver-cu12-11.4.5.107 nvidia-cusparse-cu12-12.1.0.106 nvidia-nccl-cu12-2.19.3 nvidia-nvjitlink-cu12-12.4.127 nvidia-nvtx-cu12-12.1.105 pytorch_lightning-2.2.3 timm-0.9.16 torchmetrics-1.3.2 vidaug-1.5\n"
          ]
        }
      ],
      "source": [
        "!pip install -r requirements_pip.txt"
      ]
    },
    {
      "cell_type": "markdown",
      "metadata": {
        "id": "rJajo_jdmLXe"
      },
      "source": [
        "# Test UltraSwin-base"
      ]
    },
    {
      "cell_type": "markdown",
      "metadata": {
        "id": "Dsz7XwysmO3z"
      },
      "source": [
        "## Download Pre-trained Model"
      ]
    },
    {
      "cell_type": "code",
      "execution_count": null,
      "metadata": {
        "colab": {
          "base_uri": "https://localhost:8080/"
        },
        "id": "g30t2R6imSdQ",
        "outputId": "0de98684-3ac4-4e3d-b2fa-9216f54eda41"
      },
      "outputs": [
        {
          "name": "stdout",
          "output_type": "stream",
          "text": [
            "Downloading...\n",
            "From (original): https://drive.google.com/uc?id=1ANB1NdKW8trQ9UvwtToN8z6cTnuv2Ii4\n",
            "From (redirected): https://drive.google.com/uc?id=1ANB1NdKW8trQ9UvwtToN8z6cTnuv2Ii4&confirm=t&uuid=4e1dbaee-3045-47d2-afab-04ea0cca4dcb\n",
            "To: /content/UltraSwin/UltraSwin-base-epoch=19-step=17920.ckpt\n",
            " 13% 133M/1.06G [00:01<00:13, 68.1MB/s]Traceback (most recent call last):\n",
            "  File \"/usr/local/bin/gdown\", line 8, in <module>\n",
            "    sys.exit(main())\n",
            "  File \"/usr/local/lib/python3.10/dist-packages/gdown/cli.py\", line 169, in main\n",
            "    download(\n",
            "  File \"/usr/local/lib/python3.10/dist-packages/gdown/download.py\", line 325, in download\n",
            "    for chunk in res.iter_content(chunk_size=CHUNK_SIZE):\n",
            "  File \"/usr/local/lib/python3.10/dist-packages/requests/models.py\", line 816, in generate\n",
            "    yield from self.raw.stream(chunk_size, decode_content=True)\n",
            "  File \"/usr/local/lib/python3.10/dist-packages/urllib3/response.py\", line 936, in stream\n",
            "    data = self.read(amt=amt, decode_content=decode_content)\n",
            "  File \"/usr/local/lib/python3.10/dist-packages/urllib3/response.py\", line 879, in read\n",
            "    data = self._raw_read(amt)\n",
            "  File \"/usr/local/lib/python3.10/dist-packages/urllib3/response.py\", line 814, in _raw_read\n",
            "    data = self._fp_read(amt) if not fp_closed else b\"\"\n",
            "  File \"/usr/local/lib/python3.10/dist-packages/urllib3/response.py\", line 799, in _fp_read\n",
            "    return self._fp.read(amt) if amt is not None else self._fp.read()\n",
            "  File \"/usr/lib/python3.10/http/client.py\", line 466, in read\n",
            "    s = self.fp.read(amt)\n",
            "  File \"/usr/lib/python3.10/socket.py\", line 705, in readinto\n",
            "    return self._sock.recv_into(b)\n",
            "  File \"/usr/lib/python3.10/ssl.py\", line 1303, in recv_into\n",
            "    return self.read(nbytes, buffer)\n",
            "  File \"/usr/lib/python3.10/ssl.py\", line 1159, in read\n",
            "    return self._sslobj.read(len, buffer)\n",
            "KeyboardInterrupt\n",
            " 14% 147M/1.06G [00:02<00:13, 68.5MB/s]\n",
            "^C\n"
          ]
        }
      ],
      "source": [
        "!gdown 1ANB1NdKW8trQ9UvwtToN8z6cTnuv2Ii4"
      ]
    },
    {
      "cell_type": "markdown",
      "metadata": {
        "id": "KxNuFI81mqgI"
      },
      "source": [
        "## Melakukan Test"
      ]
    },
    {
      "cell_type": "code",
      "execution_count": null,
      "metadata": {
        "colab": {
          "base_uri": "https://localhost:8080/",
          "height": 280
        },
        "id": "P5-T6zDbmsLN",
        "outputId": "6d7b8307-2a44-44bd-b303-233d16740d3e"
      },
      "outputs": [
        {
          "ename": "KeyboardInterrupt",
          "evalue": "",
          "output_type": "error",
          "traceback": [
            "\u001b[0;31m---------------------------------------------------------------------------\u001b[0m",
            "\u001b[0;31mKeyboardInterrupt\u001b[0m                         Traceback (most recent call last)",
            "\u001b[0;32m/content/UltraSwin/main.py\u001b[0m in \u001b[0;36m<module>\u001b[0;34m\u001b[0m\n\u001b[1;32m      1\u001b[0m \u001b[0;32mimport\u001b[0m \u001b[0margparse\u001b[0m\u001b[0;34m\u001b[0m\u001b[0;34m\u001b[0m\u001b[0m\n\u001b[1;32m      2\u001b[0m \u001b[0;32mimport\u001b[0m \u001b[0mpytorch_lightning\u001b[0m \u001b[0;32mas\u001b[0m \u001b[0mpl\u001b[0m\u001b[0;34m\u001b[0m\u001b[0;34m\u001b[0m\u001b[0m\n\u001b[0;32m----> 3\u001b[0;31m \u001b[0;32mfrom\u001b[0m \u001b[0mmodels\u001b[0m\u001b[0;34m.\u001b[0m\u001b[0multra_swin\u001b[0m \u001b[0;32mimport\u001b[0m \u001b[0mUltraSwin\u001b[0m\u001b[0;34m\u001b[0m\u001b[0;34m\u001b[0m\u001b[0m\n\u001b[0m\u001b[1;32m      4\u001b[0m \u001b[0;32mfrom\u001b[0m \u001b[0mdatamodules\u001b[0m\u001b[0;34m.\u001b[0m\u001b[0mEchoNetDataModule\u001b[0m \u001b[0;32mimport\u001b[0m \u001b[0mEchoNetDataModule\u001b[0m\u001b[0;34m\u001b[0m\u001b[0;34m\u001b[0m\u001b[0m\n\u001b[1;32m      5\u001b[0m \u001b[0;32mfrom\u001b[0m \u001b[0mpytorch_lightning\u001b[0m\u001b[0;34m.\u001b[0m\u001b[0mloggers\u001b[0m \u001b[0;32mimport\u001b[0m \u001b[0mTensorBoardLogger\u001b[0m\u001b[0;34m\u001b[0m\u001b[0;34m\u001b[0m\u001b[0m\n",
            "\u001b[0;32m/content/UltraSwin/models/ultra_swin.py\u001b[0m in \u001b[0;36m<module>\u001b[0;34m\u001b[0m\n\u001b[1;32m      7\u001b[0m \u001b[0;34m\u001b[0m\u001b[0m\n\u001b[1;32m      8\u001b[0m \u001b[0;32mfrom\u001b[0m \u001b[0mtorch\u001b[0m\u001b[0;34m.\u001b[0m\u001b[0mnn\u001b[0m \u001b[0;32mimport\u001b[0m \u001b[0mfunctional\u001b[0m \u001b[0;32mas\u001b[0m \u001b[0mF\u001b[0m\u001b[0;34m\u001b[0m\u001b[0;34m\u001b[0m\u001b[0m\n\u001b[0;32m----> 9\u001b[0;31m \u001b[0;32mfrom\u001b[0m \u001b[0mbackbones\u001b[0m\u001b[0;34m.\u001b[0m\u001b[0mswin_transformer\u001b[0m \u001b[0;32mimport\u001b[0m \u001b[0mSwinTransformer3D\u001b[0m\u001b[0;34m\u001b[0m\u001b[0;34m\u001b[0m\u001b[0m\n\u001b[0m\u001b[1;32m     10\u001b[0m \u001b[0;32mfrom\u001b[0m \u001b[0meinops\u001b[0m \u001b[0;32mimport\u001b[0m \u001b[0mrearrange\u001b[0m\u001b[0;34m\u001b[0m\u001b[0;34m\u001b[0m\u001b[0m\n\u001b[1;32m     11\u001b[0m \u001b[0;32mfrom\u001b[0m \u001b[0mutils\u001b[0m\u001b[0;34m.\u001b[0m\u001b[0mtensor_utils\u001b[0m \u001b[0;32mimport\u001b[0m \u001b[0mReduce\u001b[0m\u001b[0;34m\u001b[0m\u001b[0;34m\u001b[0m\u001b[0m\n",
            "\u001b[0;32m/content/UltraSwin/backbones/swin_transformer.py\u001b[0m in \u001b[0;36m<module>\u001b[0;34m\u001b[0m\n\u001b[1;32m      4\u001b[0m \u001b[0;32mimport\u001b[0m \u001b[0mtorch\u001b[0m\u001b[0;34m.\u001b[0m\u001b[0mutils\u001b[0m\u001b[0;34m.\u001b[0m\u001b[0mcheckpoint\u001b[0m \u001b[0;32mas\u001b[0m \u001b[0mcheckpoint\u001b[0m\u001b[0;34m\u001b[0m\u001b[0;34m\u001b[0m\u001b[0m\n\u001b[1;32m      5\u001b[0m \u001b[0;32mimport\u001b[0m \u001b[0mnumpy\u001b[0m \u001b[0;32mas\u001b[0m \u001b[0mnp\u001b[0m\u001b[0;34m\u001b[0m\u001b[0;34m\u001b[0m\u001b[0m\n\u001b[0;32m----> 6\u001b[0;31m \u001b[0;32mfrom\u001b[0m \u001b[0mtimm\u001b[0m\u001b[0;34m.\u001b[0m\u001b[0mmodels\u001b[0m\u001b[0;34m.\u001b[0m\u001b[0mlayers\u001b[0m \u001b[0;32mimport\u001b[0m \u001b[0mDropPath\u001b[0m\u001b[0;34m,\u001b[0m \u001b[0mtrunc_normal_\u001b[0m\u001b[0;34m\u001b[0m\u001b[0;34m\u001b[0m\u001b[0m\n\u001b[0m\u001b[1;32m      7\u001b[0m \u001b[0;34m\u001b[0m\u001b[0m\n\u001b[1;32m      8\u001b[0m \u001b[0;31m#from mmcv.runner import load_checkpoint\u001b[0m\u001b[0;34m\u001b[0m\u001b[0;34m\u001b[0m\u001b[0m\n",
            "\u001b[0;32m/usr/local/lib/python3.10/dist-packages/timm/__init__.py\u001b[0m in \u001b[0;36m<module>\u001b[0;34m\u001b[0m\n\u001b[1;32m      1\u001b[0m \u001b[0;32mfrom\u001b[0m \u001b[0;34m.\u001b[0m\u001b[0mversion\u001b[0m \u001b[0;32mimport\u001b[0m \u001b[0m__version__\u001b[0m\u001b[0;34m\u001b[0m\u001b[0;34m\u001b[0m\u001b[0m\n\u001b[0;32m----> 2\u001b[0;31m \u001b[0;32mfrom\u001b[0m \u001b[0;34m.\u001b[0m\u001b[0mlayers\u001b[0m \u001b[0;32mimport\u001b[0m \u001b[0mis_scriptable\u001b[0m\u001b[0;34m,\u001b[0m \u001b[0mis_exportable\u001b[0m\u001b[0;34m,\u001b[0m \u001b[0mset_scriptable\u001b[0m\u001b[0;34m,\u001b[0m \u001b[0mset_exportable\u001b[0m\u001b[0;34m\u001b[0m\u001b[0;34m\u001b[0m\u001b[0m\n\u001b[0m\u001b[1;32m      3\u001b[0m \u001b[0;32mfrom\u001b[0m \u001b[0;34m.\u001b[0m\u001b[0mmodels\u001b[0m \u001b[0;32mimport\u001b[0m \u001b[0mcreate_model\u001b[0m\u001b[0;34m,\u001b[0m \u001b[0mlist_models\u001b[0m\u001b[0;34m,\u001b[0m \u001b[0mlist_pretrained\u001b[0m\u001b[0;34m,\u001b[0m \u001b[0mis_model\u001b[0m\u001b[0;34m,\u001b[0m \u001b[0mlist_modules\u001b[0m\u001b[0;34m,\u001b[0m \u001b[0mmodel_entrypoint\u001b[0m\u001b[0;34m,\u001b[0m\u001b[0;31m \u001b[0m\u001b[0;31m\\\u001b[0m\u001b[0;34m\u001b[0m\u001b[0;34m\u001b[0m\u001b[0m\n\u001b[1;32m      4\u001b[0m     \u001b[0mis_model_pretrained\u001b[0m\u001b[0;34m,\u001b[0m \u001b[0mget_pretrained_cfg\u001b[0m\u001b[0;34m,\u001b[0m \u001b[0mget_pretrained_cfg_value\u001b[0m\u001b[0;34m\u001b[0m\u001b[0;34m\u001b[0m\u001b[0m\n",
            "\u001b[0;32m/usr/local/lib/python3.10/dist-packages/timm/layers/__init__.py\u001b[0m in \u001b[0;36m<module>\u001b[0;34m\u001b[0m\n\u001b[1;32m      5\u001b[0m \u001b[0;32mfrom\u001b[0m \u001b[0;34m.\u001b[0m\u001b[0mattention_pool2d\u001b[0m \u001b[0;32mimport\u001b[0m \u001b[0mAttentionPool2d\u001b[0m\u001b[0;34m,\u001b[0m \u001b[0mRotAttentionPool2d\u001b[0m\u001b[0;34m,\u001b[0m \u001b[0mRotaryEmbedding\u001b[0m\u001b[0;34m\u001b[0m\u001b[0;34m\u001b[0m\u001b[0m\n\u001b[1;32m      6\u001b[0m \u001b[0;32mfrom\u001b[0m \u001b[0;34m.\u001b[0m\u001b[0mblur_pool\u001b[0m \u001b[0;32mimport\u001b[0m \u001b[0mBlurPool2d\u001b[0m\u001b[0;34m\u001b[0m\u001b[0;34m\u001b[0m\u001b[0m\n\u001b[0;32m----> 7\u001b[0;31m \u001b[0;32mfrom\u001b[0m \u001b[0;34m.\u001b[0m\u001b[0mclassifier\u001b[0m \u001b[0;32mimport\u001b[0m \u001b[0mClassifierHead\u001b[0m\u001b[0;34m,\u001b[0m \u001b[0mcreate_classifier\u001b[0m\u001b[0;34m,\u001b[0m \u001b[0mNormMlpClassifierHead\u001b[0m\u001b[0;34m\u001b[0m\u001b[0;34m\u001b[0m\u001b[0m\n\u001b[0m\u001b[1;32m      8\u001b[0m \u001b[0;32mfrom\u001b[0m \u001b[0;34m.\u001b[0m\u001b[0mcond_conv2d\u001b[0m \u001b[0;32mimport\u001b[0m \u001b[0mCondConv2d\u001b[0m\u001b[0;34m,\u001b[0m \u001b[0mget_condconv_initializer\u001b[0m\u001b[0;34m\u001b[0m\u001b[0;34m\u001b[0m\u001b[0m\n\u001b[1;32m      9\u001b[0m \u001b[0;32mfrom\u001b[0m \u001b[0;34m.\u001b[0m\u001b[0mconfig\u001b[0m \u001b[0;32mimport\u001b[0m \u001b[0mis_exportable\u001b[0m\u001b[0;34m,\u001b[0m \u001b[0mis_scriptable\u001b[0m\u001b[0;34m,\u001b[0m \u001b[0mis_no_jit\u001b[0m\u001b[0;34m,\u001b[0m \u001b[0muse_fused_attn\u001b[0m\u001b[0;34m,\u001b[0m\u001b[0;31m \u001b[0m\u001b[0;31m\\\u001b[0m\u001b[0;34m\u001b[0m\u001b[0;34m\u001b[0m\u001b[0m\n",
            "\u001b[0;32m/usr/local/lib/python3.10/dist-packages/timm/layers/classifier.py\u001b[0m in \u001b[0;36m<module>\u001b[0;34m\u001b[0m\n\u001b[1;32m     13\u001b[0m \u001b[0;32mfrom\u001b[0m \u001b[0;34m.\u001b[0m\u001b[0madaptive_avgmax_pool\u001b[0m \u001b[0;32mimport\u001b[0m \u001b[0mSelectAdaptivePool2d\u001b[0m\u001b[0;34m\u001b[0m\u001b[0;34m\u001b[0m\u001b[0m\n\u001b[1;32m     14\u001b[0m \u001b[0;32mfrom\u001b[0m \u001b[0;34m.\u001b[0m\u001b[0mcreate_act\u001b[0m \u001b[0;32mimport\u001b[0m \u001b[0mget_act_layer\u001b[0m\u001b[0;34m\u001b[0m\u001b[0;34m\u001b[0m\u001b[0m\n\u001b[0;32m---> 15\u001b[0;31m \u001b[0;32mfrom\u001b[0m \u001b[0;34m.\u001b[0m\u001b[0mcreate_norm\u001b[0m \u001b[0;32mimport\u001b[0m \u001b[0mget_norm_layer\u001b[0m\u001b[0;34m\u001b[0m\u001b[0;34m\u001b[0m\u001b[0m\n\u001b[0m\u001b[1;32m     16\u001b[0m \u001b[0;34m\u001b[0m\u001b[0m\n\u001b[1;32m     17\u001b[0m \u001b[0;34m\u001b[0m\u001b[0m\n",
            "\u001b[0;32m/usr/local/lib/python3.10/dist-packages/timm/layers/create_norm.py\u001b[0m in \u001b[0;36m<module>\u001b[0;34m\u001b[0m\n\u001b[1;32m     12\u001b[0m \u001b[0;34m\u001b[0m\u001b[0m\n\u001b[1;32m     13\u001b[0m \u001b[0;32mfrom\u001b[0m \u001b[0;34m.\u001b[0m\u001b[0mnorm\u001b[0m \u001b[0;32mimport\u001b[0m \u001b[0mGroupNorm\u001b[0m\u001b[0;34m,\u001b[0m \u001b[0mGroupNorm1\u001b[0m\u001b[0;34m,\u001b[0m \u001b[0mLayerNorm\u001b[0m\u001b[0;34m,\u001b[0m \u001b[0mLayerNorm2d\u001b[0m\u001b[0;34m,\u001b[0m \u001b[0mRmsNorm\u001b[0m\u001b[0;34m\u001b[0m\u001b[0;34m\u001b[0m\u001b[0m\n\u001b[0;32m---> 14\u001b[0;31m \u001b[0;32mfrom\u001b[0m \u001b[0mtorchvision\u001b[0m\u001b[0;34m.\u001b[0m\u001b[0mops\u001b[0m\u001b[0;34m.\u001b[0m\u001b[0mmisc\u001b[0m \u001b[0;32mimport\u001b[0m \u001b[0mFrozenBatchNorm2d\u001b[0m\u001b[0;34m\u001b[0m\u001b[0;34m\u001b[0m\u001b[0m\n\u001b[0m\u001b[1;32m     15\u001b[0m \u001b[0;34m\u001b[0m\u001b[0m\n\u001b[1;32m     16\u001b[0m _NORM_MAP = dict(\n",
            "\u001b[0;32m/usr/local/lib/python3.10/dist-packages/torchvision/__init__.py\u001b[0m in \u001b[0;36m<module>\u001b[0;34m\u001b[0m\n\u001b[1;32m      4\u001b[0m \u001b[0;34m\u001b[0m\u001b[0m\n\u001b[1;32m      5\u001b[0m \u001b[0;32mimport\u001b[0m \u001b[0mtorch\u001b[0m\u001b[0;34m\u001b[0m\u001b[0;34m\u001b[0m\u001b[0m\n\u001b[0;32m----> 6\u001b[0;31m \u001b[0;32mfrom\u001b[0m \u001b[0mtorchvision\u001b[0m \u001b[0;32mimport\u001b[0m \u001b[0m_meta_registrations\u001b[0m\u001b[0;34m,\u001b[0m \u001b[0mdatasets\u001b[0m\u001b[0;34m,\u001b[0m \u001b[0mio\u001b[0m\u001b[0;34m,\u001b[0m \u001b[0mmodels\u001b[0m\u001b[0;34m,\u001b[0m \u001b[0mops\u001b[0m\u001b[0;34m,\u001b[0m \u001b[0mtransforms\u001b[0m\u001b[0;34m,\u001b[0m \u001b[0mutils\u001b[0m\u001b[0;34m\u001b[0m\u001b[0;34m\u001b[0m\u001b[0m\n\u001b[0m\u001b[1;32m      7\u001b[0m \u001b[0;34m\u001b[0m\u001b[0m\n\u001b[1;32m      8\u001b[0m \u001b[0;32mfrom\u001b[0m \u001b[0;34m.\u001b[0m\u001b[0mextension\u001b[0m \u001b[0;32mimport\u001b[0m \u001b[0m_HAS_OPS\u001b[0m\u001b[0;34m\u001b[0m\u001b[0;34m\u001b[0m\u001b[0m\n",
            "\u001b[0;32m/usr/local/lib/python3.10/dist-packages/torchvision/models/__init__.py\u001b[0m in \u001b[0;36m<module>\u001b[0;34m\u001b[0m\n\u001b[1;32m      1\u001b[0m \u001b[0;32mfrom\u001b[0m \u001b[0;34m.\u001b[0m\u001b[0malexnet\u001b[0m \u001b[0;32mimport\u001b[0m \u001b[0;34m*\u001b[0m\u001b[0;34m\u001b[0m\u001b[0;34m\u001b[0m\u001b[0m\n\u001b[0;32m----> 2\u001b[0;31m \u001b[0;32mfrom\u001b[0m \u001b[0;34m.\u001b[0m\u001b[0mconvnext\u001b[0m \u001b[0;32mimport\u001b[0m \u001b[0;34m*\u001b[0m\u001b[0;34m\u001b[0m\u001b[0;34m\u001b[0m\u001b[0m\n\u001b[0m\u001b[1;32m      3\u001b[0m \u001b[0;32mfrom\u001b[0m \u001b[0;34m.\u001b[0m\u001b[0mdensenet\u001b[0m \u001b[0;32mimport\u001b[0m \u001b[0;34m*\u001b[0m\u001b[0;34m\u001b[0m\u001b[0;34m\u001b[0m\u001b[0m\n\u001b[1;32m      4\u001b[0m \u001b[0;32mfrom\u001b[0m \u001b[0;34m.\u001b[0m\u001b[0mefficientnet\u001b[0m \u001b[0;32mimport\u001b[0m \u001b[0;34m*\u001b[0m\u001b[0;34m\u001b[0m\u001b[0;34m\u001b[0m\u001b[0m\n\u001b[1;32m      5\u001b[0m \u001b[0;32mfrom\u001b[0m \u001b[0;34m.\u001b[0m\u001b[0mgooglenet\u001b[0m \u001b[0;32mimport\u001b[0m \u001b[0;34m*\u001b[0m\u001b[0;34m\u001b[0m\u001b[0;34m\u001b[0m\u001b[0m\n",
            "\u001b[0;32m/usr/local/lib/python3.10/dist-packages/torchvision/models/convnext.py\u001b[0m in \u001b[0;36m<module>\u001b[0;34m\u001b[0m\n\u001b[1;32m      6\u001b[0m \u001b[0;32mfrom\u001b[0m \u001b[0mtorch\u001b[0m\u001b[0;34m.\u001b[0m\u001b[0mnn\u001b[0m \u001b[0;32mimport\u001b[0m \u001b[0mfunctional\u001b[0m \u001b[0;32mas\u001b[0m \u001b[0mF\u001b[0m\u001b[0;34m\u001b[0m\u001b[0;34m\u001b[0m\u001b[0m\n\u001b[1;32m      7\u001b[0m \u001b[0;34m\u001b[0m\u001b[0m\n\u001b[0;32m----> 8\u001b[0;31m \u001b[0;32mfrom\u001b[0m \u001b[0;34m.\u001b[0m\u001b[0;34m.\u001b[0m\u001b[0mops\u001b[0m\u001b[0;34m.\u001b[0m\u001b[0mmisc\u001b[0m \u001b[0;32mimport\u001b[0m \u001b[0mConv2dNormActivation\u001b[0m\u001b[0;34m,\u001b[0m \u001b[0mPermute\u001b[0m\u001b[0;34m\u001b[0m\u001b[0;34m\u001b[0m\u001b[0m\n\u001b[0m\u001b[1;32m      9\u001b[0m \u001b[0;32mfrom\u001b[0m \u001b[0;34m.\u001b[0m\u001b[0;34m.\u001b[0m\u001b[0mops\u001b[0m\u001b[0;34m.\u001b[0m\u001b[0mstochastic_depth\u001b[0m \u001b[0;32mimport\u001b[0m \u001b[0mStochasticDepth\u001b[0m\u001b[0;34m\u001b[0m\u001b[0;34m\u001b[0m\u001b[0m\n\u001b[1;32m     10\u001b[0m \u001b[0;32mfrom\u001b[0m \u001b[0;34m.\u001b[0m\u001b[0;34m.\u001b[0m\u001b[0mtransforms\u001b[0m\u001b[0;34m.\u001b[0m\u001b[0m_presets\u001b[0m \u001b[0;32mimport\u001b[0m \u001b[0mImageClassification\u001b[0m\u001b[0;34m\u001b[0m\u001b[0;34m\u001b[0m\u001b[0m\n",
            "\u001b[0;32m/usr/local/lib/python3.10/dist-packages/torchvision/ops/__init__.py\u001b[0m in \u001b[0;36m<module>\u001b[0;34m\u001b[0m\n\u001b[1;32m     21\u001b[0m \u001b[0;32mfrom\u001b[0m \u001b[0;34m.\u001b[0m\u001b[0mgiou_loss\u001b[0m \u001b[0;32mimport\u001b[0m \u001b[0mgeneralized_box_iou_loss\u001b[0m\u001b[0;34m\u001b[0m\u001b[0;34m\u001b[0m\u001b[0m\n\u001b[1;32m     22\u001b[0m \u001b[0;32mfrom\u001b[0m \u001b[0;34m.\u001b[0m\u001b[0mmisc\u001b[0m \u001b[0;32mimport\u001b[0m \u001b[0mConv2dNormActivation\u001b[0m\u001b[0;34m,\u001b[0m \u001b[0mConv3dNormActivation\u001b[0m\u001b[0;34m,\u001b[0m \u001b[0mFrozenBatchNorm2d\u001b[0m\u001b[0;34m,\u001b[0m \u001b[0mMLP\u001b[0m\u001b[0;34m,\u001b[0m \u001b[0mPermute\u001b[0m\u001b[0;34m,\u001b[0m \u001b[0mSqueezeExcitation\u001b[0m\u001b[0;34m\u001b[0m\u001b[0;34m\u001b[0m\u001b[0m\n\u001b[0;32m---> 23\u001b[0;31m \u001b[0;32mfrom\u001b[0m \u001b[0;34m.\u001b[0m\u001b[0mpoolers\u001b[0m \u001b[0;32mimport\u001b[0m \u001b[0mMultiScaleRoIAlign\u001b[0m\u001b[0;34m\u001b[0m\u001b[0;34m\u001b[0m\u001b[0m\n\u001b[0m\u001b[1;32m     24\u001b[0m \u001b[0;32mfrom\u001b[0m \u001b[0;34m.\u001b[0m\u001b[0mps_roi_align\u001b[0m \u001b[0;32mimport\u001b[0m \u001b[0mps_roi_align\u001b[0m\u001b[0;34m,\u001b[0m \u001b[0mPSRoIAlign\u001b[0m\u001b[0;34m\u001b[0m\u001b[0;34m\u001b[0m\u001b[0m\n\u001b[1;32m     25\u001b[0m \u001b[0;32mfrom\u001b[0m \u001b[0;34m.\u001b[0m\u001b[0mps_roi_pool\u001b[0m \u001b[0;32mimport\u001b[0m \u001b[0mps_roi_pool\u001b[0m\u001b[0;34m,\u001b[0m \u001b[0mPSRoIPool\u001b[0m\u001b[0;34m\u001b[0m\u001b[0;34m\u001b[0m\u001b[0m\n",
            "\u001b[0;32m/usr/local/lib/python3.10/dist-packages/torchvision/ops/poolers.py\u001b[0m in \u001b[0;36m<module>\u001b[0;34m\u001b[0m\n\u001b[1;32m      8\u001b[0m \u001b[0;34m\u001b[0m\u001b[0m\n\u001b[1;32m      9\u001b[0m \u001b[0;32mfrom\u001b[0m \u001b[0;34m.\u001b[0m\u001b[0;34m.\u001b[0m\u001b[0mutils\u001b[0m \u001b[0;32mimport\u001b[0m \u001b[0m_log_api_usage_once\u001b[0m\u001b[0;34m\u001b[0m\u001b[0;34m\u001b[0m\u001b[0m\n\u001b[0;32m---> 10\u001b[0;31m \u001b[0;32mfrom\u001b[0m \u001b[0;34m.\u001b[0m\u001b[0mroi_align\u001b[0m \u001b[0;32mimport\u001b[0m \u001b[0mroi_align\u001b[0m\u001b[0;34m\u001b[0m\u001b[0;34m\u001b[0m\u001b[0m\n\u001b[0m\u001b[1;32m     11\u001b[0m \u001b[0;34m\u001b[0m\u001b[0m\n\u001b[1;32m     12\u001b[0m \u001b[0;34m\u001b[0m\u001b[0m\n",
            "\u001b[0;32m/usr/local/lib/python3.10/dist-packages/torchvision/ops/roi_align.py\u001b[0m in \u001b[0;36m<module>\u001b[0;34m\u001b[0m\n\u001b[1;32m      2\u001b[0m \u001b[0;34m\u001b[0m\u001b[0m\n\u001b[1;32m      3\u001b[0m \u001b[0;32mimport\u001b[0m \u001b[0mtorch\u001b[0m\u001b[0;34m\u001b[0m\u001b[0;34m\u001b[0m\u001b[0m\n\u001b[0;32m----> 4\u001b[0;31m \u001b[0;32mimport\u001b[0m \u001b[0mtorch\u001b[0m\u001b[0;34m.\u001b[0m\u001b[0m_dynamo\u001b[0m\u001b[0;34m\u001b[0m\u001b[0;34m\u001b[0m\u001b[0m\n\u001b[0m\u001b[1;32m      5\u001b[0m \u001b[0;32mimport\u001b[0m \u001b[0mtorch\u001b[0m\u001b[0;34m.\u001b[0m\u001b[0mfx\u001b[0m\u001b[0;34m\u001b[0m\u001b[0;34m\u001b[0m\u001b[0m\n\u001b[1;32m      6\u001b[0m \u001b[0;32mfrom\u001b[0m \u001b[0mtorch\u001b[0m \u001b[0;32mimport\u001b[0m \u001b[0mnn\u001b[0m\u001b[0;34m,\u001b[0m \u001b[0mTensor\u001b[0m\u001b[0;34m\u001b[0m\u001b[0;34m\u001b[0m\u001b[0m\n",
            "\u001b[0;32m/usr/local/lib/python3.10/dist-packages/torch/_dynamo/__init__.py\u001b[0m in \u001b[0;36m<module>\u001b[0;34m\u001b[0m\n\u001b[1;32m      1\u001b[0m \u001b[0;32mimport\u001b[0m \u001b[0mtorch\u001b[0m\u001b[0;34m\u001b[0m\u001b[0;34m\u001b[0m\u001b[0m\n\u001b[0;32m----> 2\u001b[0;31m \u001b[0;32mfrom\u001b[0m \u001b[0;34m.\u001b[0m \u001b[0;32mimport\u001b[0m \u001b[0mallowed_functions\u001b[0m\u001b[0;34m,\u001b[0m \u001b[0mconvert_frame\u001b[0m\u001b[0;34m,\u001b[0m \u001b[0meval_frame\u001b[0m\u001b[0;34m,\u001b[0m \u001b[0mresume_execution\u001b[0m\u001b[0;34m\u001b[0m\u001b[0;34m\u001b[0m\u001b[0m\n\u001b[0m\u001b[1;32m      3\u001b[0m \u001b[0;32mfrom\u001b[0m \u001b[0;34m.\u001b[0m\u001b[0mbackends\u001b[0m\u001b[0;34m.\u001b[0m\u001b[0mregistry\u001b[0m \u001b[0;32mimport\u001b[0m \u001b[0mlist_backends\u001b[0m\u001b[0;34m,\u001b[0m \u001b[0mlookup_backend\u001b[0m\u001b[0;34m,\u001b[0m \u001b[0mregister_backend\u001b[0m\u001b[0;34m\u001b[0m\u001b[0;34m\u001b[0m\u001b[0m\n\u001b[1;32m      4\u001b[0m \u001b[0;32mfrom\u001b[0m \u001b[0;34m.\u001b[0m\u001b[0mcode_context\u001b[0m \u001b[0;32mimport\u001b[0m \u001b[0mcode_context\u001b[0m\u001b[0;34m\u001b[0m\u001b[0;34m\u001b[0m\u001b[0m\n\u001b[1;32m      5\u001b[0m \u001b[0;32mfrom\u001b[0m \u001b[0;34m.\u001b[0m\u001b[0mconvert_frame\u001b[0m \u001b[0;32mimport\u001b[0m \u001b[0mreplay\u001b[0m\u001b[0;34m\u001b[0m\u001b[0;34m\u001b[0m\u001b[0m\n",
            "\u001b[0;32m/usr/local/lib/python3.10/dist-packages/torch/_dynamo/allowed_functions.py\u001b[0m in \u001b[0;36m<module>\u001b[0;34m\u001b[0m\n\u001b[1;32m     28\u001b[0m \u001b[0;32mfrom\u001b[0m \u001b[0;34m.\u001b[0m \u001b[0;32mimport\u001b[0m \u001b[0mconfig\u001b[0m\u001b[0;34m\u001b[0m\u001b[0;34m\u001b[0m\u001b[0m\n\u001b[1;32m     29\u001b[0m \u001b[0;32mfrom\u001b[0m \u001b[0;34m.\u001b[0m\u001b[0mexternal_utils\u001b[0m \u001b[0;32mimport\u001b[0m \u001b[0mis_compiling\u001b[0m\u001b[0;34m\u001b[0m\u001b[0;34m\u001b[0m\u001b[0m\n\u001b[0;32m---> 30\u001b[0;31m \u001b[0;32mfrom\u001b[0m \u001b[0;34m.\u001b[0m\u001b[0mutils\u001b[0m \u001b[0;32mimport\u001b[0m \u001b[0mhashable\u001b[0m\u001b[0;34m,\u001b[0m \u001b[0mis_safe_constant\u001b[0m\u001b[0;34m,\u001b[0m \u001b[0mNP_SUPPORTED_MODULES\u001b[0m\u001b[0;34m\u001b[0m\u001b[0;34m\u001b[0m\u001b[0m\n\u001b[0m\u001b[1;32m     31\u001b[0m \u001b[0;34m\u001b[0m\u001b[0m\n\u001b[1;32m     32\u001b[0m \"\"\"\n",
            "\u001b[0;32m/usr/local/lib/python3.10/dist-packages/torch/_dynamo/utils.py\u001b[0m in \u001b[0;36m<module>\u001b[0;34m\u001b[0m\n\u001b[1;32m     87\u001b[0m \u001b[0;32mimport\u001b[0m \u001b[0mtorch\u001b[0m\u001b[0;34m\u001b[0m\u001b[0;34m\u001b[0m\u001b[0m\n\u001b[1;32m     88\u001b[0m \u001b[0;32mimport\u001b[0m \u001b[0mtorch\u001b[0m\u001b[0;34m.\u001b[0m\u001b[0m_functorch\u001b[0m\u001b[0;34m.\u001b[0m\u001b[0mconfig\u001b[0m\u001b[0;34m\u001b[0m\u001b[0;34m\u001b[0m\u001b[0m\n\u001b[0;32m---> 89\u001b[0;31m \u001b[0;32mimport\u001b[0m \u001b[0mtorch\u001b[0m\u001b[0;34m.\u001b[0m\u001b[0mfx\u001b[0m\u001b[0;34m.\u001b[0m\u001b[0mexperimental\u001b[0m\u001b[0;34m.\u001b[0m\u001b[0msymbolic_shapes\u001b[0m\u001b[0;34m\u001b[0m\u001b[0;34m\u001b[0m\u001b[0m\n\u001b[0m\u001b[1;32m     90\u001b[0m \u001b[0;32mfrom\u001b[0m \u001b[0mtorch\u001b[0m \u001b[0;32mimport\u001b[0m \u001b[0mfx\u001b[0m\u001b[0;34m\u001b[0m\u001b[0;34m\u001b[0m\u001b[0m\n\u001b[1;32m     91\u001b[0m \u001b[0;32mfrom\u001b[0m \u001b[0mtorch\u001b[0m\u001b[0;34m.\u001b[0m\u001b[0m_dispatch\u001b[0m\u001b[0;34m.\u001b[0m\u001b[0mpython\u001b[0m \u001b[0;32mimport\u001b[0m \u001b[0menable_python_dispatcher\u001b[0m\u001b[0;34m\u001b[0m\u001b[0;34m\u001b[0m\u001b[0m\n",
            "\u001b[0;32m/usr/local/lib/python3.10/dist-packages/torch/fx/experimental/symbolic_shapes.py\u001b[0m in \u001b[0;36m<module>\u001b[0;34m\u001b[0m\n\u001b[1;32m     36\u001b[0m \u001b[0;32mfrom\u001b[0m \u001b[0mtorch\u001b[0m\u001b[0;34m.\u001b[0m\u001b[0m_guards\u001b[0m \u001b[0;32mimport\u001b[0m \u001b[0mShapeGuard\u001b[0m\u001b[0;34m,\u001b[0m \u001b[0mSource\u001b[0m\u001b[0;34m,\u001b[0m \u001b[0mTracingContext\u001b[0m\u001b[0;34m\u001b[0m\u001b[0;34m\u001b[0m\u001b[0m\n\u001b[1;32m     37\u001b[0m \u001b[0;32mfrom\u001b[0m \u001b[0mtorch\u001b[0m\u001b[0;34m.\u001b[0m\u001b[0mutils\u001b[0m\u001b[0;34m.\u001b[0m\u001b[0m_python_dispatch\u001b[0m \u001b[0;32mimport\u001b[0m \u001b[0mis_traceable_wrapper_subclass\u001b[0m\u001b[0;34m\u001b[0m\u001b[0;34m\u001b[0m\u001b[0m\n\u001b[0;32m---> 38\u001b[0;31m \u001b[0;32mfrom\u001b[0m \u001b[0mtorch\u001b[0m\u001b[0;34m.\u001b[0m\u001b[0mutils\u001b[0m\u001b[0;34m.\u001b[0m\u001b[0m_sympy\u001b[0m\u001b[0;34m.\u001b[0m\u001b[0mfunctions\u001b[0m \u001b[0;32mimport\u001b[0m \u001b[0mFloorDiv\u001b[0m\u001b[0;34m,\u001b[0m \u001b[0mMod\u001b[0m\u001b[0;34m,\u001b[0m \u001b[0mIsNonOverlappingAndDenseIndicator\u001b[0m\u001b[0;34m\u001b[0m\u001b[0;34m\u001b[0m\u001b[0m\n\u001b[0m\u001b[1;32m     39\u001b[0m \u001b[0;32mfrom\u001b[0m \u001b[0mtorch\u001b[0m\u001b[0;34m.\u001b[0m\u001b[0mutils\u001b[0m\u001b[0;34m.\u001b[0m\u001b[0m_sympy\u001b[0m\u001b[0;34m.\u001b[0m\u001b[0msolve\u001b[0m \u001b[0;32mimport\u001b[0m \u001b[0mtry_solve\u001b[0m\u001b[0;34m\u001b[0m\u001b[0;34m\u001b[0m\u001b[0m\n\u001b[1;32m     40\u001b[0m \u001b[0;32mfrom\u001b[0m \u001b[0mtorch\u001b[0m\u001b[0;34m.\u001b[0m\u001b[0mutils\u001b[0m\u001b[0;34m.\u001b[0m\u001b[0m_sympy\u001b[0m\u001b[0;34m.\u001b[0m\u001b[0mvalue_ranges\u001b[0m \u001b[0;32mimport\u001b[0m \u001b[0mbound_sympy\u001b[0m\u001b[0;34m,\u001b[0m \u001b[0mSymPyValueRangeAnalysis\u001b[0m\u001b[0;34m,\u001b[0m \u001b[0mValueRanges\u001b[0m\u001b[0;34m,\u001b[0m \u001b[0mValueRangeError\u001b[0m\u001b[0;34m\u001b[0m\u001b[0;34m\u001b[0m\u001b[0m\n",
            "\u001b[0;32m/usr/local/lib/python3.10/dist-packages/torch/utils/_sympy/functions.py\u001b[0m in \u001b[0;36m<module>\u001b[0;34m\u001b[0m\n\u001b[0;32m----> 1\u001b[0;31m \u001b[0;32mimport\u001b[0m \u001b[0msympy\u001b[0m\u001b[0;34m\u001b[0m\u001b[0;34m\u001b[0m\u001b[0m\n\u001b[0m\u001b[1;32m      2\u001b[0m \u001b[0;32mfrom\u001b[0m \u001b[0msympy\u001b[0m \u001b[0;32mimport\u001b[0m \u001b[0mS\u001b[0m\u001b[0;34m\u001b[0m\u001b[0;34m\u001b[0m\u001b[0m\n\u001b[1;32m      3\u001b[0m \u001b[0;32mfrom\u001b[0m \u001b[0msympy\u001b[0m\u001b[0;34m.\u001b[0m\u001b[0mcore\u001b[0m\u001b[0;34m.\u001b[0m\u001b[0mlogic\u001b[0m \u001b[0;32mimport\u001b[0m \u001b[0mfuzzy_and\u001b[0m\u001b[0;34m,\u001b[0m \u001b[0mfuzzy_not\u001b[0m\u001b[0;34m,\u001b[0m \u001b[0mfuzzy_or\u001b[0m\u001b[0;34m\u001b[0m\u001b[0;34m\u001b[0m\u001b[0m\n\u001b[1;32m      4\u001b[0m \u001b[0;34m\u001b[0m\u001b[0m\n\u001b[1;32m      5\u001b[0m __all__ = [\n",
            "\u001b[0;32m/usr/local/lib/python3.10/dist-packages/sympy/__init__.py\u001b[0m in \u001b[0;36m<module>\u001b[0;34m\u001b[0m\n\u001b[1;32m     28\u001b[0m \u001b[0;34m\u001b[0m\u001b[0m\n\u001b[1;32m     29\u001b[0m \u001b[0;32mfrom\u001b[0m \u001b[0msympy\u001b[0m\u001b[0;34m.\u001b[0m\u001b[0mrelease\u001b[0m \u001b[0;32mimport\u001b[0m \u001b[0m__version__\u001b[0m\u001b[0;34m\u001b[0m\u001b[0;34m\u001b[0m\u001b[0m\n\u001b[0;32m---> 30\u001b[0;31m \u001b[0;32mfrom\u001b[0m \u001b[0msympy\u001b[0m\u001b[0;34m.\u001b[0m\u001b[0mcore\u001b[0m\u001b[0;34m.\u001b[0m\u001b[0mcache\u001b[0m \u001b[0;32mimport\u001b[0m \u001b[0mlazy_function\u001b[0m\u001b[0;34m\u001b[0m\u001b[0;34m\u001b[0m\u001b[0m\n\u001b[0m\u001b[1;32m     31\u001b[0m \u001b[0;34m\u001b[0m\u001b[0m\n\u001b[1;32m     32\u001b[0m \u001b[0;32mif\u001b[0m \u001b[0;34m'dev'\u001b[0m \u001b[0;32min\u001b[0m \u001b[0m__version__\u001b[0m\u001b[0;34m:\u001b[0m\u001b[0;34m\u001b[0m\u001b[0;34m\u001b[0m\u001b[0m\n",
            "\u001b[0;32m/usr/local/lib/python3.10/dist-packages/sympy/core/__init__.py\u001b[0m in \u001b[0;36m<module>\u001b[0;34m\u001b[0m\n\u001b[1;32m      2\u001b[0m \"\"\"\n\u001b[1;32m      3\u001b[0m \u001b[0;34m\u001b[0m\u001b[0m\n\u001b[0;32m----> 4\u001b[0;31m \u001b[0;32mfrom\u001b[0m \u001b[0;34m.\u001b[0m\u001b[0msympify\u001b[0m \u001b[0;32mimport\u001b[0m \u001b[0msympify\u001b[0m\u001b[0;34m,\u001b[0m \u001b[0mSympifyError\u001b[0m\u001b[0;34m\u001b[0m\u001b[0;34m\u001b[0m\u001b[0m\n\u001b[0m\u001b[1;32m      5\u001b[0m \u001b[0;32mfrom\u001b[0m \u001b[0;34m.\u001b[0m\u001b[0mcache\u001b[0m \u001b[0;32mimport\u001b[0m \u001b[0mcacheit\u001b[0m\u001b[0;34m\u001b[0m\u001b[0;34m\u001b[0m\u001b[0m\n\u001b[1;32m      6\u001b[0m \u001b[0;32mfrom\u001b[0m \u001b[0;34m.\u001b[0m\u001b[0massumptions\u001b[0m \u001b[0;32mimport\u001b[0m \u001b[0massumptions\u001b[0m\u001b[0;34m,\u001b[0m \u001b[0mcheck_assumptions\u001b[0m\u001b[0;34m,\u001b[0m \u001b[0mfailing_assumptions\u001b[0m\u001b[0;34m,\u001b[0m \u001b[0mcommon_assumptions\u001b[0m\u001b[0;34m\u001b[0m\u001b[0;34m\u001b[0m\u001b[0m\n",
            "\u001b[0;32m/usr/local/lib/python3.10/dist-packages/sympy/core/sympify.py\u001b[0m in \u001b[0;36m<module>\u001b[0;34m\u001b[0m\n\u001b[1;32m    632\u001b[0m \u001b[0;34m\u001b[0m\u001b[0m\n\u001b[1;32m    633\u001b[0m \u001b[0;31m# Avoid circular import\u001b[0m\u001b[0;34m\u001b[0m\u001b[0;34m\u001b[0m\u001b[0m\n\u001b[0;32m--> 634\u001b[0;31m \u001b[0;32mfrom\u001b[0m \u001b[0;34m.\u001b[0m\u001b[0mbasic\u001b[0m \u001b[0;32mimport\u001b[0m \u001b[0mBasic\u001b[0m\u001b[0;34m\u001b[0m\u001b[0;34m\u001b[0m\u001b[0m\n\u001b[0m",
            "\u001b[0;32m/usr/local/lib/python3.10/dist-packages/sympy/core/basic.py\u001b[0m in \u001b[0;36m<module>\u001b[0;34m\u001b[0m\n\u001b[1;32m   2216\u001b[0m \u001b[0;34m\u001b[0m\u001b[0m\n\u001b[1;32m   2217\u001b[0m \u001b[0;31m# Delayed to avoid cyclic import\u001b[0m\u001b[0;34m\u001b[0m\u001b[0;34m\u001b[0m\u001b[0m\n\u001b[0;32m-> 2218\u001b[0;31m \u001b[0;32mfrom\u001b[0m \u001b[0;34m.\u001b[0m\u001b[0msingleton\u001b[0m \u001b[0;32mimport\u001b[0m \u001b[0mS\u001b[0m\u001b[0;34m\u001b[0m\u001b[0;34m\u001b[0m\u001b[0m\n\u001b[0m\u001b[1;32m   2219\u001b[0m from .traversal import (preorder_traversal as _preorder_traversal,\n\u001b[1;32m   2220\u001b[0m    iterargs, iterfreeargs)\n",
            "\u001b[0;32m/usr/lib/python3.10/importlib/_bootstrap.py\u001b[0m in \u001b[0;36m_find_and_load\u001b[0;34m(name, import_)\u001b[0m\n",
            "\u001b[0;32m/usr/lib/python3.10/importlib/_bootstrap.py\u001b[0m in \u001b[0;36m_find_and_load_unlocked\u001b[0;34m(name, import_)\u001b[0m\n",
            "\u001b[0;32m/usr/lib/python3.10/importlib/_bootstrap.py\u001b[0m in \u001b[0;36m_load_unlocked\u001b[0;34m(spec)\u001b[0m\n",
            "\u001b[0;32m/usr/lib/python3.10/importlib/_bootstrap_external.py\u001b[0m in \u001b[0;36mexec_module\u001b[0;34m(self, module)\u001b[0m\n",
            "\u001b[0;32m/usr/lib/python3.10/importlib/_bootstrap_external.py\u001b[0m in \u001b[0;36mget_code\u001b[0;34m(self, fullname)\u001b[0m\n",
            "\u001b[0;32m/usr/lib/python3.10/importlib/_bootstrap_external.py\u001b[0m in \u001b[0;36mget_data\u001b[0;34m(self, path)\u001b[0m\n",
            "\u001b[0;31mKeyboardInterrupt\u001b[0m: "
          ]
        }
      ],
      "source": [
        "%run main.py \\\n",
        "    --mode=test \\\n",
        "    --data_dir=/content/EchoNet-Dynamic \\\n",
        "    --ckpt_path=UltraSwin-base-epoch=19-step=17920.ckpt \\\n",
        "    --batch_size=8 \\\n",
        "    --num_workers=4 \\\n",
        "    --accelerator=gpu \\\n",
        "    --variant=base"
      ]
    },
    {
      "cell_type": "markdown",
      "metadata": {
        "id": "6CqJX7h-io3P"
      },
      "source": [
        "# Test UltraSwin-small"
      ]
    },
    {
      "cell_type": "markdown",
      "metadata": {
        "id": "2aY1ezjjio3Q"
      },
      "source": [
        "## Download Pre-trained Model"
      ]
    },
    {
      "cell_type": "code",
      "execution_count": null,
      "metadata": {
        "id": "fe8gYbPxio3Q",
        "colab": {
          "base_uri": "https://localhost:8080/"
        },
        "outputId": "ec7f986f-3b8d-4a1e-ca11-f7d473e6e6af"
      },
      "outputs": [
        {
          "output_type": "stream",
          "name": "stdout",
          "text": [
            "Downloading...\n",
            "From (original): https://drive.google.com/uc?id=14RT5eYfsBd7EF0aIlcuaODDFGhzU8mB1\n",
            "From (redirected): https://drive.google.com/uc?id=14RT5eYfsBd7EF0aIlcuaODDFGhzU8mB1&confirm=t&uuid=fc1300af-68ff-416c-bbfd-45ee13269a04\n",
            "To: /content/Swin-KD/UltraSwin-small-epoch=19-step=8960.ckpt\n",
            "100% 596M/596M [00:06<00:00, 87.9MB/s]\n"
          ]
        }
      ],
      "source": [
        "!gdown 14RT5eYfsBd7EF0aIlcuaODDFGhzU8mB1"
      ]
    },
    {
      "cell_type": "markdown",
      "metadata": {
        "id": "PZVbtHrkio3Q"
      },
      "source": [
        "## Melakukan Test"
      ]
    },
    {
      "cell_type": "code",
      "execution_count": null,
      "metadata": {
        "colab": {
          "base_uri": "https://localhost:8080/"
        },
        "id": "L72VJVMXPt42",
        "outputId": "c14bcf31-5116-423d-ddd0-b667be2455a8"
      },
      "outputs": [
        {
          "output_type": "stream",
          "name": "stdout",
          "text": [
            "Requirement already satisfied: pytorch-lightning in /usr/local/lib/python3.10/dist-packages (2.2.3)\n",
            "Requirement already satisfied: numpy>=1.17.2 in /usr/local/lib/python3.10/dist-packages (from pytorch-lightning) (1.25.2)\n",
            "Requirement already satisfied: torch>=1.13.0 in /usr/local/lib/python3.10/dist-packages (from pytorch-lightning) (2.2.1+cu121)\n",
            "Requirement already satisfied: tqdm>=4.57.0 in /usr/local/lib/python3.10/dist-packages (from pytorch-lightning) (4.66.2)\n",
            "Requirement already satisfied: PyYAML>=5.4 in /usr/local/lib/python3.10/dist-packages (from pytorch-lightning) (6.0.1)\n",
            "Requirement already satisfied: fsspec[http]>=2022.5.0 in /usr/local/lib/python3.10/dist-packages (from pytorch-lightning) (2023.6.0)\n",
            "Requirement already satisfied: torchmetrics>=0.7.0 in /usr/local/lib/python3.10/dist-packages (from pytorch-lightning) (1.3.2)\n",
            "Requirement already satisfied: packaging>=20.0 in /usr/local/lib/python3.10/dist-packages (from pytorch-lightning) (24.0)\n",
            "Requirement already satisfied: typing-extensions>=4.4.0 in /usr/local/lib/python3.10/dist-packages (from pytorch-lightning) (4.11.0)\n",
            "Requirement already satisfied: lightning-utilities>=0.8.0 in /usr/local/lib/python3.10/dist-packages (from pytorch-lightning) (0.11.2)\n",
            "Requirement already satisfied: requests in /usr/local/lib/python3.10/dist-packages (from fsspec[http]>=2022.5.0->pytorch-lightning) (2.31.0)\n",
            "Requirement already satisfied: aiohttp!=4.0.0a0,!=4.0.0a1 in /usr/local/lib/python3.10/dist-packages (from fsspec[http]>=2022.5.0->pytorch-lightning) (3.9.5)\n",
            "Requirement already satisfied: setuptools in /usr/local/lib/python3.10/dist-packages (from lightning-utilities>=0.8.0->pytorch-lightning) (67.7.2)\n",
            "Requirement already satisfied: filelock in /usr/local/lib/python3.10/dist-packages (from torch>=1.13.0->pytorch-lightning) (3.13.4)\n",
            "Requirement already satisfied: sympy in /usr/local/lib/python3.10/dist-packages (from torch>=1.13.0->pytorch-lightning) (1.12)\n",
            "Requirement already satisfied: networkx in /usr/local/lib/python3.10/dist-packages (from torch>=1.13.0->pytorch-lightning) (3.3)\n",
            "Requirement already satisfied: jinja2 in /usr/local/lib/python3.10/dist-packages (from torch>=1.13.0->pytorch-lightning) (3.1.3)\n",
            "Requirement already satisfied: nvidia-cuda-nvrtc-cu12==12.1.105 in /usr/local/lib/python3.10/dist-packages (from torch>=1.13.0->pytorch-lightning) (12.1.105)\n",
            "Requirement already satisfied: nvidia-cuda-runtime-cu12==12.1.105 in /usr/local/lib/python3.10/dist-packages (from torch>=1.13.0->pytorch-lightning) (12.1.105)\n",
            "Requirement already satisfied: nvidia-cuda-cupti-cu12==12.1.105 in /usr/local/lib/python3.10/dist-packages (from torch>=1.13.0->pytorch-lightning) (12.1.105)\n",
            "Requirement already satisfied: nvidia-cudnn-cu12==8.9.2.26 in /usr/local/lib/python3.10/dist-packages (from torch>=1.13.0->pytorch-lightning) (8.9.2.26)\n",
            "Requirement already satisfied: nvidia-cublas-cu12==12.1.3.1 in /usr/local/lib/python3.10/dist-packages (from torch>=1.13.0->pytorch-lightning) (12.1.3.1)\n",
            "Requirement already satisfied: nvidia-cufft-cu12==11.0.2.54 in /usr/local/lib/python3.10/dist-packages (from torch>=1.13.0->pytorch-lightning) (11.0.2.54)\n",
            "Requirement already satisfied: nvidia-curand-cu12==10.3.2.106 in /usr/local/lib/python3.10/dist-packages (from torch>=1.13.0->pytorch-lightning) (10.3.2.106)\n",
            "Requirement already satisfied: nvidia-cusolver-cu12==11.4.5.107 in /usr/local/lib/python3.10/dist-packages (from torch>=1.13.0->pytorch-lightning) (11.4.5.107)\n",
            "Requirement already satisfied: nvidia-cusparse-cu12==12.1.0.106 in /usr/local/lib/python3.10/dist-packages (from torch>=1.13.0->pytorch-lightning) (12.1.0.106)\n",
            "Requirement already satisfied: nvidia-nccl-cu12==2.19.3 in /usr/local/lib/python3.10/dist-packages (from torch>=1.13.0->pytorch-lightning) (2.19.3)\n",
            "Requirement already satisfied: nvidia-nvtx-cu12==12.1.105 in /usr/local/lib/python3.10/dist-packages (from torch>=1.13.0->pytorch-lightning) (12.1.105)\n",
            "Requirement already satisfied: triton==2.2.0 in /usr/local/lib/python3.10/dist-packages (from torch>=1.13.0->pytorch-lightning) (2.2.0)\n",
            "Requirement already satisfied: nvidia-nvjitlink-cu12 in /usr/local/lib/python3.10/dist-packages (from nvidia-cusolver-cu12==11.4.5.107->torch>=1.13.0->pytorch-lightning) (12.4.127)\n",
            "Requirement already satisfied: aiosignal>=1.1.2 in /usr/local/lib/python3.10/dist-packages (from aiohttp!=4.0.0a0,!=4.0.0a1->fsspec[http]>=2022.5.0->pytorch-lightning) (1.3.1)\n",
            "Requirement already satisfied: attrs>=17.3.0 in /usr/local/lib/python3.10/dist-packages (from aiohttp!=4.0.0a0,!=4.0.0a1->fsspec[http]>=2022.5.0->pytorch-lightning) (23.2.0)\n",
            "Requirement already satisfied: frozenlist>=1.1.1 in /usr/local/lib/python3.10/dist-packages (from aiohttp!=4.0.0a0,!=4.0.0a1->fsspec[http]>=2022.5.0->pytorch-lightning) (1.4.1)\n",
            "Requirement already satisfied: multidict<7.0,>=4.5 in /usr/local/lib/python3.10/dist-packages (from aiohttp!=4.0.0a0,!=4.0.0a1->fsspec[http]>=2022.5.0->pytorch-lightning) (6.0.5)\n",
            "Requirement already satisfied: yarl<2.0,>=1.0 in /usr/local/lib/python3.10/dist-packages (from aiohttp!=4.0.0a0,!=4.0.0a1->fsspec[http]>=2022.5.0->pytorch-lightning) (1.9.4)\n",
            "Requirement already satisfied: async-timeout<5.0,>=4.0 in /usr/local/lib/python3.10/dist-packages (from aiohttp!=4.0.0a0,!=4.0.0a1->fsspec[http]>=2022.5.0->pytorch-lightning) (4.0.3)\n",
            "Requirement already satisfied: MarkupSafe>=2.0 in /usr/local/lib/python3.10/dist-packages (from jinja2->torch>=1.13.0->pytorch-lightning) (2.1.5)\n",
            "Requirement already satisfied: charset-normalizer<4,>=2 in /usr/local/lib/python3.10/dist-packages (from requests->fsspec[http]>=2022.5.0->pytorch-lightning) (3.3.2)\n",
            "Requirement already satisfied: idna<4,>=2.5 in /usr/local/lib/python3.10/dist-packages (from requests->fsspec[http]>=2022.5.0->pytorch-lightning) (3.7)\n",
            "Requirement already satisfied: urllib3<3,>=1.21.1 in /usr/local/lib/python3.10/dist-packages (from requests->fsspec[http]>=2022.5.0->pytorch-lightning) (2.0.7)\n",
            "Requirement already satisfied: certifi>=2017.4.17 in /usr/local/lib/python3.10/dist-packages (from requests->fsspec[http]>=2022.5.0->pytorch-lightning) (2024.2.2)\n",
            "Requirement already satisfied: mpmath>=0.19 in /usr/local/lib/python3.10/dist-packages (from sympy->torch>=1.13.0->pytorch-lightning) (1.3.0)\n"
          ]
        }
      ],
      "source": [
        "!pip install -U pytorch-lightning"
      ]
    },
    {
      "cell_type": "code",
      "execution_count": null,
      "metadata": {
        "colab": {
          "base_uri": "https://localhost:8080/",
          "height": 448,
          "referenced_widgets": [
            "51467ed361b0482faac9a8ccac54780d",
            "321aa51c8dc141318f16c7b63a32e939",
            "294424366c3a43debe50fb733f68b6cc",
            "69bf0381cb764e6891061cc8df567df8",
            "000f286e65c442709341700e8ca52415",
            "eead09d9c98e45c390db12cbc6f10fa8",
            "f4de683b13dc49a2ab1a4480c1c47326",
            "8342dc40697d43a59983fa7d240378e5",
            "13d59f9ea7f948c495c47f19a6af4a8e",
            "ae79615e08f4439fbb448ed0594ab4d4",
            "924eb6c0fe85497a85e6bb76bb7f2a53"
          ]
        },
        "id": "herthZjSio3Q",
        "outputId": "33b5d10f-8cd8-4ef6-efa2-bd67dd80cf00"
      },
      "outputs": [
        {
          "output_type": "stream",
          "name": "stderr",
          "text": [
            "/usr/local/lib/python3.10/dist-packages/lightning_fabric/connector.py:563: `precision=16` is supported for historical reasons but its usage is discouraged. Please set your precision to 16-mixed instead!\n",
            "INFO:pytorch_lightning.utilities.rank_zero:Using 16bit Automatic Mixed Precision (AMP)\n",
            "INFO:pytorch_lightning.utilities.rank_zero:GPU available: True (cuda), used: True\n",
            "INFO:pytorch_lightning.utilities.rank_zero:TPU available: False, using: 0 TPU cores\n",
            "INFO:pytorch_lightning.utilities.rank_zero:IPU available: False, using: 0 IPUs\n",
            "INFO:pytorch_lightning.utilities.rank_zero:HPU available: False, using: 0 HPUs\n"
          ]
        },
        {
          "output_type": "stream",
          "name": "stdout",
          "text": [
            "prepare data\n",
            "setup: /content/EchoNet-Dynamic\n"
          ]
        },
        {
          "output_type": "stream",
          "name": "stderr",
          "text": [
            "INFO:pytorch_lightning.utilities.rank_zero:Restoring states from the checkpoint path at /content/Swin-KD/checkpoints/teacher.ckpt\n",
            "INFO:pytorch_lightning.accelerators.cuda:LOCAL_RANK: 0 - CUDA_VISIBLE_DEVICES: [0]\n",
            "INFO:pytorch_lightning.utilities.rank_zero:Loaded model weights from the checkpoint at /content/Swin-KD/checkpoints/teacher.ckpt\n",
            "/usr/lib/python3.10/multiprocessing/popen_fork.py:66: RuntimeWarning: os.fork() was called. os.fork() is incompatible with multithreaded code, and JAX is multithreaded, so this will likely lead to a deadlock.\n",
            "  self.pid = os.fork()\n"
          ]
        },
        {
          "output_type": "display_data",
          "data": {
            "text/plain": [
              "Testing: |          | 0/? [00:00<?, ?it/s]"
            ],
            "application/vnd.jupyter.widget-view+json": {
              "version_major": 2,
              "version_minor": 0,
              "model_id": "51467ed361b0482faac9a8ccac54780d"
            }
          },
          "metadata": {}
        },
        {
          "output_type": "display_data",
          "data": {
            "text/plain": [
              "┏━━━━━━━━━━━━━━━━━━━━━━━━━━━┳━━━━━━━━━━━━━━━━━━━━━━━━━━━┓\n",
              "┃\u001b[1m \u001b[0m\u001b[1m       Test metric       \u001b[0m\u001b[1m \u001b[0m┃\u001b[1m \u001b[0m\u001b[1m      DataLoader 0       \u001b[0m\u001b[1m \u001b[0m┃\n",
              "┡━━━━━━━━━━━━━━━━━━━━━━━━━━━╇━━━━━━━━━━━━━━━━━━━━━━━━━━━┩\n",
              "│\u001b[36m \u001b[0m\u001b[36m        test_loss        \u001b[0m\u001b[36m \u001b[0m│\u001b[35m \u001b[0m\u001b[35m   0.01431916281580925   \u001b[0m\u001b[35m \u001b[0m│\n",
              "│\u001b[36m \u001b[0m\u001b[36m        test_mae         \u001b[0m\u001b[36m \u001b[0m│\u001b[35m \u001b[0m\u001b[35m   0.08527415990829468   \u001b[0m\u001b[35m \u001b[0m│\n",
              "│\u001b[36m \u001b[0m\u001b[36m        test_mse         \u001b[0m\u001b[36m \u001b[0m│\u001b[35m \u001b[0m\u001b[35m  0.014342699199914932   \u001b[0m\u001b[35m \u001b[0m│\n",
              "│\u001b[36m \u001b[0m\u001b[36m         test_r2         \u001b[0m\u001b[36m \u001b[0m│\u001b[35m \u001b[0m\u001b[35m  -0.015417098999023438  \u001b[0m\u001b[35m \u001b[0m│\n",
              "│\u001b[36m \u001b[0m\u001b[36m        test_rmse        \u001b[0m\u001b[36m \u001b[0m│\u001b[35m \u001b[0m\u001b[35m   0.11976100504398346   \u001b[0m\u001b[35m \u001b[0m│\n",
              "└───────────────────────────┴───────────────────────────┘\n"
            ],
            "text/html": [
              "<pre style=\"white-space:pre;overflow-x:auto;line-height:normal;font-family:Menlo,'DejaVu Sans Mono',consolas,'Courier New',monospace\">┏━━━━━━━━━━━━━━━━━━━━━━━━━━━┳━━━━━━━━━━━━━━━━━━━━━━━━━━━┓\n",
              "┃<span style=\"font-weight: bold\">        Test metric        </span>┃<span style=\"font-weight: bold\">       DataLoader 0        </span>┃\n",
              "┡━━━━━━━━━━━━━━━━━━━━━━━━━━━╇━━━━━━━━━━━━━━━━━━━━━━━━━━━┩\n",
              "│<span style=\"color: #008080; text-decoration-color: #008080\">         test_loss         </span>│<span style=\"color: #800080; text-decoration-color: #800080\">    0.01431916281580925    </span>│\n",
              "│<span style=\"color: #008080; text-decoration-color: #008080\">         test_mae          </span>│<span style=\"color: #800080; text-decoration-color: #800080\">    0.08527415990829468    </span>│\n",
              "│<span style=\"color: #008080; text-decoration-color: #008080\">         test_mse          </span>│<span style=\"color: #800080; text-decoration-color: #800080\">   0.014342699199914932    </span>│\n",
              "│<span style=\"color: #008080; text-decoration-color: #008080\">          test_r2          </span>│<span style=\"color: #800080; text-decoration-color: #800080\">   -0.015417098999023438   </span>│\n",
              "│<span style=\"color: #008080; text-decoration-color: #008080\">         test_rmse         </span>│<span style=\"color: #800080; text-decoration-color: #800080\">    0.11976100504398346    </span>│\n",
              "└───────────────────────────┴───────────────────────────┘\n",
              "</pre>\n"
            ]
          },
          "metadata": {}
        }
      ],
      "source": [
        "%run main.py \\\n",
        "    --mode=test \\\n",
        "    --data_dir=/content/EchoNet-Dynamic \\\n",
        "    --ckpt_path=/content/Swin-KD/checkpoints/teacher.ckpt \\\n",
        "    --batch_size=4 \\\n",
        "    --num_workers=2 \\\n",
        "    --accelerator=gpu \\\n",
        "    --variant=small"
      ]
    },
    {
      "cell_type": "code",
      "execution_count": null,
      "metadata": {
        "colab": {
          "base_uri": "https://localhost:8080/",
          "height": 781,
          "referenced_widgets": [
            "cc7a4f6f55ae4a208a0ab9e5bd3a95e0",
            "dbf4c3992cfb4d518541e45ba581ed14",
            "0a3732ce39e24a15a0af12e5b0e7d576",
            "af102ed95f5b4303845097d57a68800d",
            "2385f4dd13d645fb89ffa80b6c9309a5",
            "74d27a2173b74241ba2bd13364567b7f",
            "fe2dde10063547308bab46c9241f53aa",
            "33b3365691bb40e0a6f00b7ec47e1f76",
            "b954ee0dfc7540a6a4377e7679ffebbb",
            "a0524532dcb34932b56319e001617d30",
            "812d2d28f7fd4a53a95e8e8cac08b005",
            "c5f609e08e3744698f9accea2c4f90f0",
            "1eb99d7e034a4cc983f6975ab07b8feb",
            "261fe3b1d8504b02bb643c8dcde066e6",
            "bc3e8166a09344b49d473b9c8c7a849e",
            "d4d104c1920f458cbd83c46c07730f00",
            "4f914bc280e44f83b2196816fbe7136c",
            "5aeefcbea68e4024a04925f7c092d901",
            "fd348fb74f1a4230bfb4210b203eb8fd",
            "542b3f15109e4a6d86ba89a7f7b5ac46",
            "68c99f8ee787465da559407d07004c58",
            "29cba093d9e2406b9e96042326ae5c98",
            "26a13e27aa7a4261bad0330acddee050",
            "bb4bdb4878004aafb28c77456de86ead",
            "2b615bdea5254061a16d710c3aa8ab86",
            "16a37ef039054ae7a7cd02fc8ce3ecd3",
            "593e2e0539c34739adf15dec7c22a636",
            "c0528d4b021449e398e5ef5ed9dc9be3",
            "00b62e9a426349adaf1439b911bfca82",
            "6d3711ad3e154cd980ea06b101bf5ec5",
            "d43a1c27a7f04c7d865a308429174085",
            "63aebd16ac344aa8bdc34476f854b9ff",
            "55416a3192014f6cb9ee4747d90e7be7",
            "61af18fb14a1464f811c5189daedae65",
            "06931c2a5d184f6a9e690e73d8fdfc09",
            "286978246d644808865498196e09e846",
            "2d0832fdd8cb42d9be29e56fb300b23b",
            "405e6c99afc848309d7ecc1a65c2805d",
            "ccf413f4498745d29f85241cbb7ebdc8",
            "84373c9d6ff2494c9742b1990c98536a",
            "34016b0d5c8e4c32b09032bd2065041b",
            "9d3aa1dbb26245b9a6fa99e71c5a1480",
            "8174e863712f406ea328b5821683515d",
            "4238099705164050a2fb7ec507ee47dd"
          ]
        },
        "id": "XYeZjulES8Au",
        "outputId": "e91baf73-de88-47c8-ca69-f254faaa964c"
      },
      "outputs": [
        {
          "output_type": "stream",
          "name": "stderr",
          "text": [
            "/usr/local/lib/python3.10/dist-packages/torch/functional.py:507: UserWarning: torch.meshgrid: in an upcoming release, it will be required to pass the indexing argument. (Triggered internally at ../aten/src/ATen/native/TensorShape.cpp:3549.)\n",
            "  return _VF.meshgrid(tensors, **kwargs)  # type: ignore[attr-defined]\n",
            "/usr/local/lib/python3.10/dist-packages/lightning_fabric/connector.py:563: `precision=16` is supported for historical reasons but its usage is discouraged. Please set your precision to 16-mixed instead!\n",
            "INFO:pytorch_lightning.utilities.rank_zero:Using 16bit Automatic Mixed Precision (AMP)\n",
            "INFO:pytorch_lightning.utilities.rank_zero:GPU available: True (cuda), used: True\n",
            "INFO:pytorch_lightning.utilities.rank_zero:TPU available: False, using: 0 TPU cores\n",
            "INFO:pytorch_lightning.utilities.rank_zero:IPU available: False, using: 0 IPUs\n",
            "INFO:pytorch_lightning.utilities.rank_zero:HPU available: False, using: 0 HPUs\n",
            "WARNING:pytorch_lightning.loggers.tensorboard:Missing logger folder: lightning_logs/ultraswin\n"
          ]
        },
        {
          "output_type": "stream",
          "name": "stdout",
          "text": [
            "prepare data\n",
            "setup: /content/EchoNet-Dynamic\n"
          ]
        },
        {
          "output_type": "stream",
          "name": "stderr",
          "text": [
            "INFO:pytorch_lightning.accelerators.cuda:LOCAL_RANK: 0 - CUDA_VISIBLE_DEVICES: [0]\n",
            "/usr/local/lib/python3.10/dist-packages/torch/optim/lr_scheduler.py:28: UserWarning: The verbose parameter is deprecated. Please use get_last_lr() to access the learning rate.\n",
            "  warnings.warn(\"The verbose parameter is deprecated. Please use get_last_lr() \"\n",
            "INFO:pytorch_lightning.callbacks.model_summary:\n",
            "   | Name             | Type              | Params\n",
            "--------------------------------------------------------\n",
            "0  | val_rmse         | MeanSquaredError  | 0     \n",
            "1  | val_mae          | MeanAbsoluteError | 0     \n",
            "2  | val_r2           | R2Score           | 0     \n",
            "3  | test_rmse        | MeanSquaredError  | 0     \n",
            "4  | test_mse         | MeanSquaredError  | 0     \n",
            "5  | test_mae         | MeanAbsoluteError | 0     \n",
            "6  | test_r2          | R2Score           | 0     \n",
            "7  | swin_transformer | SwinTransformer3D | 48.9 M\n",
            "8  | extremas         | Sequential        | 370 K \n",
            "9  | ejection         | Sequential        | 372 K \n",
            "10 | avg_pool         | AdaptiveAvgPool3d | 0     \n",
            "11 | reduce           | Reduce            | 0     \n",
            "--------------------------------------------------------\n",
            "49.7 M    Trainable params\n",
            "0         Non-trainable params\n",
            "49.7 M    Total params\n",
            "198.756   Total estimated model params size (MB)\n"
          ]
        },
        {
          "output_type": "display_data",
          "data": {
            "text/plain": [
              "Sanity Checking: |          | 0/? [00:00<?, ?it/s]"
            ],
            "application/vnd.jupyter.widget-view+json": {
              "version_major": 2,
              "version_minor": 0,
              "model_id": "cc7a4f6f55ae4a208a0ab9e5bd3a95e0"
            }
          },
          "metadata": {}
        },
        {
          "output_type": "stream",
          "name": "stderr",
          "text": [
            "/usr/lib/python3.10/multiprocessing/popen_fork.py:66: RuntimeWarning: os.fork() was called. os.fork() is incompatible with multithreaded code, and JAX is multithreaded, so this will likely lead to a deadlock.\n",
            "  self.pid = os.fork()\n"
          ]
        },
        {
          "output_type": "display_data",
          "data": {
            "text/plain": [
              "Training: |          | 0/? [00:00<?, ?it/s]"
            ],
            "application/vnd.jupyter.widget-view+json": {
              "version_major": 2,
              "version_minor": 0,
              "model_id": "c5f609e08e3744698f9accea2c4f90f0"
            }
          },
          "metadata": {}
        },
        {
          "output_type": "stream",
          "name": "stderr",
          "text": [
            "/usr/lib/python3.10/multiprocessing/popen_fork.py:66: RuntimeWarning: os.fork() was called. os.fork() is incompatible with multithreaded code, and JAX is multithreaded, so this will likely lead to a deadlock.\n",
            "  self.pid = os.fork()\n"
          ]
        },
        {
          "output_type": "display_data",
          "data": {
            "text/plain": [
              "Validation: |          | 0/? [00:00<?, ?it/s]"
            ],
            "application/vnd.jupyter.widget-view+json": {
              "version_major": 2,
              "version_minor": 0,
              "model_id": "26a13e27aa7a4261bad0330acddee050"
            }
          },
          "metadata": {}
        },
        {
          "output_type": "display_data",
          "data": {
            "text/plain": [
              "Validation: |          | 0/? [00:00<?, ?it/s]"
            ],
            "application/vnd.jupyter.widget-view+json": {
              "version_major": 2,
              "version_minor": 0,
              "model_id": "61af18fb14a1464f811c5189daedae65"
            }
          },
          "metadata": {}
        },
        {
          "output_type": "stream",
          "name": "stderr",
          "text": [
            "INFO:pytorch_lightning.utilities.rank_zero:`Trainer.fit` stopped: `max_epochs=2` reached.\n"
          ]
        }
      ],
      "source": [
        "%run main.py \\\n",
        "    --mode=train \\\n",
        "    --data_dir=/content/EchoNet-Dynamic \\\n",
        "    --batch_size=4 \\\n",
        "    --num_workers=2 \\\n",
        "    --accelerator=gpu \\\n",
        "    --variant=small \\\n",
        "    --max_epochs=2"
      ]
    },
    {
      "cell_type": "code",
      "source": [
        "%run main.py \\\n",
        "    --mode=test \\\n",
        "    --data_dir=/content/EchoNet-Dynamic \\\n",
        "    --ckpt_path=/content/Swin-KD/student.ckpt \\\n",
        "    --batch_size=4 \\\n",
        "    --num_workers=2 \\\n",
        "    --accelerator=gpu \\\n",
        "    --variant=small"
      ],
      "metadata": {
        "id": "8uwU6S3yHCQv",
        "outputId": "1d8fd904-3ca7-4648-f3f6-515f583b2212",
        "colab": {
          "base_uri": "https://localhost:8080/",
          "height": 490,
          "referenced_widgets": [
            "bf84b07f640e48d3be3233e91c48bb1d",
            "f198f39a6765405fad97a77dfecdec77",
            "9cf135b944864431a36a598fa154ddc1",
            "01931f4cf51b4573b5542ef9bbad580c",
            "16c21ed509ab459ba6c409fd6e9ac0b4",
            "8928ad7e63294cdd81e1370339885d9a",
            "8783664c6a4949a5ae6b917d0087cf57",
            "03173da921e8434b98a03d3631e8ac6f",
            "a33ab08fcd5446019834777aa7c4ef49",
            "cf130a96736b48db861477035f2381d3",
            "ddbc851276c24f14a60efa211c152166"
          ]
        }
      },
      "execution_count": null,
      "outputs": [
        {
          "output_type": "stream",
          "name": "stderr",
          "text": [
            "/usr/local/lib/python3.10/dist-packages/torch/functional.py:507: UserWarning: torch.meshgrid: in an upcoming release, it will be required to pass the indexing argument. (Triggered internally at ../aten/src/ATen/native/TensorShape.cpp:3549.)\n",
            "  return _VF.meshgrid(tensors, **kwargs)  # type: ignore[attr-defined]\n",
            "/usr/local/lib/python3.10/dist-packages/lightning_fabric/connector.py:563: `precision=16` is supported for historical reasons but its usage is discouraged. Please set your precision to 16-mixed instead!\n",
            "INFO:pytorch_lightning.utilities.rank_zero:Using 16bit Automatic Mixed Precision (AMP)\n",
            "INFO:pytorch_lightning.utilities.rank_zero:GPU available: True (cuda), used: True\n",
            "INFO:pytorch_lightning.utilities.rank_zero:TPU available: False, using: 0 TPU cores\n",
            "INFO:pytorch_lightning.utilities.rank_zero:IPU available: False, using: 0 IPUs\n",
            "INFO:pytorch_lightning.utilities.rank_zero:HPU available: False, using: 0 HPUs\n"
          ]
        },
        {
          "output_type": "stream",
          "name": "stdout",
          "text": [
            "prepare data\n",
            "setup: /content/EchoNet-Dynamic\n"
          ]
        },
        {
          "output_type": "stream",
          "name": "stderr",
          "text": [
            "INFO:pytorch_lightning.utilities.rank_zero:Restoring states from the checkpoint path at /content/Swin-KD/student.ckpt\n",
            "INFO:pytorch_lightning.accelerators.cuda:LOCAL_RANK: 0 - CUDA_VISIBLE_DEVICES: [0]\n",
            "INFO:pytorch_lightning.utilities.rank_zero:Loaded model weights from the checkpoint at /content/Swin-KD/student.ckpt\n",
            "/usr/lib/python3.10/multiprocessing/popen_fork.py:66: RuntimeWarning: os.fork() was called. os.fork() is incompatible with multithreaded code, and JAX is multithreaded, so this will likely lead to a deadlock.\n",
            "  self.pid = os.fork()\n"
          ]
        },
        {
          "output_type": "display_data",
          "data": {
            "text/plain": [
              "Testing: |          | 0/? [00:00<?, ?it/s]"
            ],
            "application/vnd.jupyter.widget-view+json": {
              "version_major": 2,
              "version_minor": 0,
              "model_id": "bf84b07f640e48d3be3233e91c48bb1d"
            }
          },
          "metadata": {}
        },
        {
          "output_type": "display_data",
          "data": {
            "text/plain": [
              "┏━━━━━━━━━━━━━━━━━━━━━━━━━━━┳━━━━━━━━━━━━━━━━━━━━━━━━━━━┓\n",
              "┃\u001b[1m \u001b[0m\u001b[1m       Test metric       \u001b[0m\u001b[1m \u001b[0m┃\u001b[1m \u001b[0m\u001b[1m      DataLoader 0       \u001b[0m\u001b[1m \u001b[0m┃\n",
              "┡━━━━━━━━━━━━━━━━━━━━━━━━━━━╇━━━━━━━━━━━━━━━━━━━━━━━━━━━┩\n",
              "│\u001b[36m \u001b[0m\u001b[36m        test_loss        \u001b[0m\u001b[36m \u001b[0m│\u001b[35m \u001b[0m\u001b[35m  0.014128448441624641   \u001b[0m\u001b[35m \u001b[0m│\n",
              "│\u001b[36m \u001b[0m\u001b[36m        test_mae         \u001b[0m\u001b[36m \u001b[0m│\u001b[35m \u001b[0m\u001b[35m   0.0877532809972763    \u001b[0m\u001b[35m \u001b[0m│\n",
              "│\u001b[36m \u001b[0m\u001b[36m        test_mse         \u001b[0m\u001b[36m \u001b[0m│\u001b[35m \u001b[0m\u001b[35m   0.01414557732641697   \u001b[0m\u001b[35m \u001b[0m│\n",
              "│\u001b[36m \u001b[0m\u001b[36m         test_r2         \u001b[0m\u001b[36m \u001b[0m│\u001b[35m \u001b[0m\u001b[35m -0.0014613866806030273  \u001b[0m\u001b[35m \u001b[0m│\n",
              "│\u001b[36m \u001b[0m\u001b[36m        test_rmse        \u001b[0m\u001b[36m \u001b[0m│\u001b[35m \u001b[0m\u001b[35m   0.11893518269062042   \u001b[0m\u001b[35m \u001b[0m│\n",
              "└───────────────────────────┴───────────────────────────┘\n"
            ],
            "text/html": [
              "<pre style=\"white-space:pre;overflow-x:auto;line-height:normal;font-family:Menlo,'DejaVu Sans Mono',consolas,'Courier New',monospace\">┏━━━━━━━━━━━━━━━━━━━━━━━━━━━┳━━━━━━━━━━━━━━━━━━━━━━━━━━━┓\n",
              "┃<span style=\"font-weight: bold\">        Test metric        </span>┃<span style=\"font-weight: bold\">       DataLoader 0        </span>┃\n",
              "┡━━━━━━━━━━━━━━━━━━━━━━━━━━━╇━━━━━━━━━━━━━━━━━━━━━━━━━━━┩\n",
              "│<span style=\"color: #008080; text-decoration-color: #008080\">         test_loss         </span>│<span style=\"color: #800080; text-decoration-color: #800080\">   0.014128448441624641    </span>│\n",
              "│<span style=\"color: #008080; text-decoration-color: #008080\">         test_mae          </span>│<span style=\"color: #800080; text-decoration-color: #800080\">    0.0877532809972763     </span>│\n",
              "│<span style=\"color: #008080; text-decoration-color: #008080\">         test_mse          </span>│<span style=\"color: #800080; text-decoration-color: #800080\">    0.01414557732641697    </span>│\n",
              "│<span style=\"color: #008080; text-decoration-color: #008080\">          test_r2          </span>│<span style=\"color: #800080; text-decoration-color: #800080\">  -0.0014613866806030273   </span>│\n",
              "│<span style=\"color: #008080; text-decoration-color: #008080\">         test_rmse         </span>│<span style=\"color: #800080; text-decoration-color: #800080\">    0.11893518269062042    </span>│\n",
              "└───────────────────────────┴───────────────────────────┘\n",
              "</pre>\n"
            ]
          },
          "metadata": {}
        }
      ]
    },
    {
      "cell_type": "markdown",
      "metadata": {
        "id": "3uiMqJSmSWmr"
      },
      "source": [
        "KD"
      ]
    },
    {
      "cell_type": "markdown",
      "source": [
        "student"
      ],
      "metadata": {
        "id": "3nkroWhQ8fwZ"
      }
    },
    {
      "cell_type": "code",
      "execution_count": 8,
      "metadata": {
        "colab": {
          "base_uri": "https://localhost:8080/"
        },
        "id": "QjEeArOdaeYr",
        "outputId": "59377a49-a97e-4037-aee4-5d6a7906d773"
      },
      "outputs": [
        {
          "output_type": "stream",
          "name": "stdout",
          "text": [
            "Downloading...\n",
            "From (original): https://drive.google.com/uc?id=1tyWl7U8Lm-1gv4HBPDsz9kok4Tl2etwj\n",
            "From (redirected): https://drive.google.com/uc?id=1tyWl7U8Lm-1gv4HBPDsz9kok4Tl2etwj&confirm=t&uuid=8af6e595-2129-4420-b585-b1d16459ba86\n",
            "To: /content/Swin-KD/student.ckpt\n",
            "100% 267M/267M [00:03<00:00, 74.0MB/s]\n"
          ]
        }
      ],
      "source": [
        "!gdown 1tyWl7U8Lm-1gv4HBPDsz9kok4Tl2etwj"
      ]
    },
    {
      "cell_type": "markdown",
      "source": [
        "teacher"
      ],
      "metadata": {
        "id": "X1vTWKkg8hGg"
      }
    },
    {
      "cell_type": "code",
      "source": [
        "!gdown 13y80Z6Aq8LIdpQg5rio5wmmvUcd4LHAb"
      ],
      "metadata": {
        "colab": {
          "base_uri": "https://localhost:8080/"
        },
        "id": "SPANJzhCiMFd",
        "outputId": "c3fe5271-b026-4712-ee55-4c1017b18a4f"
      },
      "execution_count": 9,
      "outputs": [
        {
          "output_type": "stream",
          "name": "stdout",
          "text": [
            "Downloading...\n",
            "From (original): https://drive.google.com/uc?id=13y80Z6Aq8LIdpQg5rio5wmmvUcd4LHAb\n",
            "From (redirected): https://drive.google.com/uc?id=13y80Z6Aq8LIdpQg5rio5wmmvUcd4LHAb&confirm=t&uuid=442126cd-1c78-4969-ab90-543255dc4870\n",
            "To: /content/Swin-KD/teacher.ckpt\n",
            "100% 596M/596M [00:09<00:00, 61.9MB/s]\n"
          ]
        }
      ]
    },
    {
      "cell_type": "markdown",
      "source": [
        "kd"
      ],
      "metadata": {
        "id": "bhxWLeCS8h-P"
      }
    },
    {
      "cell_type": "markdown",
      "source": [],
      "metadata": {
        "id": "4oonfIxX8h81"
      }
    },
    {
      "cell_type": "code",
      "source": [
        "!gdown 1Zh9hEyWqCARAenl9ptR4p1Zs_exPsJra"
      ],
      "metadata": {
        "colab": {
          "base_uri": "https://localhost:8080/"
        },
        "id": "TFgPp-ieUhVt",
        "outputId": "693a20e0-55f6-461a-d0f4-566243dcbfbe"
      },
      "execution_count": 10,
      "outputs": [
        {
          "output_type": "stream",
          "name": "stdout",
          "text": [
            "Downloading...\n",
            "From (original): https://drive.google.com/uc?id=1Zh9hEyWqCARAenl9ptR4p1Zs_exPsJra\n",
            "From (redirected): https://drive.google.com/uc?id=1Zh9hEyWqCARAenl9ptR4p1Zs_exPsJra&confirm=t&uuid=d0e7840f-a8ce-465b-9e77-1cafb71735b3\n",
            "To: /content/Swin-KD/kd.ckpt\n",
            "100% 468M/468M [00:06<00:00, 72.0MB/s]\n"
          ]
        }
      ]
    },
    {
      "cell_type": "markdown",
      "source": [
        "cleaned kd"
      ],
      "metadata": {
        "id": "6SFQ4EHkKqbs"
      }
    },
    {
      "cell_type": "code",
      "source": [
        "!gdown"
      ],
      "metadata": {
        "id": "rlPaKGaDKr4x"
      },
      "execution_count": null,
      "outputs": []
    },
    {
      "cell_type": "markdown",
      "source": [
        "#FIXED KD\n"
      ],
      "metadata": {
        "id": "Q5cTCO4BbBiV"
      }
    },
    {
      "cell_type": "code",
      "source": [
        "from models.KD import KDFrame\n",
        "import argparse\n",
        "import pytorch_lightning as pl\n",
        "from models.ultra_swin import UltraSwin\n",
        "from datamodules.EchoNetDataModule import EchoNetDataModule\n",
        "from pytorch_lightning.loggers import TensorBoardLogger\n",
        "from pytorch_lightning.callbacks.early_stopping import EarlyStopping\n",
        "from pytorch_lightning.callbacks import ModelCheckpoint"
      ],
      "metadata": {
        "id": "9uB_nJvFbvXO"
      },
      "execution_count": 11,
      "outputs": []
    },
    {
      "cell_type": "code",
      "source": [
        "tdata_module = EchoNetDataModule(data_dir='/content/EchoNet-Dynamic',\n",
        "                        batch_size=4,\n",
        "                        num_workers=2\n",
        "                       )"
      ],
      "metadata": {
        "id": "MH5B75K2-qnn"
      },
      "execution_count": 12,
      "outputs": []
    },
    {
      "cell_type": "code",
      "source": [
        "checkpoint_callback = ModelCheckpoint(\n",
        "    monitor=\"loss\",\n",
        "    dirpath=\"checkpoints\",\n",
        "    filename=\"KD-{epoch:02d}-{kd_loss:.2f}\",\n",
        "    save_top_k=3,\n",
        "    mode=\"min\",\n",
        ")\n"
      ],
      "metadata": {
        "id": "abCFhUGL9WKX"
      },
      "execution_count": 13,
      "outputs": []
    },
    {
      "cell_type": "code",
      "source": [
        "tdata_module = EchoNetDataModule(data_dir='/content/EchoNet-Dynamic',\n",
        "                        batch_size=4,\n",
        "                        num_workers=2\n",
        "                       )\n",
        "teacher_model = UltraSwin.load_from_checkpoint(\"/content/Swin-KD/teacher.ckpt\")\n",
        "student_model = UltraSwin.load_from_checkpoint(\"/content/Swin-KD/student.ckpt\")\n",
        "# Initialize model\n",
        "Kdm= KDFrame(teacher_model, student_model)\n",
        "\n",
        "\n",
        "\n",
        "# Initialize the trainer\n",
        "trainer = pl.Trainer(\n",
        "    accelerator='gpu',\n",
        "    max_epochs=1,\n",
        "    num_sanity_val_steps=1,\n",
        "    enable_model_summary=True,\n",
        "    logger=TensorBoardLogger(save_dir='lightning_logs', name=\"my_model\"),\n",
        "    precision=16,\n",
        "    accumulate_grad_batches=2,\n",
        "    callbacks=[\n",
        "        EarlyStopping(monitor=\"loss\", mode=\"min\", patience=10),\n",
        "        checkpoint_callback,\n",
        "    ],\n",
        ")\n",
        "\n",
        "# Train the model\n",
        "trainer.fit(\n",
        "    Kdm,\n",
        "    tdata_module\n",
        ")\n"
      ],
      "metadata": {
        "colab": {
          "base_uri": "https://localhost:8080/",
          "height": 471,
          "referenced_widgets": [
            "69a0d50e68e24cdf9559fa23e3b8f952",
            "5f5116ee64754c0f95538fcbc98026c2",
            "ae6f62a1057f47a880420fa6c7502305",
            "8ff3011cd93943b8993234ee84b9609c",
            "14ccdfa31e1546e680696c595174a8e3",
            "c7a9d26e5f464b4987a198cef5b5f72e",
            "adfcd13bf347411daa821e40f8d63ddd",
            "eee2be66644f4f8094eda06079d0475e",
            "016038c9dda944b99709bce81b113a1c",
            "4763e0da253d4653b1368460b901df88",
            "f3bf69e505d44f2eb77c92208810dc33",
            "835148740bd544478a725469672f1d60",
            "2f42d099b0dc4ebea2fc0be04140fd42",
            "7ee30ee6ee194edb93c048832dc83fb4",
            "ec40790a02be4915a5ca8831d22d4a13",
            "4838a72f60804982834ad3318e85d9ce",
            "bceeaebab3044ee1a36f96c5a0cb9cc9",
            "07126162d603495a8031010eda90e0ac",
            "de191de228c2464ab632f83edb2c17ff",
            "ffac918070784f95827743fe702c4c02",
            "3fbfec0844404c9299b92da9e3268291",
            "cfb6eaa183254710bba3e2c7200f4c6e",
            "47f65b8e729a43d1b6d541356e23000e",
            "26f446ce1bc2493888b03b652f30c581",
            "ef6542aa145b440ea6f98d3e8fa3ed06",
            "8c23b2577bf7479cbefdc02245c2bc16",
            "392560c987464e2aa5a7a9b89d57b1fd",
            "7a8ef887dde14e639b777f44aa1f549c",
            "727fcd6bc6d54bac8526951023b3d274",
            "cda9dbe9643b4e4486f37c84b427fdf4",
            "245008691ef14630851123419b6a23f6",
            "193d71ed082f46bd85ef0c8fa22db028",
            "39b0a9926f2e47828b54119caa0bb075"
          ]
        },
        "id": "y58jMuqvaY6C",
        "outputId": "5068dcd2-b032-46da-f902-61730b3f9c49"
      },
      "execution_count": null,
      "outputs": [
        {
          "output_type": "stream",
          "name": "stderr",
          "text": [
            "/usr/local/lib/python3.10/dist-packages/lightning_fabric/connector.py:563: `precision=16` is supported for historical reasons but its usage is discouraged. Please set your precision to 16-mixed instead!\n",
            "INFO:pytorch_lightning.utilities.rank_zero:Using 16bit Automatic Mixed Precision (AMP)\n",
            "INFO:pytorch_lightning.utilities.rank_zero:GPU available: True (cuda), used: True\n",
            "INFO:pytorch_lightning.utilities.rank_zero:TPU available: False, using: 0 TPU cores\n",
            "INFO:pytorch_lightning.utilities.rank_zero:IPU available: False, using: 0 IPUs\n",
            "INFO:pytorch_lightning.utilities.rank_zero:HPU available: False, using: 0 HPUs\n"
          ]
        },
        {
          "output_type": "stream",
          "name": "stdout",
          "text": [
            "prepare data\n",
            "setup: /content/EchoNet-Dynamic\n"
          ]
        },
        {
          "output_type": "stream",
          "name": "stderr",
          "text": [
            "INFO:pytorch_lightning.accelerators.cuda:LOCAL_RANK: 0 - CUDA_VISIBLE_DEVICES: [0]\n",
            "/usr/local/lib/python3.10/dist-packages/torch/optim/lr_scheduler.py:28: UserWarning: The verbose parameter is deprecated. Please use get_last_lr() to access the learning rate.\n",
            "  warnings.warn(\"The verbose parameter is deprecated. Please use get_last_lr() \"\n",
            "INFO:pytorch_lightning.callbacks.model_summary:\n",
            "  | Name          | Type      | Params\n",
            "--------------------------------------------\n",
            "0 | teacher_model | UltraSwin | 49.7 M\n",
            "1 | student_model | UltraSwin | 22.1 M\n",
            "--------------------------------------------\n",
            "71.8 M    Trainable params\n",
            "0         Non-trainable params\n",
            "71.8 M    Total params\n",
            "287.351   Total estimated model params size (MB)\n"
          ]
        },
        {
          "output_type": "display_data",
          "data": {
            "text/plain": [
              "Sanity Checking: |          | 0/? [00:00<?, ?it/s]"
            ],
            "application/vnd.jupyter.widget-view+json": {
              "version_major": 2,
              "version_minor": 0,
              "model_id": "69a0d50e68e24cdf9559fa23e3b8f952"
            }
          },
          "metadata": {}
        },
        {
          "output_type": "display_data",
          "data": {
            "text/plain": [
              "Training: |          | 0/? [00:00<?, ?it/s]"
            ],
            "application/vnd.jupyter.widget-view+json": {
              "version_major": 2,
              "version_minor": 0,
              "model_id": "835148740bd544478a725469672f1d60"
            }
          },
          "metadata": {}
        },
        {
          "output_type": "display_data",
          "data": {
            "text/plain": [
              "Validation: |          | 0/? [00:00<?, ?it/s]"
            ],
            "application/vnd.jupyter.widget-view+json": {
              "version_major": 2,
              "version_minor": 0,
              "model_id": "47f65b8e729a43d1b6d541356e23000e"
            }
          },
          "metadata": {}
        },
        {
          "output_type": "stream",
          "name": "stderr",
          "text": [
            "INFO:pytorch_lightning.utilities.rank_zero:`Trainer.fit` stopped: `max_epochs=1` reached.\n"
          ]
        }
      ]
    },
    {
      "cell_type": "code",
      "source": [
        "student_model = UltraSwin.load_from_checkpoint(\"/content/Swin-KD/student.ckpt\")\n",
        "\n",
        "distilled_model = UltraSwin.load_from_checkpoint(\"/content/Swin-KD/kd.ckpt\", strict=False)\n"
      ],
      "metadata": {
        "colab": {
          "base_uri": "https://localhost:8080/"
        },
        "id": "UMB8t9EajqhA",
        "outputId": "ee3256d4-1c58-4069-de57-fda6b18f7d74"
      },
      "execution_count": null,
      "outputs": [
        {
          "output_type": "stream",
          "name": "stderr",
          "text": [
            "/usr/local/lib/python3.10/dist-packages/pytorch_lightning/core/saving.py:184: Found keys that are in the model state dict but not in the checkpoint: ['swin_transformer.patch_embed.proj.weight', 'swin_transformer.patch_embed.proj.bias', 'swin_transformer.patch_embed.norm.weight', 'swin_transformer.patch_embed.norm.bias', 'swin_transformer.layers.0.blocks.0.norm1.weight', 'swin_transformer.layers.0.blocks.0.norm1.bias', 'swin_transformer.layers.0.blocks.0.attn.relative_position_bias_table', 'swin_transformer.layers.0.blocks.0.attn.relative_position_index', 'swin_transformer.layers.0.blocks.0.attn.qkv.weight', 'swin_transformer.layers.0.blocks.0.attn.qkv.bias', 'swin_transformer.layers.0.blocks.0.attn.proj.weight', 'swin_transformer.layers.0.blocks.0.attn.proj.bias', 'swin_transformer.layers.0.blocks.0.norm2.weight', 'swin_transformer.layers.0.blocks.0.norm2.bias', 'swin_transformer.layers.0.blocks.0.mlp.fc1.weight', 'swin_transformer.layers.0.blocks.0.mlp.fc1.bias', 'swin_transformer.layers.0.blocks.0.mlp.fc2.weight', 'swin_transformer.layers.0.blocks.0.mlp.fc2.bias', 'swin_transformer.layers.0.blocks.1.norm1.weight', 'swin_transformer.layers.0.blocks.1.norm1.bias', 'swin_transformer.layers.0.blocks.1.attn.relative_position_bias_table', 'swin_transformer.layers.0.blocks.1.attn.relative_position_index', 'swin_transformer.layers.0.blocks.1.attn.qkv.weight', 'swin_transformer.layers.0.blocks.1.attn.qkv.bias', 'swin_transformer.layers.0.blocks.1.attn.proj.weight', 'swin_transformer.layers.0.blocks.1.attn.proj.bias', 'swin_transformer.layers.0.blocks.1.norm2.weight', 'swin_transformer.layers.0.blocks.1.norm2.bias', 'swin_transformer.layers.0.blocks.1.mlp.fc1.weight', 'swin_transformer.layers.0.blocks.1.mlp.fc1.bias', 'swin_transformer.layers.0.blocks.1.mlp.fc2.weight', 'swin_transformer.layers.0.blocks.1.mlp.fc2.bias', 'swin_transformer.layers.0.downsample.reduction.weight', 'swin_transformer.layers.0.downsample.norm.weight', 'swin_transformer.layers.0.downsample.norm.bias', 'swin_transformer.layers.1.blocks.0.norm1.weight', 'swin_transformer.layers.1.blocks.0.norm1.bias', 'swin_transformer.layers.1.blocks.0.attn.relative_position_bias_table', 'swin_transformer.layers.1.blocks.0.attn.relative_position_index', 'swin_transformer.layers.1.blocks.0.attn.qkv.weight', 'swin_transformer.layers.1.blocks.0.attn.qkv.bias', 'swin_transformer.layers.1.blocks.0.attn.proj.weight', 'swin_transformer.layers.1.blocks.0.attn.proj.bias', 'swin_transformer.layers.1.blocks.0.norm2.weight', 'swin_transformer.layers.1.blocks.0.norm2.bias', 'swin_transformer.layers.1.blocks.0.mlp.fc1.weight', 'swin_transformer.layers.1.blocks.0.mlp.fc1.bias', 'swin_transformer.layers.1.blocks.0.mlp.fc2.weight', 'swin_transformer.layers.1.blocks.0.mlp.fc2.bias', 'swin_transformer.layers.1.blocks.1.norm1.weight', 'swin_transformer.layers.1.blocks.1.norm1.bias', 'swin_transformer.layers.1.blocks.1.attn.relative_position_bias_table', 'swin_transformer.layers.1.blocks.1.attn.relative_position_index', 'swin_transformer.layers.1.blocks.1.attn.qkv.weight', 'swin_transformer.layers.1.blocks.1.attn.qkv.bias', 'swin_transformer.layers.1.blocks.1.attn.proj.weight', 'swin_transformer.layers.1.blocks.1.attn.proj.bias', 'swin_transformer.layers.1.blocks.1.norm2.weight', 'swin_transformer.layers.1.blocks.1.norm2.bias', 'swin_transformer.layers.1.blocks.1.mlp.fc1.weight', 'swin_transformer.layers.1.blocks.1.mlp.fc1.bias', 'swin_transformer.layers.1.blocks.1.mlp.fc2.weight', 'swin_transformer.layers.1.blocks.1.mlp.fc2.bias', 'swin_transformer.layers.1.downsample.reduction.weight', 'swin_transformer.layers.1.downsample.norm.weight', 'swin_transformer.layers.1.downsample.norm.bias', 'swin_transformer.layers.2.blocks.0.norm1.weight', 'swin_transformer.layers.2.blocks.0.norm1.bias', 'swin_transformer.layers.2.blocks.0.attn.relative_position_bias_table', 'swin_transformer.layers.2.blocks.0.attn.relative_position_index', 'swin_transformer.layers.2.blocks.0.attn.qkv.weight', 'swin_transformer.layers.2.blocks.0.attn.qkv.bias', 'swin_transformer.layers.2.blocks.0.attn.proj.weight', 'swin_transformer.layers.2.blocks.0.attn.proj.bias', 'swin_transformer.layers.2.blocks.0.norm2.weight', 'swin_transformer.layers.2.blocks.0.norm2.bias', 'swin_transformer.layers.2.blocks.0.mlp.fc1.weight', 'swin_transformer.layers.2.blocks.0.mlp.fc1.bias', 'swin_transformer.layers.2.blocks.0.mlp.fc2.weight', 'swin_transformer.layers.2.blocks.0.mlp.fc2.bias', 'swin_transformer.layers.2.blocks.1.norm1.weight', 'swin_transformer.layers.2.blocks.1.norm1.bias', 'swin_transformer.layers.2.blocks.1.attn.relative_position_bias_table', 'swin_transformer.layers.2.blocks.1.attn.relative_position_index', 'swin_transformer.layers.2.blocks.1.attn.qkv.weight', 'swin_transformer.layers.2.blocks.1.attn.qkv.bias', 'swin_transformer.layers.2.blocks.1.attn.proj.weight', 'swin_transformer.layers.2.blocks.1.attn.proj.bias', 'swin_transformer.layers.2.blocks.1.norm2.weight', 'swin_transformer.layers.2.blocks.1.norm2.bias', 'swin_transformer.layers.2.blocks.1.mlp.fc1.weight', 'swin_transformer.layers.2.blocks.1.mlp.fc1.bias', 'swin_transformer.layers.2.blocks.1.mlp.fc2.weight', 'swin_transformer.layers.2.blocks.1.mlp.fc2.bias', 'swin_transformer.layers.2.blocks.2.norm1.weight', 'swin_transformer.layers.2.blocks.2.norm1.bias', 'swin_transformer.layers.2.blocks.2.attn.relative_position_bias_table', 'swin_transformer.layers.2.blocks.2.attn.relative_position_index', 'swin_transformer.layers.2.blocks.2.attn.qkv.weight', 'swin_transformer.layers.2.blocks.2.attn.qkv.bias', 'swin_transformer.layers.2.blocks.2.attn.proj.weight', 'swin_transformer.layers.2.blocks.2.attn.proj.bias', 'swin_transformer.layers.2.blocks.2.norm2.weight', 'swin_transformer.layers.2.blocks.2.norm2.bias', 'swin_transformer.layers.2.blocks.2.mlp.fc1.weight', 'swin_transformer.layers.2.blocks.2.mlp.fc1.bias', 'swin_transformer.layers.2.blocks.2.mlp.fc2.weight', 'swin_transformer.layers.2.blocks.2.mlp.fc2.bias', 'swin_transformer.layers.2.blocks.3.norm1.weight', 'swin_transformer.layers.2.blocks.3.norm1.bias', 'swin_transformer.layers.2.blocks.3.attn.relative_position_bias_table', 'swin_transformer.layers.2.blocks.3.attn.relative_position_index', 'swin_transformer.layers.2.blocks.3.attn.qkv.weight', 'swin_transformer.layers.2.blocks.3.attn.qkv.bias', 'swin_transformer.layers.2.blocks.3.attn.proj.weight', 'swin_transformer.layers.2.blocks.3.attn.proj.bias', 'swin_transformer.layers.2.blocks.3.norm2.weight', 'swin_transformer.layers.2.blocks.3.norm2.bias', 'swin_transformer.layers.2.blocks.3.mlp.fc1.weight', 'swin_transformer.layers.2.blocks.3.mlp.fc1.bias', 'swin_transformer.layers.2.blocks.3.mlp.fc2.weight', 'swin_transformer.layers.2.blocks.3.mlp.fc2.bias', 'swin_transformer.layers.2.blocks.4.norm1.weight', 'swin_transformer.layers.2.blocks.4.norm1.bias', 'swin_transformer.layers.2.blocks.4.attn.relative_position_bias_table', 'swin_transformer.layers.2.blocks.4.attn.relative_position_index', 'swin_transformer.layers.2.blocks.4.attn.qkv.weight', 'swin_transformer.layers.2.blocks.4.attn.qkv.bias', 'swin_transformer.layers.2.blocks.4.attn.proj.weight', 'swin_transformer.layers.2.blocks.4.attn.proj.bias', 'swin_transformer.layers.2.blocks.4.norm2.weight', 'swin_transformer.layers.2.blocks.4.norm2.bias', 'swin_transformer.layers.2.blocks.4.mlp.fc1.weight', 'swin_transformer.layers.2.blocks.4.mlp.fc1.bias', 'swin_transformer.layers.2.blocks.4.mlp.fc2.weight', 'swin_transformer.layers.2.blocks.4.mlp.fc2.bias', 'swin_transformer.layers.2.blocks.5.norm1.weight', 'swin_transformer.layers.2.blocks.5.norm1.bias', 'swin_transformer.layers.2.blocks.5.attn.relative_position_bias_table', 'swin_transformer.layers.2.blocks.5.attn.relative_position_index', 'swin_transformer.layers.2.blocks.5.attn.qkv.weight', 'swin_transformer.layers.2.blocks.5.attn.qkv.bias', 'swin_transformer.layers.2.blocks.5.attn.proj.weight', 'swin_transformer.layers.2.blocks.5.attn.proj.bias', 'swin_transformer.layers.2.blocks.5.norm2.weight', 'swin_transformer.layers.2.blocks.5.norm2.bias', 'swin_transformer.layers.2.blocks.5.mlp.fc1.weight', 'swin_transformer.layers.2.blocks.5.mlp.fc1.bias', 'swin_transformer.layers.2.blocks.5.mlp.fc2.weight', 'swin_transformer.layers.2.blocks.5.mlp.fc2.bias', 'swin_transformer.layers.2.downsample.reduction.weight', 'swin_transformer.layers.2.downsample.norm.weight', 'swin_transformer.layers.2.downsample.norm.bias', 'swin_transformer.layers.3.blocks.0.norm1.weight', 'swin_transformer.layers.3.blocks.0.norm1.bias', 'swin_transformer.layers.3.blocks.0.attn.relative_position_bias_table', 'swin_transformer.layers.3.blocks.0.attn.relative_position_index', 'swin_transformer.layers.3.blocks.0.attn.qkv.weight', 'swin_transformer.layers.3.blocks.0.attn.qkv.bias', 'swin_transformer.layers.3.blocks.0.attn.proj.weight', 'swin_transformer.layers.3.blocks.0.attn.proj.bias', 'swin_transformer.layers.3.blocks.0.norm2.weight', 'swin_transformer.layers.3.blocks.0.norm2.bias', 'swin_transformer.layers.3.blocks.0.mlp.fc1.weight', 'swin_transformer.layers.3.blocks.0.mlp.fc1.bias', 'swin_transformer.layers.3.blocks.0.mlp.fc2.weight', 'swin_transformer.layers.3.blocks.0.mlp.fc2.bias', 'swin_transformer.layers.3.blocks.1.norm1.weight', 'swin_transformer.layers.3.blocks.1.norm1.bias', 'swin_transformer.layers.3.blocks.1.attn.relative_position_bias_table', 'swin_transformer.layers.3.blocks.1.attn.relative_position_index', 'swin_transformer.layers.3.blocks.1.attn.qkv.weight', 'swin_transformer.layers.3.blocks.1.attn.qkv.bias', 'swin_transformer.layers.3.blocks.1.attn.proj.weight', 'swin_transformer.layers.3.blocks.1.attn.proj.bias', 'swin_transformer.layers.3.blocks.1.norm2.weight', 'swin_transformer.layers.3.blocks.1.norm2.bias', 'swin_transformer.layers.3.blocks.1.mlp.fc1.weight', 'swin_transformer.layers.3.blocks.1.mlp.fc1.bias', 'swin_transformer.layers.3.blocks.1.mlp.fc2.weight', 'swin_transformer.layers.3.blocks.1.mlp.fc2.bias', 'swin_transformer.norm.weight', 'swin_transformer.norm.bias', 'extremas.0.weight', 'extremas.0.bias', 'extremas.1.weight', 'extremas.1.bias', 'extremas.3.weight', 'extremas.3.bias', 'extremas.4.weight', 'extremas.4.bias', 'extremas.6.weight', 'extremas.6.bias', 'ejection.0.weight', 'ejection.0.bias', 'ejection.1.weight', 'ejection.1.bias', 'ejection.3.weight', 'ejection.3.bias', 'ejection.4.weight', 'ejection.4.bias', 'ejection.6.weight', 'ejection.6.bias', 'ejection.7.weight', 'ejection.7.bias']\n",
            "/usr/local/lib/python3.10/dist-packages/pytorch_lightning/core/saving.py:188: Found keys that are not in the model state dict but in the checkpoint: ['teacher_model.swin_transformer.patch_embed.proj.weight', 'teacher_model.swin_transformer.patch_embed.proj.bias', 'teacher_model.swin_transformer.patch_embed.norm.weight', 'teacher_model.swin_transformer.patch_embed.norm.bias', 'teacher_model.swin_transformer.layers.0.blocks.0.norm1.weight', 'teacher_model.swin_transformer.layers.0.blocks.0.norm1.bias', 'teacher_model.swin_transformer.layers.0.blocks.0.attn.relative_position_bias_table', 'teacher_model.swin_transformer.layers.0.blocks.0.attn.relative_position_index', 'teacher_model.swin_transformer.layers.0.blocks.0.attn.qkv.weight', 'teacher_model.swin_transformer.layers.0.blocks.0.attn.qkv.bias', 'teacher_model.swin_transformer.layers.0.blocks.0.attn.proj.weight', 'teacher_model.swin_transformer.layers.0.blocks.0.attn.proj.bias', 'teacher_model.swin_transformer.layers.0.blocks.0.norm2.weight', 'teacher_model.swin_transformer.layers.0.blocks.0.norm2.bias', 'teacher_model.swin_transformer.layers.0.blocks.0.mlp.fc1.weight', 'teacher_model.swin_transformer.layers.0.blocks.0.mlp.fc1.bias', 'teacher_model.swin_transformer.layers.0.blocks.0.mlp.fc2.weight', 'teacher_model.swin_transformer.layers.0.blocks.0.mlp.fc2.bias', 'teacher_model.swin_transformer.layers.0.blocks.1.norm1.weight', 'teacher_model.swin_transformer.layers.0.blocks.1.norm1.bias', 'teacher_model.swin_transformer.layers.0.blocks.1.attn.relative_position_bias_table', 'teacher_model.swin_transformer.layers.0.blocks.1.attn.relative_position_index', 'teacher_model.swin_transformer.layers.0.blocks.1.attn.qkv.weight', 'teacher_model.swin_transformer.layers.0.blocks.1.attn.qkv.bias', 'teacher_model.swin_transformer.layers.0.blocks.1.attn.proj.weight', 'teacher_model.swin_transformer.layers.0.blocks.1.attn.proj.bias', 'teacher_model.swin_transformer.layers.0.blocks.1.norm2.weight', 'teacher_model.swin_transformer.layers.0.blocks.1.norm2.bias', 'teacher_model.swin_transformer.layers.0.blocks.1.mlp.fc1.weight', 'teacher_model.swin_transformer.layers.0.blocks.1.mlp.fc1.bias', 'teacher_model.swin_transformer.layers.0.blocks.1.mlp.fc2.weight', 'teacher_model.swin_transformer.layers.0.blocks.1.mlp.fc2.bias', 'teacher_model.swin_transformer.layers.0.downsample.reduction.weight', 'teacher_model.swin_transformer.layers.0.downsample.norm.weight', 'teacher_model.swin_transformer.layers.0.downsample.norm.bias', 'teacher_model.swin_transformer.layers.1.blocks.0.norm1.weight', 'teacher_model.swin_transformer.layers.1.blocks.0.norm1.bias', 'teacher_model.swin_transformer.layers.1.blocks.0.attn.relative_position_bias_table', 'teacher_model.swin_transformer.layers.1.blocks.0.attn.relative_position_index', 'teacher_model.swin_transformer.layers.1.blocks.0.attn.qkv.weight', 'teacher_model.swin_transformer.layers.1.blocks.0.attn.qkv.bias', 'teacher_model.swin_transformer.layers.1.blocks.0.attn.proj.weight', 'teacher_model.swin_transformer.layers.1.blocks.0.attn.proj.bias', 'teacher_model.swin_transformer.layers.1.blocks.0.norm2.weight', 'teacher_model.swin_transformer.layers.1.blocks.0.norm2.bias', 'teacher_model.swin_transformer.layers.1.blocks.0.mlp.fc1.weight', 'teacher_model.swin_transformer.layers.1.blocks.0.mlp.fc1.bias', 'teacher_model.swin_transformer.layers.1.blocks.0.mlp.fc2.weight', 'teacher_model.swin_transformer.layers.1.blocks.0.mlp.fc2.bias', 'teacher_model.swin_transformer.layers.1.blocks.1.norm1.weight', 'teacher_model.swin_transformer.layers.1.blocks.1.norm1.bias', 'teacher_model.swin_transformer.layers.1.blocks.1.attn.relative_position_bias_table', 'teacher_model.swin_transformer.layers.1.blocks.1.attn.relative_position_index', 'teacher_model.swin_transformer.layers.1.blocks.1.attn.qkv.weight', 'teacher_model.swin_transformer.layers.1.blocks.1.attn.qkv.bias', 'teacher_model.swin_transformer.layers.1.blocks.1.attn.proj.weight', 'teacher_model.swin_transformer.layers.1.blocks.1.attn.proj.bias', 'teacher_model.swin_transformer.layers.1.blocks.1.norm2.weight', 'teacher_model.swin_transformer.layers.1.blocks.1.norm2.bias', 'teacher_model.swin_transformer.layers.1.blocks.1.mlp.fc1.weight', 'teacher_model.swin_transformer.layers.1.blocks.1.mlp.fc1.bias', 'teacher_model.swin_transformer.layers.1.blocks.1.mlp.fc2.weight', 'teacher_model.swin_transformer.layers.1.blocks.1.mlp.fc2.bias', 'teacher_model.swin_transformer.layers.1.downsample.reduction.weight', 'teacher_model.swin_transformer.layers.1.downsample.norm.weight', 'teacher_model.swin_transformer.layers.1.downsample.norm.bias', 'teacher_model.swin_transformer.layers.2.blocks.0.norm1.weight', 'teacher_model.swin_transformer.layers.2.blocks.0.norm1.bias', 'teacher_model.swin_transformer.layers.2.blocks.0.attn.relative_position_bias_table', 'teacher_model.swin_transformer.layers.2.blocks.0.attn.relative_position_index', 'teacher_model.swin_transformer.layers.2.blocks.0.attn.qkv.weight', 'teacher_model.swin_transformer.layers.2.blocks.0.attn.qkv.bias', 'teacher_model.swin_transformer.layers.2.blocks.0.attn.proj.weight', 'teacher_model.swin_transformer.layers.2.blocks.0.attn.proj.bias', 'teacher_model.swin_transformer.layers.2.blocks.0.norm2.weight', 'teacher_model.swin_transformer.layers.2.blocks.0.norm2.bias', 'teacher_model.swin_transformer.layers.2.blocks.0.mlp.fc1.weight', 'teacher_model.swin_transformer.layers.2.blocks.0.mlp.fc1.bias', 'teacher_model.swin_transformer.layers.2.blocks.0.mlp.fc2.weight', 'teacher_model.swin_transformer.layers.2.blocks.0.mlp.fc2.bias', 'teacher_model.swin_transformer.layers.2.blocks.1.norm1.weight', 'teacher_model.swin_transformer.layers.2.blocks.1.norm1.bias', 'teacher_model.swin_transformer.layers.2.blocks.1.attn.relative_position_bias_table', 'teacher_model.swin_transformer.layers.2.blocks.1.attn.relative_position_index', 'teacher_model.swin_transformer.layers.2.blocks.1.attn.qkv.weight', 'teacher_model.swin_transformer.layers.2.blocks.1.attn.qkv.bias', 'teacher_model.swin_transformer.layers.2.blocks.1.attn.proj.weight', 'teacher_model.swin_transformer.layers.2.blocks.1.attn.proj.bias', 'teacher_model.swin_transformer.layers.2.blocks.1.norm2.weight', 'teacher_model.swin_transformer.layers.2.blocks.1.norm2.bias', 'teacher_model.swin_transformer.layers.2.blocks.1.mlp.fc1.weight', 'teacher_model.swin_transformer.layers.2.blocks.1.mlp.fc1.bias', 'teacher_model.swin_transformer.layers.2.blocks.1.mlp.fc2.weight', 'teacher_model.swin_transformer.layers.2.blocks.1.mlp.fc2.bias', 'teacher_model.swin_transformer.layers.2.blocks.2.norm1.weight', 'teacher_model.swin_transformer.layers.2.blocks.2.norm1.bias', 'teacher_model.swin_transformer.layers.2.blocks.2.attn.relative_position_bias_table', 'teacher_model.swin_transformer.layers.2.blocks.2.attn.relative_position_index', 'teacher_model.swin_transformer.layers.2.blocks.2.attn.qkv.weight', 'teacher_model.swin_transformer.layers.2.blocks.2.attn.qkv.bias', 'teacher_model.swin_transformer.layers.2.blocks.2.attn.proj.weight', 'teacher_model.swin_transformer.layers.2.blocks.2.attn.proj.bias', 'teacher_model.swin_transformer.layers.2.blocks.2.norm2.weight', 'teacher_model.swin_transformer.layers.2.blocks.2.norm2.bias', 'teacher_model.swin_transformer.layers.2.blocks.2.mlp.fc1.weight', 'teacher_model.swin_transformer.layers.2.blocks.2.mlp.fc1.bias', 'teacher_model.swin_transformer.layers.2.blocks.2.mlp.fc2.weight', 'teacher_model.swin_transformer.layers.2.blocks.2.mlp.fc2.bias', 'teacher_model.swin_transformer.layers.2.blocks.3.norm1.weight', 'teacher_model.swin_transformer.layers.2.blocks.3.norm1.bias', 'teacher_model.swin_transformer.layers.2.blocks.3.attn.relative_position_bias_table', 'teacher_model.swin_transformer.layers.2.blocks.3.attn.relative_position_index', 'teacher_model.swin_transformer.layers.2.blocks.3.attn.qkv.weight', 'teacher_model.swin_transformer.layers.2.blocks.3.attn.qkv.bias', 'teacher_model.swin_transformer.layers.2.blocks.3.attn.proj.weight', 'teacher_model.swin_transformer.layers.2.blocks.3.attn.proj.bias', 'teacher_model.swin_transformer.layers.2.blocks.3.norm2.weight', 'teacher_model.swin_transformer.layers.2.blocks.3.norm2.bias', 'teacher_model.swin_transformer.layers.2.blocks.3.mlp.fc1.weight', 'teacher_model.swin_transformer.layers.2.blocks.3.mlp.fc1.bias', 'teacher_model.swin_transformer.layers.2.blocks.3.mlp.fc2.weight', 'teacher_model.swin_transformer.layers.2.blocks.3.mlp.fc2.bias', 'teacher_model.swin_transformer.layers.2.blocks.4.norm1.weight', 'teacher_model.swin_transformer.layers.2.blocks.4.norm1.bias', 'teacher_model.swin_transformer.layers.2.blocks.4.attn.relative_position_bias_table', 'teacher_model.swin_transformer.layers.2.blocks.4.attn.relative_position_index', 'teacher_model.swin_transformer.layers.2.blocks.4.attn.qkv.weight', 'teacher_model.swin_transformer.layers.2.blocks.4.attn.qkv.bias', 'teacher_model.swin_transformer.layers.2.blocks.4.attn.proj.weight', 'teacher_model.swin_transformer.layers.2.blocks.4.attn.proj.bias', 'teacher_model.swin_transformer.layers.2.blocks.4.norm2.weight', 'teacher_model.swin_transformer.layers.2.blocks.4.norm2.bias', 'teacher_model.swin_transformer.layers.2.blocks.4.mlp.fc1.weight', 'teacher_model.swin_transformer.layers.2.blocks.4.mlp.fc1.bias', 'teacher_model.swin_transformer.layers.2.blocks.4.mlp.fc2.weight', 'teacher_model.swin_transformer.layers.2.blocks.4.mlp.fc2.bias', 'teacher_model.swin_transformer.layers.2.blocks.5.norm1.weight', 'teacher_model.swin_transformer.layers.2.blocks.5.norm1.bias', 'teacher_model.swin_transformer.layers.2.blocks.5.attn.relative_position_bias_table', 'teacher_model.swin_transformer.layers.2.blocks.5.attn.relative_position_index', 'teacher_model.swin_transformer.layers.2.blocks.5.attn.qkv.weight', 'teacher_model.swin_transformer.layers.2.blocks.5.attn.qkv.bias', 'teacher_model.swin_transformer.layers.2.blocks.5.attn.proj.weight', 'teacher_model.swin_transformer.layers.2.blocks.5.attn.proj.bias', 'teacher_model.swin_transformer.layers.2.blocks.5.norm2.weight', 'teacher_model.swin_transformer.layers.2.blocks.5.norm2.bias', 'teacher_model.swin_transformer.layers.2.blocks.5.mlp.fc1.weight', 'teacher_model.swin_transformer.layers.2.blocks.5.mlp.fc1.bias', 'teacher_model.swin_transformer.layers.2.blocks.5.mlp.fc2.weight', 'teacher_model.swin_transformer.layers.2.blocks.5.mlp.fc2.bias', 'teacher_model.swin_transformer.layers.2.blocks.6.norm1.weight', 'teacher_model.swin_transformer.layers.2.blocks.6.norm1.bias', 'teacher_model.swin_transformer.layers.2.blocks.6.attn.relative_position_bias_table', 'teacher_model.swin_transformer.layers.2.blocks.6.attn.relative_position_index', 'teacher_model.swin_transformer.layers.2.blocks.6.attn.qkv.weight', 'teacher_model.swin_transformer.layers.2.blocks.6.attn.qkv.bias', 'teacher_model.swin_transformer.layers.2.blocks.6.attn.proj.weight', 'teacher_model.swin_transformer.layers.2.blocks.6.attn.proj.bias', 'teacher_model.swin_transformer.layers.2.blocks.6.norm2.weight', 'teacher_model.swin_transformer.layers.2.blocks.6.norm2.bias', 'teacher_model.swin_transformer.layers.2.blocks.6.mlp.fc1.weight', 'teacher_model.swin_transformer.layers.2.blocks.6.mlp.fc1.bias', 'teacher_model.swin_transformer.layers.2.blocks.6.mlp.fc2.weight', 'teacher_model.swin_transformer.layers.2.blocks.6.mlp.fc2.bias', 'teacher_model.swin_transformer.layers.2.blocks.7.norm1.weight', 'teacher_model.swin_transformer.layers.2.blocks.7.norm1.bias', 'teacher_model.swin_transformer.layers.2.blocks.7.attn.relative_position_bias_table', 'teacher_model.swin_transformer.layers.2.blocks.7.attn.relative_position_index', 'teacher_model.swin_transformer.layers.2.blocks.7.attn.qkv.weight', 'teacher_model.swin_transformer.layers.2.blocks.7.attn.qkv.bias', 'teacher_model.swin_transformer.layers.2.blocks.7.attn.proj.weight', 'teacher_model.swin_transformer.layers.2.blocks.7.attn.proj.bias', 'teacher_model.swin_transformer.layers.2.blocks.7.norm2.weight', 'teacher_model.swin_transformer.layers.2.blocks.7.norm2.bias', 'teacher_model.swin_transformer.layers.2.blocks.7.mlp.fc1.weight', 'teacher_model.swin_transformer.layers.2.blocks.7.mlp.fc1.bias', 'teacher_model.swin_transformer.layers.2.blocks.7.mlp.fc2.weight', 'teacher_model.swin_transformer.layers.2.blocks.7.mlp.fc2.bias', 'teacher_model.swin_transformer.layers.2.blocks.8.norm1.weight', 'teacher_model.swin_transformer.layers.2.blocks.8.norm1.bias', 'teacher_model.swin_transformer.layers.2.blocks.8.attn.relative_position_bias_table', 'teacher_model.swin_transformer.layers.2.blocks.8.attn.relative_position_index', 'teacher_model.swin_transformer.layers.2.blocks.8.attn.qkv.weight', 'teacher_model.swin_transformer.layers.2.blocks.8.attn.qkv.bias', 'teacher_model.swin_transformer.layers.2.blocks.8.attn.proj.weight', 'teacher_model.swin_transformer.layers.2.blocks.8.attn.proj.bias', 'teacher_model.swin_transformer.layers.2.blocks.8.norm2.weight', 'teacher_model.swin_transformer.layers.2.blocks.8.norm2.bias', 'teacher_model.swin_transformer.layers.2.blocks.8.mlp.fc1.weight', 'teacher_model.swin_transformer.layers.2.blocks.8.mlp.fc1.bias', 'teacher_model.swin_transformer.layers.2.blocks.8.mlp.fc2.weight', 'teacher_model.swin_transformer.layers.2.blocks.8.mlp.fc2.bias', 'teacher_model.swin_transformer.layers.2.blocks.9.norm1.weight', 'teacher_model.swin_transformer.layers.2.blocks.9.norm1.bias', 'teacher_model.swin_transformer.layers.2.blocks.9.attn.relative_position_bias_table', 'teacher_model.swin_transformer.layers.2.blocks.9.attn.relative_position_index', 'teacher_model.swin_transformer.layers.2.blocks.9.attn.qkv.weight', 'teacher_model.swin_transformer.layers.2.blocks.9.attn.qkv.bias', 'teacher_model.swin_transformer.layers.2.blocks.9.attn.proj.weight', 'teacher_model.swin_transformer.layers.2.blocks.9.attn.proj.bias', 'teacher_model.swin_transformer.layers.2.blocks.9.norm2.weight', 'teacher_model.swin_transformer.layers.2.blocks.9.norm2.bias', 'teacher_model.swin_transformer.layers.2.blocks.9.mlp.fc1.weight', 'teacher_model.swin_transformer.layers.2.blocks.9.mlp.fc1.bias', 'teacher_model.swin_transformer.layers.2.blocks.9.mlp.fc2.weight', 'teacher_model.swin_transformer.layers.2.blocks.9.mlp.fc2.bias', 'teacher_model.swin_transformer.layers.2.blocks.10.norm1.weight', 'teacher_model.swin_transformer.layers.2.blocks.10.norm1.bias', 'teacher_model.swin_transformer.layers.2.blocks.10.attn.relative_position_bias_table', 'teacher_model.swin_transformer.layers.2.blocks.10.attn.relative_position_index', 'teacher_model.swin_transformer.layers.2.blocks.10.attn.qkv.weight', 'teacher_model.swin_transformer.layers.2.blocks.10.attn.qkv.bias', 'teacher_model.swin_transformer.layers.2.blocks.10.attn.proj.weight', 'teacher_model.swin_transformer.layers.2.blocks.10.attn.proj.bias', 'teacher_model.swin_transformer.layers.2.blocks.10.norm2.weight', 'teacher_model.swin_transformer.layers.2.blocks.10.norm2.bias', 'teacher_model.swin_transformer.layers.2.blocks.10.mlp.fc1.weight', 'teacher_model.swin_transformer.layers.2.blocks.10.mlp.fc1.bias', 'teacher_model.swin_transformer.layers.2.blocks.10.mlp.fc2.weight', 'teacher_model.swin_transformer.layers.2.blocks.10.mlp.fc2.bias', 'teacher_model.swin_transformer.layers.2.blocks.11.norm1.weight', 'teacher_model.swin_transformer.layers.2.blocks.11.norm1.bias', 'teacher_model.swin_transformer.layers.2.blocks.11.attn.relative_position_bias_table', 'teacher_model.swin_transformer.layers.2.blocks.11.attn.relative_position_index', 'teacher_model.swin_transformer.layers.2.blocks.11.attn.qkv.weight', 'teacher_model.swin_transformer.layers.2.blocks.11.attn.qkv.bias', 'teacher_model.swin_transformer.layers.2.blocks.11.attn.proj.weight', 'teacher_model.swin_transformer.layers.2.blocks.11.attn.proj.bias', 'teacher_model.swin_transformer.layers.2.blocks.11.norm2.weight', 'teacher_model.swin_transformer.layers.2.blocks.11.norm2.bias', 'teacher_model.swin_transformer.layers.2.blocks.11.mlp.fc1.weight', 'teacher_model.swin_transformer.layers.2.blocks.11.mlp.fc1.bias', 'teacher_model.swin_transformer.layers.2.blocks.11.mlp.fc2.weight', 'teacher_model.swin_transformer.layers.2.blocks.11.mlp.fc2.bias', 'teacher_model.swin_transformer.layers.2.blocks.12.norm1.weight', 'teacher_model.swin_transformer.layers.2.blocks.12.norm1.bias', 'teacher_model.swin_transformer.layers.2.blocks.12.attn.relative_position_bias_table', 'teacher_model.swin_transformer.layers.2.blocks.12.attn.relative_position_index', 'teacher_model.swin_transformer.layers.2.blocks.12.attn.qkv.weight', 'teacher_model.swin_transformer.layers.2.blocks.12.attn.qkv.bias', 'teacher_model.swin_transformer.layers.2.blocks.12.attn.proj.weight', 'teacher_model.swin_transformer.layers.2.blocks.12.attn.proj.bias', 'teacher_model.swin_transformer.layers.2.blocks.12.norm2.weight', 'teacher_model.swin_transformer.layers.2.blocks.12.norm2.bias', 'teacher_model.swin_transformer.layers.2.blocks.12.mlp.fc1.weight', 'teacher_model.swin_transformer.layers.2.blocks.12.mlp.fc1.bias', 'teacher_model.swin_transformer.layers.2.blocks.12.mlp.fc2.weight', 'teacher_model.swin_transformer.layers.2.blocks.12.mlp.fc2.bias', 'teacher_model.swin_transformer.layers.2.blocks.13.norm1.weight', 'teacher_model.swin_transformer.layers.2.blocks.13.norm1.bias', 'teacher_model.swin_transformer.layers.2.blocks.13.attn.relative_position_bias_table', 'teacher_model.swin_transformer.layers.2.blocks.13.attn.relative_position_index', 'teacher_model.swin_transformer.layers.2.blocks.13.attn.qkv.weight', 'teacher_model.swin_transformer.layers.2.blocks.13.attn.qkv.bias', 'teacher_model.swin_transformer.layers.2.blocks.13.attn.proj.weight', 'teacher_model.swin_transformer.layers.2.blocks.13.attn.proj.bias', 'teacher_model.swin_transformer.layers.2.blocks.13.norm2.weight', 'teacher_model.swin_transformer.layers.2.blocks.13.norm2.bias', 'teacher_model.swin_transformer.layers.2.blocks.13.mlp.fc1.weight', 'teacher_model.swin_transformer.layers.2.blocks.13.mlp.fc1.bias', 'teacher_model.swin_transformer.layers.2.blocks.13.mlp.fc2.weight', 'teacher_model.swin_transformer.layers.2.blocks.13.mlp.fc2.bias', 'teacher_model.swin_transformer.layers.2.blocks.14.norm1.weight', 'teacher_model.swin_transformer.layers.2.blocks.14.norm1.bias', 'teacher_model.swin_transformer.layers.2.blocks.14.attn.relative_position_bias_table', 'teacher_model.swin_transformer.layers.2.blocks.14.attn.relative_position_index', 'teacher_model.swin_transformer.layers.2.blocks.14.attn.qkv.weight', 'teacher_model.swin_transformer.layers.2.blocks.14.attn.qkv.bias', 'teacher_model.swin_transformer.layers.2.blocks.14.attn.proj.weight', 'teacher_model.swin_transformer.layers.2.blocks.14.attn.proj.bias', 'teacher_model.swin_transformer.layers.2.blocks.14.norm2.weight', 'teacher_model.swin_transformer.layers.2.blocks.14.norm2.bias', 'teacher_model.swin_transformer.layers.2.blocks.14.mlp.fc1.weight', 'teacher_model.swin_transformer.layers.2.blocks.14.mlp.fc1.bias', 'teacher_model.swin_transformer.layers.2.blocks.14.mlp.fc2.weight', 'teacher_model.swin_transformer.layers.2.blocks.14.mlp.fc2.bias', 'teacher_model.swin_transformer.layers.2.blocks.15.norm1.weight', 'teacher_model.swin_transformer.layers.2.blocks.15.norm1.bias', 'teacher_model.swin_transformer.layers.2.blocks.15.attn.relative_position_bias_table', 'teacher_model.swin_transformer.layers.2.blocks.15.attn.relative_position_index', 'teacher_model.swin_transformer.layers.2.blocks.15.attn.qkv.weight', 'teacher_model.swin_transformer.layers.2.blocks.15.attn.qkv.bias', 'teacher_model.swin_transformer.layers.2.blocks.15.attn.proj.weight', 'teacher_model.swin_transformer.layers.2.blocks.15.attn.proj.bias', 'teacher_model.swin_transformer.layers.2.blocks.15.norm2.weight', 'teacher_model.swin_transformer.layers.2.blocks.15.norm2.bias', 'teacher_model.swin_transformer.layers.2.blocks.15.mlp.fc1.weight', 'teacher_model.swin_transformer.layers.2.blocks.15.mlp.fc1.bias', 'teacher_model.swin_transformer.layers.2.blocks.15.mlp.fc2.weight', 'teacher_model.swin_transformer.layers.2.blocks.15.mlp.fc2.bias', 'teacher_model.swin_transformer.layers.2.blocks.16.norm1.weight', 'teacher_model.swin_transformer.layers.2.blocks.16.norm1.bias', 'teacher_model.swin_transformer.layers.2.blocks.16.attn.relative_position_bias_table', 'teacher_model.swin_transformer.layers.2.blocks.16.attn.relative_position_index', 'teacher_model.swin_transformer.layers.2.blocks.16.attn.qkv.weight', 'teacher_model.swin_transformer.layers.2.blocks.16.attn.qkv.bias', 'teacher_model.swin_transformer.layers.2.blocks.16.attn.proj.weight', 'teacher_model.swin_transformer.layers.2.blocks.16.attn.proj.bias', 'teacher_model.swin_transformer.layers.2.blocks.16.norm2.weight', 'teacher_model.swin_transformer.layers.2.blocks.16.norm2.bias', 'teacher_model.swin_transformer.layers.2.blocks.16.mlp.fc1.weight', 'teacher_model.swin_transformer.layers.2.blocks.16.mlp.fc1.bias', 'teacher_model.swin_transformer.layers.2.blocks.16.mlp.fc2.weight', 'teacher_model.swin_transformer.layers.2.blocks.16.mlp.fc2.bias', 'teacher_model.swin_transformer.layers.2.blocks.17.norm1.weight', 'teacher_model.swin_transformer.layers.2.blocks.17.norm1.bias', 'teacher_model.swin_transformer.layers.2.blocks.17.attn.relative_position_bias_table', 'teacher_model.swin_transformer.layers.2.blocks.17.attn.relative_position_index', 'teacher_model.swin_transformer.layers.2.blocks.17.attn.qkv.weight', 'teacher_model.swin_transformer.layers.2.blocks.17.attn.qkv.bias', 'teacher_model.swin_transformer.layers.2.blocks.17.attn.proj.weight', 'teacher_model.swin_transformer.layers.2.blocks.17.attn.proj.bias', 'teacher_model.swin_transformer.layers.2.blocks.17.norm2.weight', 'teacher_model.swin_transformer.layers.2.blocks.17.norm2.bias', 'teacher_model.swin_transformer.layers.2.blocks.17.mlp.fc1.weight', 'teacher_model.swin_transformer.layers.2.blocks.17.mlp.fc1.bias', 'teacher_model.swin_transformer.layers.2.blocks.17.mlp.fc2.weight', 'teacher_model.swin_transformer.layers.2.blocks.17.mlp.fc2.bias', 'teacher_model.swin_transformer.layers.2.downsample.reduction.weight', 'teacher_model.swin_transformer.layers.2.downsample.norm.weight', 'teacher_model.swin_transformer.layers.2.downsample.norm.bias', 'teacher_model.swin_transformer.layers.3.blocks.0.norm1.weight', 'teacher_model.swin_transformer.layers.3.blocks.0.norm1.bias', 'teacher_model.swin_transformer.layers.3.blocks.0.attn.relative_position_bias_table', 'teacher_model.swin_transformer.layers.3.blocks.0.attn.relative_position_index', 'teacher_model.swin_transformer.layers.3.blocks.0.attn.qkv.weight', 'teacher_model.swin_transformer.layers.3.blocks.0.attn.qkv.bias', 'teacher_model.swin_transformer.layers.3.blocks.0.attn.proj.weight', 'teacher_model.swin_transformer.layers.3.blocks.0.attn.proj.bias', 'teacher_model.swin_transformer.layers.3.blocks.0.norm2.weight', 'teacher_model.swin_transformer.layers.3.blocks.0.norm2.bias', 'teacher_model.swin_transformer.layers.3.blocks.0.mlp.fc1.weight', 'teacher_model.swin_transformer.layers.3.blocks.0.mlp.fc1.bias', 'teacher_model.swin_transformer.layers.3.blocks.0.mlp.fc2.weight', 'teacher_model.swin_transformer.layers.3.blocks.0.mlp.fc2.bias', 'teacher_model.swin_transformer.layers.3.blocks.1.norm1.weight', 'teacher_model.swin_transformer.layers.3.blocks.1.norm1.bias', 'teacher_model.swin_transformer.layers.3.blocks.1.attn.relative_position_bias_table', 'teacher_model.swin_transformer.layers.3.blocks.1.attn.relative_position_index', 'teacher_model.swin_transformer.layers.3.blocks.1.attn.qkv.weight', 'teacher_model.swin_transformer.layers.3.blocks.1.attn.qkv.bias', 'teacher_model.swin_transformer.layers.3.blocks.1.attn.proj.weight', 'teacher_model.swin_transformer.layers.3.blocks.1.attn.proj.bias', 'teacher_model.swin_transformer.layers.3.blocks.1.norm2.weight', 'teacher_model.swin_transformer.layers.3.blocks.1.norm2.bias', 'teacher_model.swin_transformer.layers.3.blocks.1.mlp.fc1.weight', 'teacher_model.swin_transformer.layers.3.blocks.1.mlp.fc1.bias', 'teacher_model.swin_transformer.layers.3.blocks.1.mlp.fc2.weight', 'teacher_model.swin_transformer.layers.3.blocks.1.mlp.fc2.bias', 'teacher_model.swin_transformer.norm.weight', 'teacher_model.swin_transformer.norm.bias', 'teacher_model.extremas.0.weight', 'teacher_model.extremas.0.bias', 'teacher_model.extremas.1.weight', 'teacher_model.extremas.1.bias', 'teacher_model.extremas.3.weight', 'teacher_model.extremas.3.bias', 'teacher_model.extremas.4.weight', 'teacher_model.extremas.4.bias', 'teacher_model.extremas.6.weight', 'teacher_model.extremas.6.bias', 'teacher_model.ejection.0.weight', 'teacher_model.ejection.0.bias', 'teacher_model.ejection.1.weight', 'teacher_model.ejection.1.bias', 'teacher_model.ejection.3.weight', 'teacher_model.ejection.3.bias', 'teacher_model.ejection.4.weight', 'teacher_model.ejection.4.bias', 'teacher_model.ejection.6.weight', 'teacher_model.ejection.6.bias', 'teacher_model.ejection.7.weight', 'teacher_model.ejection.7.bias', 'student_model.swin_transformer.patch_embed.proj.weight', 'student_model.swin_transformer.patch_embed.proj.bias', 'student_model.swin_transformer.patch_embed.norm.weight', 'student_model.swin_transformer.patch_embed.norm.bias', 'student_model.swin_transformer.layers.0.blocks.0.norm1.weight', 'student_model.swin_transformer.layers.0.blocks.0.norm1.bias', 'student_model.swin_transformer.layers.0.blocks.0.attn.relative_position_bias_table', 'student_model.swin_transformer.layers.0.blocks.0.attn.relative_position_index', 'student_model.swin_transformer.layers.0.blocks.0.attn.qkv.weight', 'student_model.swin_transformer.layers.0.blocks.0.attn.qkv.bias', 'student_model.swin_transformer.layers.0.blocks.0.attn.proj.weight', 'student_model.swin_transformer.layers.0.blocks.0.attn.proj.bias', 'student_model.swin_transformer.layers.0.blocks.0.norm2.weight', 'student_model.swin_transformer.layers.0.blocks.0.norm2.bias', 'student_model.swin_transformer.layers.0.blocks.0.mlp.fc1.weight', 'student_model.swin_transformer.layers.0.blocks.0.mlp.fc1.bias', 'student_model.swin_transformer.layers.0.blocks.0.mlp.fc2.weight', 'student_model.swin_transformer.layers.0.blocks.0.mlp.fc2.bias', 'student_model.swin_transformer.layers.0.blocks.1.norm1.weight', 'student_model.swin_transformer.layers.0.blocks.1.norm1.bias', 'student_model.swin_transformer.layers.0.blocks.1.attn.relative_position_bias_table', 'student_model.swin_transformer.layers.0.blocks.1.attn.relative_position_index', 'student_model.swin_transformer.layers.0.blocks.1.attn.qkv.weight', 'student_model.swin_transformer.layers.0.blocks.1.attn.qkv.bias', 'student_model.swin_transformer.layers.0.blocks.1.attn.proj.weight', 'student_model.swin_transformer.layers.0.blocks.1.attn.proj.bias', 'student_model.swin_transformer.layers.0.blocks.1.norm2.weight', 'student_model.swin_transformer.layers.0.blocks.1.norm2.bias', 'student_model.swin_transformer.layers.0.blocks.1.mlp.fc1.weight', 'student_model.swin_transformer.layers.0.blocks.1.mlp.fc1.bias', 'student_model.swin_transformer.layers.0.blocks.1.mlp.fc2.weight', 'student_model.swin_transformer.layers.0.blocks.1.mlp.fc2.bias', 'student_model.swin_transformer.layers.0.downsample.reduction.weight', 'student_model.swin_transformer.layers.0.downsample.norm.weight', 'student_model.swin_transformer.layers.0.downsample.norm.bias', 'student_model.swin_transformer.layers.1.blocks.0.norm1.weight', 'student_model.swin_transformer.layers.1.blocks.0.norm1.bias', 'student_model.swin_transformer.layers.1.blocks.0.attn.relative_position_bias_table', 'student_model.swin_transformer.layers.1.blocks.0.attn.relative_position_index', 'student_model.swin_transformer.layers.1.blocks.0.attn.qkv.weight', 'student_model.swin_transformer.layers.1.blocks.0.attn.qkv.bias', 'student_model.swin_transformer.layers.1.blocks.0.attn.proj.weight', 'student_model.swin_transformer.layers.1.blocks.0.attn.proj.bias', 'student_model.swin_transformer.layers.1.blocks.0.norm2.weight', 'student_model.swin_transformer.layers.1.blocks.0.norm2.bias', 'student_model.swin_transformer.layers.1.blocks.0.mlp.fc1.weight', 'student_model.swin_transformer.layers.1.blocks.0.mlp.fc1.bias', 'student_model.swin_transformer.layers.1.blocks.0.mlp.fc2.weight', 'student_model.swin_transformer.layers.1.blocks.0.mlp.fc2.bias', 'student_model.swin_transformer.layers.1.blocks.1.norm1.weight', 'student_model.swin_transformer.layers.1.blocks.1.norm1.bias', 'student_model.swin_transformer.layers.1.blocks.1.attn.relative_position_bias_table', 'student_model.swin_transformer.layers.1.blocks.1.attn.relative_position_index', 'student_model.swin_transformer.layers.1.blocks.1.attn.qkv.weight', 'student_model.swin_transformer.layers.1.blocks.1.attn.qkv.bias', 'student_model.swin_transformer.layers.1.blocks.1.attn.proj.weight', 'student_model.swin_transformer.layers.1.blocks.1.attn.proj.bias', 'student_model.swin_transformer.layers.1.blocks.1.norm2.weight', 'student_model.swin_transformer.layers.1.blocks.1.norm2.bias', 'student_model.swin_transformer.layers.1.blocks.1.mlp.fc1.weight', 'student_model.swin_transformer.layers.1.blocks.1.mlp.fc1.bias', 'student_model.swin_transformer.layers.1.blocks.1.mlp.fc2.weight', 'student_model.swin_transformer.layers.1.blocks.1.mlp.fc2.bias', 'student_model.swin_transformer.layers.1.downsample.reduction.weight', 'student_model.swin_transformer.layers.1.downsample.norm.weight', 'student_model.swin_transformer.layers.1.downsample.norm.bias', 'student_model.swin_transformer.layers.2.blocks.0.norm1.weight', 'student_model.swin_transformer.layers.2.blocks.0.norm1.bias', 'student_model.swin_transformer.layers.2.blocks.0.attn.relative_position_bias_table', 'student_model.swin_transformer.layers.2.blocks.0.attn.relative_position_index', 'student_model.swin_transformer.layers.2.blocks.0.attn.qkv.weight', 'student_model.swin_transformer.layers.2.blocks.0.attn.qkv.bias', 'student_model.swin_transformer.layers.2.blocks.0.attn.proj.weight', 'student_model.swin_transformer.layers.2.blocks.0.attn.proj.bias', 'student_model.swin_transformer.layers.2.blocks.0.norm2.weight', 'student_model.swin_transformer.layers.2.blocks.0.norm2.bias', 'student_model.swin_transformer.layers.2.blocks.0.mlp.fc1.weight', 'student_model.swin_transformer.layers.2.blocks.0.mlp.fc1.bias', 'student_model.swin_transformer.layers.2.blocks.0.mlp.fc2.weight', 'student_model.swin_transformer.layers.2.blocks.0.mlp.fc2.bias', 'student_model.swin_transformer.layers.2.blocks.1.norm1.weight', 'student_model.swin_transformer.layers.2.blocks.1.norm1.bias', 'student_model.swin_transformer.layers.2.blocks.1.attn.relative_position_bias_table', 'student_model.swin_transformer.layers.2.blocks.1.attn.relative_position_index', 'student_model.swin_transformer.layers.2.blocks.1.attn.qkv.weight', 'student_model.swin_transformer.layers.2.blocks.1.attn.qkv.bias', 'student_model.swin_transformer.layers.2.blocks.1.attn.proj.weight', 'student_model.swin_transformer.layers.2.blocks.1.attn.proj.bias', 'student_model.swin_transformer.layers.2.blocks.1.norm2.weight', 'student_model.swin_transformer.layers.2.blocks.1.norm2.bias', 'student_model.swin_transformer.layers.2.blocks.1.mlp.fc1.weight', 'student_model.swin_transformer.layers.2.blocks.1.mlp.fc1.bias', 'student_model.swin_transformer.layers.2.blocks.1.mlp.fc2.weight', 'student_model.swin_transformer.layers.2.blocks.1.mlp.fc2.bias', 'student_model.swin_transformer.layers.2.blocks.2.norm1.weight', 'student_model.swin_transformer.layers.2.blocks.2.norm1.bias', 'student_model.swin_transformer.layers.2.blocks.2.attn.relative_position_bias_table', 'student_model.swin_transformer.layers.2.blocks.2.attn.relative_position_index', 'student_model.swin_transformer.layers.2.blocks.2.attn.qkv.weight', 'student_model.swin_transformer.layers.2.blocks.2.attn.qkv.bias', 'student_model.swin_transformer.layers.2.blocks.2.attn.proj.weight', 'student_model.swin_transformer.layers.2.blocks.2.attn.proj.bias', 'student_model.swin_transformer.layers.2.blocks.2.norm2.weight', 'student_model.swin_transformer.layers.2.blocks.2.norm2.bias', 'student_model.swin_transformer.layers.2.blocks.2.mlp.fc1.weight', 'student_model.swin_transformer.layers.2.blocks.2.mlp.fc1.bias', 'student_model.swin_transformer.layers.2.blocks.2.mlp.fc2.weight', 'student_model.swin_transformer.layers.2.blocks.2.mlp.fc2.bias', 'student_model.swin_transformer.layers.2.blocks.3.norm1.weight', 'student_model.swin_transformer.layers.2.blocks.3.norm1.bias', 'student_model.swin_transformer.layers.2.blocks.3.attn.relative_position_bias_table', 'student_model.swin_transformer.layers.2.blocks.3.attn.relative_position_index', 'student_model.swin_transformer.layers.2.blocks.3.attn.qkv.weight', 'student_model.swin_transformer.layers.2.blocks.3.attn.qkv.bias', 'student_model.swin_transformer.layers.2.blocks.3.attn.proj.weight', 'student_model.swin_transformer.layers.2.blocks.3.attn.proj.bias', 'student_model.swin_transformer.layers.2.blocks.3.norm2.weight', 'student_model.swin_transformer.layers.2.blocks.3.norm2.bias', 'student_model.swin_transformer.layers.2.blocks.3.mlp.fc1.weight', 'student_model.swin_transformer.layers.2.blocks.3.mlp.fc1.bias', 'student_model.swin_transformer.layers.2.blocks.3.mlp.fc2.weight', 'student_model.swin_transformer.layers.2.blocks.3.mlp.fc2.bias', 'student_model.swin_transformer.layers.2.blocks.4.norm1.weight', 'student_model.swin_transformer.layers.2.blocks.4.norm1.bias', 'student_model.swin_transformer.layers.2.blocks.4.attn.relative_position_bias_table', 'student_model.swin_transformer.layers.2.blocks.4.attn.relative_position_index', 'student_model.swin_transformer.layers.2.blocks.4.attn.qkv.weight', 'student_model.swin_transformer.layers.2.blocks.4.attn.qkv.bias', 'student_model.swin_transformer.layers.2.blocks.4.attn.proj.weight', 'student_model.swin_transformer.layers.2.blocks.4.attn.proj.bias', 'student_model.swin_transformer.layers.2.blocks.4.norm2.weight', 'student_model.swin_transformer.layers.2.blocks.4.norm2.bias', 'student_model.swin_transformer.layers.2.blocks.4.mlp.fc1.weight', 'student_model.swin_transformer.layers.2.blocks.4.mlp.fc1.bias', 'student_model.swin_transformer.layers.2.blocks.4.mlp.fc2.weight', 'student_model.swin_transformer.layers.2.blocks.4.mlp.fc2.bias', 'student_model.swin_transformer.layers.2.blocks.5.norm1.weight', 'student_model.swin_transformer.layers.2.blocks.5.norm1.bias', 'student_model.swin_transformer.layers.2.blocks.5.attn.relative_position_bias_table', 'student_model.swin_transformer.layers.2.blocks.5.attn.relative_position_index', 'student_model.swin_transformer.layers.2.blocks.5.attn.qkv.weight', 'student_model.swin_transformer.layers.2.blocks.5.attn.qkv.bias', 'student_model.swin_transformer.layers.2.blocks.5.attn.proj.weight', 'student_model.swin_transformer.layers.2.blocks.5.attn.proj.bias', 'student_model.swin_transformer.layers.2.blocks.5.norm2.weight', 'student_model.swin_transformer.layers.2.blocks.5.norm2.bias', 'student_model.swin_transformer.layers.2.blocks.5.mlp.fc1.weight', 'student_model.swin_transformer.layers.2.blocks.5.mlp.fc1.bias', 'student_model.swin_transformer.layers.2.blocks.5.mlp.fc2.weight', 'student_model.swin_transformer.layers.2.blocks.5.mlp.fc2.bias', 'student_model.swin_transformer.layers.2.blocks.6.norm1.weight', 'student_model.swin_transformer.layers.2.blocks.6.norm1.bias', 'student_model.swin_transformer.layers.2.blocks.6.attn.relative_position_bias_table', 'student_model.swin_transformer.layers.2.blocks.6.attn.relative_position_index', 'student_model.swin_transformer.layers.2.blocks.6.attn.qkv.weight', 'student_model.swin_transformer.layers.2.blocks.6.attn.qkv.bias', 'student_model.swin_transformer.layers.2.blocks.6.attn.proj.weight', 'student_model.swin_transformer.layers.2.blocks.6.attn.proj.bias', 'student_model.swin_transformer.layers.2.blocks.6.norm2.weight', 'student_model.swin_transformer.layers.2.blocks.6.norm2.bias', 'student_model.swin_transformer.layers.2.blocks.6.mlp.fc1.weight', 'student_model.swin_transformer.layers.2.blocks.6.mlp.fc1.bias', 'student_model.swin_transformer.layers.2.blocks.6.mlp.fc2.weight', 'student_model.swin_transformer.layers.2.blocks.6.mlp.fc2.bias', 'student_model.swin_transformer.layers.2.blocks.7.norm1.weight', 'student_model.swin_transformer.layers.2.blocks.7.norm1.bias', 'student_model.swin_transformer.layers.2.blocks.7.attn.relative_position_bias_table', 'student_model.swin_transformer.layers.2.blocks.7.attn.relative_position_index', 'student_model.swin_transformer.layers.2.blocks.7.attn.qkv.weight', 'student_model.swin_transformer.layers.2.blocks.7.attn.qkv.bias', 'student_model.swin_transformer.layers.2.blocks.7.attn.proj.weight', 'student_model.swin_transformer.layers.2.blocks.7.attn.proj.bias', 'student_model.swin_transformer.layers.2.blocks.7.norm2.weight', 'student_model.swin_transformer.layers.2.blocks.7.norm2.bias', 'student_model.swin_transformer.layers.2.blocks.7.mlp.fc1.weight', 'student_model.swin_transformer.layers.2.blocks.7.mlp.fc1.bias', 'student_model.swin_transformer.layers.2.blocks.7.mlp.fc2.weight', 'student_model.swin_transformer.layers.2.blocks.7.mlp.fc2.bias', 'student_model.swin_transformer.layers.2.blocks.8.norm1.weight', 'student_model.swin_transformer.layers.2.blocks.8.norm1.bias', 'student_model.swin_transformer.layers.2.blocks.8.attn.relative_position_bias_table', 'student_model.swin_transformer.layers.2.blocks.8.attn.relative_position_index', 'student_model.swin_transformer.layers.2.blocks.8.attn.qkv.weight', 'student_model.swin_transformer.layers.2.blocks.8.attn.qkv.bias', 'student_model.swin_transformer.layers.2.blocks.8.attn.proj.weight', 'student_model.swin_transformer.layers.2.blocks.8.attn.proj.bias', 'student_model.swin_transformer.layers.2.blocks.8.norm2.weight', 'student_model.swin_transformer.layers.2.blocks.8.norm2.bias', 'student_model.swin_transformer.layers.2.blocks.8.mlp.fc1.weight', 'student_model.swin_transformer.layers.2.blocks.8.mlp.fc1.bias', 'student_model.swin_transformer.layers.2.blocks.8.mlp.fc2.weight', 'student_model.swin_transformer.layers.2.blocks.8.mlp.fc2.bias', 'student_model.swin_transformer.layers.2.blocks.9.norm1.weight', 'student_model.swin_transformer.layers.2.blocks.9.norm1.bias', 'student_model.swin_transformer.layers.2.blocks.9.attn.relative_position_bias_table', 'student_model.swin_transformer.layers.2.blocks.9.attn.relative_position_index', 'student_model.swin_transformer.layers.2.blocks.9.attn.qkv.weight', 'student_model.swin_transformer.layers.2.blocks.9.attn.qkv.bias', 'student_model.swin_transformer.layers.2.blocks.9.attn.proj.weight', 'student_model.swin_transformer.layers.2.blocks.9.attn.proj.bias', 'student_model.swin_transformer.layers.2.blocks.9.norm2.weight', 'student_model.swin_transformer.layers.2.blocks.9.norm2.bias', 'student_model.swin_transformer.layers.2.blocks.9.mlp.fc1.weight', 'student_model.swin_transformer.layers.2.blocks.9.mlp.fc1.bias', 'student_model.swin_transformer.layers.2.blocks.9.mlp.fc2.weight', 'student_model.swin_transformer.layers.2.blocks.9.mlp.fc2.bias', 'student_model.swin_transformer.layers.2.blocks.10.norm1.weight', 'student_model.swin_transformer.layers.2.blocks.10.norm1.bias', 'student_model.swin_transformer.layers.2.blocks.10.attn.relative_position_bias_table', 'student_model.swin_transformer.layers.2.blocks.10.attn.relative_position_index', 'student_model.swin_transformer.layers.2.blocks.10.attn.qkv.weight', 'student_model.swin_transformer.layers.2.blocks.10.attn.qkv.bias', 'student_model.swin_transformer.layers.2.blocks.10.attn.proj.weight', 'student_model.swin_transformer.layers.2.blocks.10.attn.proj.bias', 'student_model.swin_transformer.layers.2.blocks.10.norm2.weight', 'student_model.swin_transformer.layers.2.blocks.10.norm2.bias', 'student_model.swin_transformer.layers.2.blocks.10.mlp.fc1.weight', 'student_model.swin_transformer.layers.2.blocks.10.mlp.fc1.bias', 'student_model.swin_transformer.layers.2.blocks.10.mlp.fc2.weight', 'student_model.swin_transformer.layers.2.blocks.10.mlp.fc2.bias', 'student_model.swin_transformer.layers.2.blocks.11.norm1.weight', 'student_model.swin_transformer.layers.2.blocks.11.norm1.bias', 'student_model.swin_transformer.layers.2.blocks.11.attn.relative_position_bias_table', 'student_model.swin_transformer.layers.2.blocks.11.attn.relative_position_index', 'student_model.swin_transformer.layers.2.blocks.11.attn.qkv.weight', 'student_model.swin_transformer.layers.2.blocks.11.attn.qkv.bias', 'student_model.swin_transformer.layers.2.blocks.11.attn.proj.weight', 'student_model.swin_transformer.layers.2.blocks.11.attn.proj.bias', 'student_model.swin_transformer.layers.2.blocks.11.norm2.weight', 'student_model.swin_transformer.layers.2.blocks.11.norm2.bias', 'student_model.swin_transformer.layers.2.blocks.11.mlp.fc1.weight', 'student_model.swin_transformer.layers.2.blocks.11.mlp.fc1.bias', 'student_model.swin_transformer.layers.2.blocks.11.mlp.fc2.weight', 'student_model.swin_transformer.layers.2.blocks.11.mlp.fc2.bias', 'student_model.swin_transformer.layers.2.blocks.12.norm1.weight', 'student_model.swin_transformer.layers.2.blocks.12.norm1.bias', 'student_model.swin_transformer.layers.2.blocks.12.attn.relative_position_bias_table', 'student_model.swin_transformer.layers.2.blocks.12.attn.relative_position_index', 'student_model.swin_transformer.layers.2.blocks.12.attn.qkv.weight', 'student_model.swin_transformer.layers.2.blocks.12.attn.qkv.bias', 'student_model.swin_transformer.layers.2.blocks.12.attn.proj.weight', 'student_model.swin_transformer.layers.2.blocks.12.attn.proj.bias', 'student_model.swin_transformer.layers.2.blocks.12.norm2.weight', 'student_model.swin_transformer.layers.2.blocks.12.norm2.bias', 'student_model.swin_transformer.layers.2.blocks.12.mlp.fc1.weight', 'student_model.swin_transformer.layers.2.blocks.12.mlp.fc1.bias', 'student_model.swin_transformer.layers.2.blocks.12.mlp.fc2.weight', 'student_model.swin_transformer.layers.2.blocks.12.mlp.fc2.bias', 'student_model.swin_transformer.layers.2.blocks.13.norm1.weight', 'student_model.swin_transformer.layers.2.blocks.13.norm1.bias', 'student_model.swin_transformer.layers.2.blocks.13.attn.relative_position_bias_table', 'student_model.swin_transformer.layers.2.blocks.13.attn.relative_position_index', 'student_model.swin_transformer.layers.2.blocks.13.attn.qkv.weight', 'student_model.swin_transformer.layers.2.blocks.13.attn.qkv.bias', 'student_model.swin_transformer.layers.2.blocks.13.attn.proj.weight', 'student_model.swin_transformer.layers.2.blocks.13.attn.proj.bias', 'student_model.swin_transformer.layers.2.blocks.13.norm2.weight', 'student_model.swin_transformer.layers.2.blocks.13.norm2.bias', 'student_model.swin_transformer.layers.2.blocks.13.mlp.fc1.weight', 'student_model.swin_transformer.layers.2.blocks.13.mlp.fc1.bias', 'student_model.swin_transformer.layers.2.blocks.13.mlp.fc2.weight', 'student_model.swin_transformer.layers.2.blocks.13.mlp.fc2.bias', 'student_model.swin_transformer.layers.2.blocks.14.norm1.weight', 'student_model.swin_transformer.layers.2.blocks.14.norm1.bias', 'student_model.swin_transformer.layers.2.blocks.14.attn.relative_position_bias_table', 'student_model.swin_transformer.layers.2.blocks.14.attn.relative_position_index', 'student_model.swin_transformer.layers.2.blocks.14.attn.qkv.weight', 'student_model.swin_transformer.layers.2.blocks.14.attn.qkv.bias', 'student_model.swin_transformer.layers.2.blocks.14.attn.proj.weight', 'student_model.swin_transformer.layers.2.blocks.14.attn.proj.bias', 'student_model.swin_transformer.layers.2.blocks.14.norm2.weight', 'student_model.swin_transformer.layers.2.blocks.14.norm2.bias', 'student_model.swin_transformer.layers.2.blocks.14.mlp.fc1.weight', 'student_model.swin_transformer.layers.2.blocks.14.mlp.fc1.bias', 'student_model.swin_transformer.layers.2.blocks.14.mlp.fc2.weight', 'student_model.swin_transformer.layers.2.blocks.14.mlp.fc2.bias', 'student_model.swin_transformer.layers.2.blocks.15.norm1.weight', 'student_model.swin_transformer.layers.2.blocks.15.norm1.bias', 'student_model.swin_transformer.layers.2.blocks.15.attn.relative_position_bias_table', 'student_model.swin_transformer.layers.2.blocks.15.attn.relative_position_index', 'student_model.swin_transformer.layers.2.blocks.15.attn.qkv.weight', 'student_model.swin_transformer.layers.2.blocks.15.attn.qkv.bias', 'student_model.swin_transformer.layers.2.blocks.15.attn.proj.weight', 'student_model.swin_transformer.layers.2.blocks.15.attn.proj.bias', 'student_model.swin_transformer.layers.2.blocks.15.norm2.weight', 'student_model.swin_transformer.layers.2.blocks.15.norm2.bias', 'student_model.swin_transformer.layers.2.blocks.15.mlp.fc1.weight', 'student_model.swin_transformer.layers.2.blocks.15.mlp.fc1.bias', 'student_model.swin_transformer.layers.2.blocks.15.mlp.fc2.weight', 'student_model.swin_transformer.layers.2.blocks.15.mlp.fc2.bias', 'student_model.swin_transformer.layers.2.blocks.16.norm1.weight', 'student_model.swin_transformer.layers.2.blocks.16.norm1.bias', 'student_model.swin_transformer.layers.2.blocks.16.attn.relative_position_bias_table', 'student_model.swin_transformer.layers.2.blocks.16.attn.relative_position_index', 'student_model.swin_transformer.layers.2.blocks.16.attn.qkv.weight', 'student_model.swin_transformer.layers.2.blocks.16.attn.qkv.bias', 'student_model.swin_transformer.layers.2.blocks.16.attn.proj.weight', 'student_model.swin_transformer.layers.2.blocks.16.attn.proj.bias', 'student_model.swin_transformer.layers.2.blocks.16.norm2.weight', 'student_model.swin_transformer.layers.2.blocks.16.norm2.bias', 'student_model.swin_transformer.layers.2.blocks.16.mlp.fc1.weight', 'student_model.swin_transformer.layers.2.blocks.16.mlp.fc1.bias', 'student_model.swin_transformer.layers.2.blocks.16.mlp.fc2.weight', 'student_model.swin_transformer.layers.2.blocks.16.mlp.fc2.bias', 'student_model.swin_transformer.layers.2.blocks.17.norm1.weight', 'student_model.swin_transformer.layers.2.blocks.17.norm1.bias', 'student_model.swin_transformer.layers.2.blocks.17.attn.relative_position_bias_table', 'student_model.swin_transformer.layers.2.blocks.17.attn.relative_position_index', 'student_model.swin_transformer.layers.2.blocks.17.attn.qkv.weight', 'student_model.swin_transformer.layers.2.blocks.17.attn.qkv.bias', 'student_model.swin_transformer.layers.2.blocks.17.attn.proj.weight', 'student_model.swin_transformer.layers.2.blocks.17.attn.proj.bias', 'student_model.swin_transformer.layers.2.blocks.17.norm2.weight', 'student_model.swin_transformer.layers.2.blocks.17.norm2.bias', 'student_model.swin_transformer.layers.2.blocks.17.mlp.fc1.weight', 'student_model.swin_transformer.layers.2.blocks.17.mlp.fc1.bias', 'student_model.swin_transformer.layers.2.blocks.17.mlp.fc2.weight', 'student_model.swin_transformer.layers.2.blocks.17.mlp.fc2.bias', 'student_model.swin_transformer.layers.2.downsample.reduction.weight', 'student_model.swin_transformer.layers.2.downsample.norm.weight', 'student_model.swin_transformer.layers.2.downsample.norm.bias', 'student_model.swin_transformer.layers.3.blocks.0.norm1.weight', 'student_model.swin_transformer.layers.3.blocks.0.norm1.bias', 'student_model.swin_transformer.layers.3.blocks.0.attn.relative_position_bias_table', 'student_model.swin_transformer.layers.3.blocks.0.attn.relative_position_index', 'student_model.swin_transformer.layers.3.blocks.0.attn.qkv.weight', 'student_model.swin_transformer.layers.3.blocks.0.attn.qkv.bias', 'student_model.swin_transformer.layers.3.blocks.0.attn.proj.weight', 'student_model.swin_transformer.layers.3.blocks.0.attn.proj.bias', 'student_model.swin_transformer.layers.3.blocks.0.norm2.weight', 'student_model.swin_transformer.layers.3.blocks.0.norm2.bias', 'student_model.swin_transformer.layers.3.blocks.0.mlp.fc1.weight', 'student_model.swin_transformer.layers.3.blocks.0.mlp.fc1.bias', 'student_model.swin_transformer.layers.3.blocks.0.mlp.fc2.weight', 'student_model.swin_transformer.layers.3.blocks.0.mlp.fc2.bias', 'student_model.swin_transformer.layers.3.blocks.1.norm1.weight', 'student_model.swin_transformer.layers.3.blocks.1.norm1.bias', 'student_model.swin_transformer.layers.3.blocks.1.attn.relative_position_bias_table', 'student_model.swin_transformer.layers.3.blocks.1.attn.relative_position_index', 'student_model.swin_transformer.layers.3.blocks.1.attn.qkv.weight', 'student_model.swin_transformer.layers.3.blocks.1.attn.qkv.bias', 'student_model.swin_transformer.layers.3.blocks.1.attn.proj.weight', 'student_model.swin_transformer.layers.3.blocks.1.attn.proj.bias', 'student_model.swin_transformer.layers.3.blocks.1.norm2.weight', 'student_model.swin_transformer.layers.3.blocks.1.norm2.bias', 'student_model.swin_transformer.layers.3.blocks.1.mlp.fc1.weight', 'student_model.swin_transformer.layers.3.blocks.1.mlp.fc1.bias', 'student_model.swin_transformer.layers.3.blocks.1.mlp.fc2.weight', 'student_model.swin_transformer.layers.3.blocks.1.mlp.fc2.bias', 'student_model.swin_transformer.norm.weight', 'student_model.swin_transformer.norm.bias', 'student_model.extremas.0.weight', 'student_model.extremas.0.bias', 'student_model.extremas.1.weight', 'student_model.extremas.1.bias', 'student_model.extremas.3.weight', 'student_model.extremas.3.bias', 'student_model.extremas.4.weight', 'student_model.extremas.4.bias', 'student_model.extremas.6.weight', 'student_model.extremas.6.bias', 'student_model.ejection.0.weight', 'student_model.ejection.0.bias', 'student_model.ejection.1.weight', 'student_model.ejection.1.bias', 'student_model.ejection.3.weight', 'student_model.ejection.3.bias', 'student_model.ejection.4.weight', 'student_model.ejection.4.bias', 'student_model.ejection.6.weight', 'student_model.ejection.6.bias', 'student_model.ejection.7.weight', 'student_model.ejection.7.bias']\n"
          ]
        }
      ]
    },
    {
      "cell_type": "markdown",
      "source": [
        "Testing on checkpoint"
      ],
      "metadata": {
        "id": "v6hCnzOBnWXR"
      }
    },
    {
      "cell_type": "code",
      "source": [
        "\n",
        "trainer_test = pl.Trainer(accelerator='gpu',\n",
        "                max_epochs=1,\n",
        "                num_sanity_val_steps=1,\n",
        "                enable_model_summary=True,\n",
        "                precision=16,\n",
        "                accumulate_grad_batches=2,\n",
        "                callbacks=[EarlyStopping(monitor=\"val_loss\", mode=\"min\", patience=10),\n",
        "                           checkpoint_callback,\n",
        "                          ])\n"
      ],
      "metadata": {
        "id": "X_6a9EbUpSdV",
        "colab": {
          "base_uri": "https://localhost:8080/"
        },
        "outputId": "e89bc76f-30a7-4eaa-bb19-973b95244b6a"
      },
      "execution_count": 14,
      "outputs": [
        {
          "output_type": "stream",
          "name": "stderr",
          "text": [
            "/usr/local/lib/python3.10/dist-packages/lightning_fabric/connector.py:563: `precision=16` is supported for historical reasons but its usage is discouraged. Please set your precision to 16-mixed instead!\n",
            "INFO:pytorch_lightning.utilities.rank_zero:Using 16bit Automatic Mixed Precision (AMP)\n",
            "INFO:pytorch_lightning.utilities.rank_zero:GPU available: True (cuda), used: True\n",
            "INFO:pytorch_lightning.utilities.rank_zero:TPU available: False, using: 0 TPU cores\n",
            "INFO:pytorch_lightning.utilities.rank_zero:IPU available: False, using: 0 IPUs\n",
            "INFO:pytorch_lightning.utilities.rank_zero:HPU available: False, using: 0 HPUs\n"
          ]
        }
      ]
    },
    {
      "cell_type": "markdown",
      "source": [
        "run this, otherwise echonet cant seem to get the test loader"
      ],
      "metadata": {
        "id": "GuGllnCUHj6l"
      }
    },
    {
      "cell_type": "code",
      "source": [
        "ultra_swin = UltraSwin(None,\n",
        "                    embed_dim=64,\n",
        "                    depths=[2, 2, 18, 2],\n",
        "                    num_heads=[2, 4, 8, 16],\n",
        "                    frozen_stages=-1,\n",
        "                    batch_size=4,\n",
        "                 multi_stage_training=False\n",
        "\n",
        "                    )\n",
        "\n",
        "trainer_test.test(model=ultra_swin, datamodule=tdata_module, ckpt_path='/content/Swin-KD/student.ckpt')"
      ],
      "metadata": {
        "colab": {
          "base_uri": "https://localhost:8080/",
          "height": 490,
          "referenced_widgets": [
            "b1b63344643a45df9292655000a1ee79",
            "e2d1178b34504cf9babad79c7adc9f77",
            "089dd77c4c664ab6be0770a5a9abb502",
            "ac03c0e4d3d94991945017d318a46126",
            "c4729c1d3a724e3a89a8838c0f5ee89a",
            "b059c08c49804399b2c0d7b55212562e",
            "e1e69ee459f64e64965628339b161580",
            "c6106434c6994f8db9a1705bd4e44e2b",
            "9d57cec5468c4a988063aed139ba105d",
            "21429b19697b4d0eb2e1625f969f9c33",
            "e5874a790b6549b78ff04c6d75a2e678"
          ]
        },
        "id": "Nk5IiNvuYhk4",
        "outputId": "fd213c39-853f-4709-8555-3cf87e74364d"
      },
      "execution_count": 15,
      "outputs": [
        {
          "output_type": "stream",
          "name": "stderr",
          "text": [
            "/usr/local/lib/python3.10/dist-packages/torch/functional.py:507: UserWarning: torch.meshgrid: in an upcoming release, it will be required to pass the indexing argument. (Triggered internally at ../aten/src/ATen/native/TensorShape.cpp:3549.)\n",
            "  return _VF.meshgrid(tensors, **kwargs)  # type: ignore[attr-defined]\n",
            "WARNING:pytorch_lightning.loggers.tensorboard:Missing logger folder: /content/Swin-KD/lightning_logs\n"
          ]
        },
        {
          "output_type": "stream",
          "name": "stdout",
          "text": [
            "prepare data\n",
            "setup: /content/EchoNet-Dynamic\n"
          ]
        },
        {
          "output_type": "stream",
          "name": "stderr",
          "text": [
            "INFO:pytorch_lightning.utilities.rank_zero:Restoring states from the checkpoint path at /content/Swin-KD/student.ckpt\n",
            "INFO:pytorch_lightning.accelerators.cuda:LOCAL_RANK: 0 - CUDA_VISIBLE_DEVICES: [0]\n",
            "INFO:pytorch_lightning.utilities.rank_zero:Loaded model weights from the checkpoint at /content/Swin-KD/student.ckpt\n",
            "/usr/lib/python3.10/multiprocessing/popen_fork.py:66: RuntimeWarning: os.fork() was called. os.fork() is incompatible with multithreaded code, and JAX is multithreaded, so this will likely lead to a deadlock.\n",
            "  self.pid = os.fork()\n"
          ]
        },
        {
          "output_type": "display_data",
          "data": {
            "text/plain": [
              "Testing: |          | 0/? [00:00<?, ?it/s]"
            ],
            "application/vnd.jupyter.widget-view+json": {
              "version_major": 2,
              "version_minor": 0,
              "model_id": "b1b63344643a45df9292655000a1ee79"
            }
          },
          "metadata": {}
        },
        {
          "output_type": "display_data",
          "data": {
            "text/plain": [
              "┏━━━━━━━━━━━━━━━━━━━━━━━━━━━┳━━━━━━━━━━━━━━━━━━━━━━━━━━━┓\n",
              "┃\u001b[1m \u001b[0m\u001b[1m       Test metric       \u001b[0m\u001b[1m \u001b[0m┃\u001b[1m \u001b[0m\u001b[1m      DataLoader 0       \u001b[0m\u001b[1m \u001b[0m┃\n",
              "┡━━━━━━━━━━━━━━━━━━━━━━━━━━━╇━━━━━━━━━━━━━━━━━━━━━━━━━━━┩\n",
              "│\u001b[36m \u001b[0m\u001b[36m        test_loss        \u001b[0m\u001b[36m \u001b[0m│\u001b[35m \u001b[0m\u001b[35m  0.014128448441624641   \u001b[0m\u001b[35m \u001b[0m│\n",
              "│\u001b[36m \u001b[0m\u001b[36m        test_mae         \u001b[0m\u001b[36m \u001b[0m│\u001b[35m \u001b[0m\u001b[35m   0.0877532809972763    \u001b[0m\u001b[35m \u001b[0m│\n",
              "│\u001b[36m \u001b[0m\u001b[36m        test_mse         \u001b[0m\u001b[36m \u001b[0m│\u001b[35m \u001b[0m\u001b[35m   0.01414557732641697   \u001b[0m\u001b[35m \u001b[0m│\n",
              "│\u001b[36m \u001b[0m\u001b[36m         test_r2         \u001b[0m\u001b[36m \u001b[0m│\u001b[35m \u001b[0m\u001b[35m -0.0014613866806030273  \u001b[0m\u001b[35m \u001b[0m│\n",
              "│\u001b[36m \u001b[0m\u001b[36m        test_rmse        \u001b[0m\u001b[36m \u001b[0m│\u001b[35m \u001b[0m\u001b[35m   0.11893518269062042   \u001b[0m\u001b[35m \u001b[0m│\n",
              "└───────────────────────────┴───────────────────────────┘\n"
            ],
            "text/html": [
              "<pre style=\"white-space:pre;overflow-x:auto;line-height:normal;font-family:Menlo,'DejaVu Sans Mono',consolas,'Courier New',monospace\">┏━━━━━━━━━━━━━━━━━━━━━━━━━━━┳━━━━━━━━━━━━━━━━━━━━━━━━━━━┓\n",
              "┃<span style=\"font-weight: bold\">        Test metric        </span>┃<span style=\"font-weight: bold\">       DataLoader 0        </span>┃\n",
              "┡━━━━━━━━━━━━━━━━━━━━━━━━━━━╇━━━━━━━━━━━━━━━━━━━━━━━━━━━┩\n",
              "│<span style=\"color: #008080; text-decoration-color: #008080\">         test_loss         </span>│<span style=\"color: #800080; text-decoration-color: #800080\">   0.014128448441624641    </span>│\n",
              "│<span style=\"color: #008080; text-decoration-color: #008080\">         test_mae          </span>│<span style=\"color: #800080; text-decoration-color: #800080\">    0.0877532809972763     </span>│\n",
              "│<span style=\"color: #008080; text-decoration-color: #008080\">         test_mse          </span>│<span style=\"color: #800080; text-decoration-color: #800080\">    0.01414557732641697    </span>│\n",
              "│<span style=\"color: #008080; text-decoration-color: #008080\">          test_r2          </span>│<span style=\"color: #800080; text-decoration-color: #800080\">  -0.0014613866806030273   </span>│\n",
              "│<span style=\"color: #008080; text-decoration-color: #008080\">         test_rmse         </span>│<span style=\"color: #800080; text-decoration-color: #800080\">    0.11893518269062042    </span>│\n",
              "└───────────────────────────┴───────────────────────────┘\n",
              "</pre>\n"
            ]
          },
          "metadata": {}
        },
        {
          "output_type": "execute_result",
          "data": {
            "text/plain": [
              "[{'test_loss': 0.014128448441624641,\n",
              "  'test_rmse': 0.11893518269062042,\n",
              "  'test_mse': 0.01414557732641697,\n",
              "  'test_mae': 0.0877532809972763,\n",
              "  'test_r2': -0.0014613866806030273}]"
            ]
          },
          "metadata": {},
          "execution_count": 15
        }
      ]
    },
    {
      "cell_type": "markdown",
      "source": [
        "Load the KD'd model"
      ],
      "metadata": {
        "id": "9gFpueEI9KGH"
      }
    },
    {
      "cell_type": "code",
      "source": [
        "import torch\n",
        "checkpoint = torch.load(\"/content/Swin-KD/kd.ckpt\",map_location=torch.device('cuda'))\n",
        "\n",
        "# Extract the state dictionary of the distilled student model\n",
        "distilled_model_state_dict = checkpoint[\"student_state_dict\"]\n",
        "distilled_model = UltraSwin(None,\n",
        "                    embed_dim=64,\n",
        "                    depths=[2, 2, 18, 2],\n",
        "                    num_heads=[2, 4, 8, 16],\n",
        "                    frozen_stages=-1,\n",
        "                    batch_size=4,\n",
        "                 multi_stage_training=False\n",
        "\n",
        "                    )\n",
        "distilled_model.load_state_dict(distilled_model_state_dict)\n",
        "torch.save(distilled_model, 'distilled_model.pth')\n"
      ],
      "metadata": {
        "id": "lbfBWuxOlWdp"
      },
      "execution_count": 16,
      "outputs": []
    },
    {
      "cell_type": "markdown",
      "source": [
        "Test the KD model"
      ],
      "metadata": {
        "id": "yQmVtUNGJ9iK"
      }
    },
    {
      "cell_type": "code",
      "source": [
        "from tabnanny import verbose\n",
        "import pytorch_lightning as pl\n",
        "import torch\n",
        "import torch.nn as nn\n",
        "import torchmetrics\n",
        "import torch.nn.functional as F\n",
        "from tqdm import tqdm\n",
        "\n",
        "from torch.nn import functional as F\n",
        "from backbones.swin_transformer import SwinTransformer3D\n",
        "from einops import rearrange\n",
        "from utils.tensor_utils import Reduce\n",
        "from losses.mse import mse_loss\n",
        "from losses.r2 import r2_loss\n",
        "from sklearn.metrics import r2_score\n",
        "from losses.rmse import RMSE\n",
        "\n",
        "def testKD(model, num_epochs, device):\n",
        "  distilled_model = model.to(device)\n",
        "  model.eval()\n",
        "  test_loss = 0.0\n",
        "  test_rmse = torchmetrics.MeanSquaredError(squared=False).to(device)\n",
        "  test_mse = torchmetrics.MeanSquaredError().to(device)\n",
        "  test_mae = torchmetrics.MeanAbsoluteError().to(device)\n",
        "  test_r2 = torchmetrics.R2Score().to(device)\n",
        "\n",
        "  test_loader = tdata_module.test_dataloader()\n",
        "\n",
        "  for epoch in range(num_epochs):\n",
        "      epoch_loss = 0.0\n",
        "      progress_bar = tqdm(test_loader, total=len(test_loader), desc=f\"Epoch {epoch + 1}/{num_epochs}\")\n",
        "\n",
        "      with torch.no_grad():\n",
        "          for batch in progress_bar:\n",
        "              filename, nvideo, nlabel, ejection, repeat, fps = batch\n",
        "              nvideo = nvideo.to(device)\n",
        "              ef_label = ejection.type(torch.float32).to(device) / 100.\n",
        "\n",
        "              # Forward pass\n",
        "              ef_pred = distilled_model(nvideo)\n",
        "\n",
        "              # Compute loss and update metrics\n",
        "              loss = F.mse_loss(ef_pred, ef_label)\n",
        "              epoch_loss += loss.item()\n",
        "              test_rmse(ef_pred, ef_label)\n",
        "              test_mse(ef_pred, ef_label)\n",
        "              test_mae(ef_pred, ef_label)\n",
        "              test_r2(ef_pred, ef_label)\n",
        "\n",
        "              # Update the progress bar\n",
        "              progress_bar.set_postfix(loss=loss.item())\n",
        "\n",
        "      # Compute and print the final test loss and metrics for the epoch\n",
        "      epoch_loss /= len(test_loader)\n",
        "      test_loss += epoch_loss\n",
        "      print(f'Epoch {epoch + 1}/{num_epochs} Test Loss: {epoch_loss}')\n",
        "\n",
        "  # Print the final test loss and metrics\n",
        "  test_loss /= num_epochs\n",
        "  print()\n",
        "  print(f'Test Loss: {test_loss}')\n",
        "  print(f'RMSE: {test_rmse.compute()}')\n",
        "  print(f'MSE: {test_mse.compute()}')\n",
        "  print(f'MAE: {test_mae.compute()}')\n",
        "  print(f'R2: {test_r2.compute()}')\n",
        "\n",
        "\n",
        "device = torch.device(\"cuda\" if torch.cuda.is_available() else \"cpu\")\n",
        "num_epochs = 2\n",
        "testKD(distilled_model, num_epochs, device)"
      ],
      "metadata": {
        "id": "HhaKRnL5Zt3Q",
        "colab": {
          "base_uri": "https://localhost:8080/"
        },
        "outputId": "40466f48-3810-46ec-82bb-4eb091f0c1a1"
      },
      "execution_count": 18,
      "outputs": [
        {
          "output_type": "stream",
          "name": "stderr",
          "text": [
            "\rEpoch 1/2:   0%|          | 0/157 [00:00<?, ?it/s]/usr/lib/python3.10/multiprocessing/popen_fork.py:66: RuntimeWarning: os.fork() was called. os.fork() is incompatible with multithreaded code, and JAX is multithreaded, so this will likely lead to a deadlock.\n",
            "  self.pid = os.fork()\n",
            "Epoch 1/2: 100%|██████████| 157/157 [01:11<00:00,  2.83it/s, loss=0.01]/usr/lib/python3.10/multiprocessing/popen_fork.py:66: RuntimeWarning: os.fork() was called. os.fork() is incompatible with multithreaded code, and JAX is multithreaded, so this will likely lead to a deadlock.\n",
            "  self.pid = os.fork()\n",
            "Epoch 1/2: 100%|██████████| 157/157 [01:11<00:00,  2.19it/s, loss=0.01]\n"
          ]
        },
        {
          "output_type": "stream",
          "name": "stdout",
          "text": [
            "Epoch 1/2 Test Loss: 0.01411586625807011\n"
          ]
        },
        {
          "output_type": "stream",
          "name": "stderr",
          "text": [
            "Epoch 2/2: 100%|██████████| 157/157 [01:11<00:00,  2.21it/s, loss=0.01]"
          ]
        },
        {
          "output_type": "stream",
          "name": "stdout",
          "text": [
            "Epoch 2/2 Test Loss: 0.014115865084277406\n",
            "\n",
            "Test Loss: 0.014115865671173757\n",
            "RMSE: 0.11886494606733322\n",
            "MSE: 0.014128874987363815\n",
            "MAE: 0.08981280028820038\n",
            "R2: -0.00025653839111328125\n"
          ]
        },
        {
          "output_type": "stream",
          "name": "stderr",
          "text": [
            "\n"
          ]
        }
      ]
    },
    {
      "cell_type": "markdown",
      "source": [
        "inference pth/distilled model"
      ],
      "metadata": {
        "id": "mZEicTVGA6AI"
      }
    },
    {
      "cell_type": "code",
      "source": [
        "import torch\n",
        "import numpy as np\n",
        "from datasets.EchoSet import loadvideo\n",
        "\n",
        "def predict_ejection_fraction(model, video_path,padding=None):\n",
        "    # Load the video\n",
        "    video = loadvideo(video_path).astype(np.float32)\n",
        "    video /= 255.0\n",
        "    video = np.moveaxis(video, 0, 1)\n",
        "\n",
        "    # Add padding\n",
        "    if padding is not None:\n",
        "        p = padding\n",
        "        video = np.pad(video, ((0,0),(0,0),(p,p),(p,p)), mode='constant', constant_values=0)\n",
        "\n",
        "    # Convert  to a tensor\n",
        "    video_tensor = torch.from_numpy(video).unsqueeze(0).to(device)\n",
        "\n",
        "    model.eval()\n",
        "\n",
        "    # Forward pass\n",
        "    with torch.no_grad():\n",
        "        output = model(video_tensor)\n",
        "\n",
        "\n",
        "    predicted_ejection_fraction = output.item() * 100\n",
        "\n",
        "    return predicted_ejection_fraction"
      ],
      "metadata": {
        "id": "SieLhA-wA7ZX"
      },
      "execution_count": 33,
      "outputs": []
    },
    {
      "cell_type": "code",
      "source": [
        "kd_model = torch.load('/content/Swin-KD/distilled_model.pth')\n",
        "kd_model.to(device)\n",
        "video_path = \"/content/Vids/0X1B00A1770ABC7BD2.avi\"\n",
        "predicted_ef = predict_ejection_fraction(kd_model, video_path)\n",
        "print(f\"Predicted Ejection Fraction: {predicted_ef:.6f}%\")"
      ],
      "metadata": {
        "colab": {
          "base_uri": "https://localhost:8080/"
        },
        "id": "8eZW0U7SA_a-",
        "outputId": "3120bfcc-6388-4b07-a3ce-eff81b58dff1"
      },
      "execution_count": 35,
      "outputs": [
        {
          "output_type": "stream",
          "name": "stdout",
          "text": [
            "Predicted Ejection Fraction: 54.970223%\n"
          ]
        }
      ]
    },
    {
      "cell_type": "markdown",
      "source": [
        "inference on ckpt"
      ],
      "metadata": {
        "id": "5f4bE70PDRup"
      }
    },
    {
      "cell_type": "code",
      "source": [
        "import torch\n",
        "import numpy as np\n",
        "from datasets.EchoSet import loadvideo\n",
        "def predict_ejection_fraction(model, video_path, padding=None, device='gpu'):\n",
        "    # Load the model from the checkpoint file\n",
        "    model.eval()\n",
        "\n",
        "    # Load the video\n",
        "    video = loadvideo(video_path).astype(np.float32)\n",
        "\n",
        "    # Preprocess the video (e.g., normalize, pad, etc.)\n",
        "    video /= 255.0  # Scale pixel values from 0-255 to 0-1\n",
        "    video = np.moveaxis(video, 0, 1)  # Move channel dimension to the second position\n",
        "\n",
        "    # Add padding if required\n",
        "    if padding is not None:\n",
        "        video = np.pad(video, ((0,0),(0,0),(padding,padding),(padding,padding)), mode='constant', constant_values=0)\n",
        "\n",
        "    # Convert the video to a PyTorch tensor\n",
        "    video_tensor = torch.from_numpy(video).unsqueeze(0).to(device)\n",
        "\n",
        "    # Perform the forward pass\n",
        "    with torch.no_grad():\n",
        "        output = model(video_tensor)\n",
        "\n",
        "    # Optionally, apply any post-processing to the output\n",
        "    predicted_ejection_fraction = output.item() * 100  # Assuming the output is between 0 and 1\n",
        "\n",
        "    return predicted_ejection_fraction"
      ],
      "metadata": {
        "id": "SC3GGBURDTd_"
      },
      "execution_count": null,
      "outputs": []
    },
    {
      "cell_type": "code",
      "source": [
        "# Example usage\n",
        "\n",
        "model = UltraSwin.load_from_checkpoint(\"/content/Swin-KD/teacher.ckpt\")\n",
        "video_path = \"/content/Vids/0X1AECADC95492F71D.avi\"\n",
        "padding_value = 8  # Set the desired padding value\n",
        "\n",
        "# Specify the device (e.g., 'cuda' for GPU)\n",
        "device = 'cuda' if torch.cuda.is_available() else 'cpu'\n",
        "\n",
        "predicted_ef = predict_ejection_fraction(model, video_path, padding=padding_value, device=device)\n",
        "print(f\"Predicted Ejection Fraction: {predicted_ef:.5f}%\")"
      ],
      "metadata": {
        "colab": {
          "base_uri": "https://localhost:8080/"
        },
        "id": "6guGNl2ZDWX_",
        "outputId": "4015ef5c-b41f-41fd-c5ef-1389bbc1ae2c"
      },
      "execution_count": null,
      "outputs": [
        {
          "output_type": "stream",
          "name": "stdout",
          "text": [
            "Predicted Ejection Fraction: 56.66061%\n"
          ]
        }
      ]
    },
    {
      "cell_type": "markdown",
      "source": [
        "#Troubleshooting"
      ],
      "metadata": {
        "id": "sDMQWcyGNB9H"
      }
    },
    {
      "cell_type": "markdown",
      "source": [
        "print out keys"
      ],
      "metadata": {
        "id": "yM5GAtwV91mg"
      }
    },
    {
      "cell_type": "code",
      "source": [
        "student_model = UltraSwin.load_from_checkpoint(distilled_model)\n",
        "student_state_dict = student_model.state_dict()\n",
        "\n",
        "# Print the keys in the state dictionary\n",
        "print(\"Keys in the student model's state dictionary:\")\n",
        "for key in student_state_dict.keys():\n",
        "    print(key)"
      ],
      "metadata": {
        "colab": {
          "base_uri": "https://localhost:8080/",
          "height": 481
        },
        "id": "e8mQfgQ-xB41",
        "outputId": "8067705c-1b91-47a7-f147-9c0afaf1fe2c"
      },
      "execution_count": null,
      "outputs": [
        {
          "output_type": "error",
          "ename": "AttributeError",
          "evalue": "'UltraSwin' object has no attribute 'seek'. You can only torch.load from a file that is seekable. Please pre-load the data into a buffer like io.BytesIO and try to load from it instead.",
          "traceback": [
            "\u001b[0;31m---------------------------------------------------------------------------\u001b[0m",
            "\u001b[0;31mAttributeError\u001b[0m                            Traceback (most recent call last)",
            "\u001b[0;32m/usr/local/lib/python3.10/dist-packages/torch/serialization.py\u001b[0m in \u001b[0;36m_check_seekable\u001b[0;34m(f)\u001b[0m\n\u001b[1;32m    540\u001b[0m     \u001b[0;32mtry\u001b[0m\u001b[0;34m:\u001b[0m\u001b[0;34m\u001b[0m\u001b[0;34m\u001b[0m\u001b[0m\n\u001b[0;32m--> 541\u001b[0;31m         \u001b[0mf\u001b[0m\u001b[0;34m.\u001b[0m\u001b[0mseek\u001b[0m\u001b[0;34m(\u001b[0m\u001b[0mf\u001b[0m\u001b[0;34m.\u001b[0m\u001b[0mtell\u001b[0m\u001b[0;34m(\u001b[0m\u001b[0;34m)\u001b[0m\u001b[0;34m)\u001b[0m\u001b[0;34m\u001b[0m\u001b[0;34m\u001b[0m\u001b[0m\n\u001b[0m\u001b[1;32m    542\u001b[0m         \u001b[0;32mreturn\u001b[0m \u001b[0;32mTrue\u001b[0m\u001b[0;34m\u001b[0m\u001b[0;34m\u001b[0m\u001b[0m\n",
            "\u001b[0;32m/usr/local/lib/python3.10/dist-packages/torch/nn/modules/module.py\u001b[0m in \u001b[0;36m__getattr__\u001b[0;34m(self, name)\u001b[0m\n\u001b[1;32m   1687\u001b[0m                 \u001b[0;32mreturn\u001b[0m \u001b[0mmodules\u001b[0m\u001b[0;34m[\u001b[0m\u001b[0mname\u001b[0m\u001b[0;34m]\u001b[0m\u001b[0;34m\u001b[0m\u001b[0;34m\u001b[0m\u001b[0m\n\u001b[0;32m-> 1688\u001b[0;31m         \u001b[0;32mraise\u001b[0m \u001b[0mAttributeError\u001b[0m\u001b[0;34m(\u001b[0m\u001b[0;34mf\"'{type(self).__name__}' object has no attribute '{name}'\"\u001b[0m\u001b[0;34m)\u001b[0m\u001b[0;34m\u001b[0m\u001b[0;34m\u001b[0m\u001b[0m\n\u001b[0m\u001b[1;32m   1689\u001b[0m \u001b[0;34m\u001b[0m\u001b[0m\n",
            "\u001b[0;31mAttributeError\u001b[0m: 'UltraSwin' object has no attribute 'seek'",
            "\nDuring handling of the above exception, another exception occurred:\n",
            "\u001b[0;31mAttributeError\u001b[0m                            Traceback (most recent call last)",
            "\u001b[0;32m<ipython-input-31-75a29fe49981>\u001b[0m in \u001b[0;36m<cell line: 1>\u001b[0;34m()\u001b[0m\n\u001b[0;32m----> 1\u001b[0;31m \u001b[0mstudent_model\u001b[0m \u001b[0;34m=\u001b[0m \u001b[0mUltraSwin\u001b[0m\u001b[0;34m.\u001b[0m\u001b[0mload_from_checkpoint\u001b[0m\u001b[0;34m(\u001b[0m\u001b[0mdistilled_model\u001b[0m\u001b[0;34m)\u001b[0m\u001b[0;34m\u001b[0m\u001b[0;34m\u001b[0m\u001b[0m\n\u001b[0m\u001b[1;32m      2\u001b[0m \u001b[0mstudent_state_dict\u001b[0m \u001b[0;34m=\u001b[0m \u001b[0mstudent_model\u001b[0m\u001b[0;34m.\u001b[0m\u001b[0mstate_dict\u001b[0m\u001b[0;34m(\u001b[0m\u001b[0;34m)\u001b[0m\u001b[0;34m\u001b[0m\u001b[0;34m\u001b[0m\u001b[0m\n\u001b[1;32m      3\u001b[0m \u001b[0;34m\u001b[0m\u001b[0m\n\u001b[1;32m      4\u001b[0m \u001b[0;31m# Print the keys in the state dictionary\u001b[0m\u001b[0;34m\u001b[0m\u001b[0;34m\u001b[0m\u001b[0m\n\u001b[1;32m      5\u001b[0m \u001b[0mprint\u001b[0m\u001b[0;34m(\u001b[0m\u001b[0;34m\"Keys in the student model's state dictionary:\"\u001b[0m\u001b[0;34m)\u001b[0m\u001b[0;34m\u001b[0m\u001b[0;34m\u001b[0m\u001b[0m\n",
            "\u001b[0;32m/usr/local/lib/python3.10/dist-packages/pytorch_lightning/utilities/model_helpers.py\u001b[0m in \u001b[0;36mwrapper\u001b[0;34m(*args, **kwargs)\u001b[0m\n\u001b[1;32m    123\u001b[0m                     \u001b[0;34m\" Please call it on the class type and make sure the return value is used.\"\u001b[0m\u001b[0;34m\u001b[0m\u001b[0;34m\u001b[0m\u001b[0m\n\u001b[1;32m    124\u001b[0m                 )\n\u001b[0;32m--> 125\u001b[0;31m             \u001b[0;32mreturn\u001b[0m \u001b[0mself\u001b[0m\u001b[0;34m.\u001b[0m\u001b[0mmethod\u001b[0m\u001b[0;34m(\u001b[0m\u001b[0mcls\u001b[0m\u001b[0;34m,\u001b[0m \u001b[0;34m*\u001b[0m\u001b[0margs\u001b[0m\u001b[0;34m,\u001b[0m \u001b[0;34m**\u001b[0m\u001b[0mkwargs\u001b[0m\u001b[0;34m)\u001b[0m\u001b[0;34m\u001b[0m\u001b[0;34m\u001b[0m\u001b[0m\n\u001b[0m\u001b[1;32m    126\u001b[0m \u001b[0;34m\u001b[0m\u001b[0m\n\u001b[1;32m    127\u001b[0m         \u001b[0;32mreturn\u001b[0m \u001b[0mwrapper\u001b[0m\u001b[0;34m\u001b[0m\u001b[0;34m\u001b[0m\u001b[0m\n",
            "\u001b[0;32m/usr/local/lib/python3.10/dist-packages/pytorch_lightning/core/module.py\u001b[0m in \u001b[0;36mload_from_checkpoint\u001b[0;34m(cls, checkpoint_path, map_location, hparams_file, strict, **kwargs)\u001b[0m\n\u001b[1;32m   1579\u001b[0m \u001b[0;34m\u001b[0m\u001b[0m\n\u001b[1;32m   1580\u001b[0m         \"\"\"\n\u001b[0;32m-> 1581\u001b[0;31m         loaded = _load_from_checkpoint(\n\u001b[0m\u001b[1;32m   1582\u001b[0m             \u001b[0mcls\u001b[0m\u001b[0;34m,\u001b[0m  \u001b[0;31m# type: ignore[arg-type]\u001b[0m\u001b[0;34m\u001b[0m\u001b[0;34m\u001b[0m\u001b[0m\n\u001b[1;32m   1583\u001b[0m             \u001b[0mcheckpoint_path\u001b[0m\u001b[0;34m,\u001b[0m\u001b[0;34m\u001b[0m\u001b[0;34m\u001b[0m\u001b[0m\n",
            "\u001b[0;32m/usr/local/lib/python3.10/dist-packages/pytorch_lightning/core/saving.py\u001b[0m in \u001b[0;36m_load_from_checkpoint\u001b[0;34m(cls, checkpoint_path, map_location, hparams_file, strict, **kwargs)\u001b[0m\n\u001b[1;32m     61\u001b[0m     \u001b[0mmap_location\u001b[0m \u001b[0;34m=\u001b[0m \u001b[0mmap_location\u001b[0m \u001b[0;32mor\u001b[0m \u001b[0m_default_map_location\u001b[0m\u001b[0;34m\u001b[0m\u001b[0;34m\u001b[0m\u001b[0m\n\u001b[1;32m     62\u001b[0m     \u001b[0;32mwith\u001b[0m \u001b[0mpl_legacy_patch\u001b[0m\u001b[0;34m(\u001b[0m\u001b[0;34m)\u001b[0m\u001b[0;34m:\u001b[0m\u001b[0;34m\u001b[0m\u001b[0;34m\u001b[0m\u001b[0m\n\u001b[0;32m---> 63\u001b[0;31m         \u001b[0mcheckpoint\u001b[0m \u001b[0;34m=\u001b[0m \u001b[0mpl_load\u001b[0m\u001b[0;34m(\u001b[0m\u001b[0mcheckpoint_path\u001b[0m\u001b[0;34m,\u001b[0m \u001b[0mmap_location\u001b[0m\u001b[0;34m=\u001b[0m\u001b[0mmap_location\u001b[0m\u001b[0;34m)\u001b[0m\u001b[0;34m\u001b[0m\u001b[0;34m\u001b[0m\u001b[0m\n\u001b[0m\u001b[1;32m     64\u001b[0m \u001b[0;34m\u001b[0m\u001b[0m\n\u001b[1;32m     65\u001b[0m     \u001b[0;31m# convert legacy checkpoints to the new format\u001b[0m\u001b[0;34m\u001b[0m\u001b[0;34m\u001b[0m\u001b[0m\n",
            "\u001b[0;32m/usr/local/lib/python3.10/dist-packages/lightning_fabric/utilities/cloud_io.py\u001b[0m in \u001b[0;36m_load\u001b[0;34m(path_or_url, map_location)\u001b[0m\n\u001b[1;32m     44\u001b[0m     \u001b[0;32mif\u001b[0m \u001b[0;32mnot\u001b[0m \u001b[0misinstance\u001b[0m\u001b[0;34m(\u001b[0m\u001b[0mpath_or_url\u001b[0m\u001b[0;34m,\u001b[0m \u001b[0;34m(\u001b[0m\u001b[0mstr\u001b[0m\u001b[0;34m,\u001b[0m \u001b[0mPath\u001b[0m\u001b[0;34m)\u001b[0m\u001b[0;34m)\u001b[0m\u001b[0;34m:\u001b[0m\u001b[0;34m\u001b[0m\u001b[0;34m\u001b[0m\u001b[0m\n\u001b[1;32m     45\u001b[0m         \u001b[0;31m# any sort of BytesIO or similar\u001b[0m\u001b[0;34m\u001b[0m\u001b[0;34m\u001b[0m\u001b[0m\n\u001b[0;32m---> 46\u001b[0;31m         return torch.load(\n\u001b[0m\u001b[1;32m     47\u001b[0m             \u001b[0mpath_or_url\u001b[0m\u001b[0;34m,\u001b[0m\u001b[0;34m\u001b[0m\u001b[0;34m\u001b[0m\u001b[0m\n\u001b[1;32m     48\u001b[0m             \u001b[0mmap_location\u001b[0m\u001b[0;34m=\u001b[0m\u001b[0mmap_location\u001b[0m\u001b[0;34m,\u001b[0m  \u001b[0;31m# type: ignore[arg-type] # upstream annotation is not correct\u001b[0m\u001b[0;34m\u001b[0m\u001b[0;34m\u001b[0m\u001b[0m\n",
            "\u001b[0;32m/usr/local/lib/python3.10/dist-packages/torch/serialization.py\u001b[0m in \u001b[0;36mload\u001b[0;34m(f, map_location, pickle_module, weights_only, mmap, **pickle_load_args)\u001b[0m\n\u001b[1;32m    996\u001b[0m         \u001b[0mpickle_load_args\u001b[0m\u001b[0;34m[\u001b[0m\u001b[0;34m'encoding'\u001b[0m\u001b[0;34m]\u001b[0m \u001b[0;34m=\u001b[0m \u001b[0;34m'utf-8'\u001b[0m\u001b[0;34m\u001b[0m\u001b[0;34m\u001b[0m\u001b[0m\n\u001b[1;32m    997\u001b[0m \u001b[0;34m\u001b[0m\u001b[0m\n\u001b[0;32m--> 998\u001b[0;31m     \u001b[0;32mwith\u001b[0m \u001b[0m_open_file_like\u001b[0m\u001b[0;34m(\u001b[0m\u001b[0mf\u001b[0m\u001b[0;34m,\u001b[0m \u001b[0;34m'rb'\u001b[0m\u001b[0;34m)\u001b[0m \u001b[0;32mas\u001b[0m \u001b[0mopened_file\u001b[0m\u001b[0;34m:\u001b[0m\u001b[0;34m\u001b[0m\u001b[0;34m\u001b[0m\u001b[0m\n\u001b[0m\u001b[1;32m    999\u001b[0m         \u001b[0;32mif\u001b[0m \u001b[0m_is_zipfile\u001b[0m\u001b[0;34m(\u001b[0m\u001b[0mopened_file\u001b[0m\u001b[0;34m)\u001b[0m\u001b[0;34m:\u001b[0m\u001b[0;34m\u001b[0m\u001b[0;34m\u001b[0m\u001b[0m\n\u001b[1;32m   1000\u001b[0m             \u001b[0;31m# The zipfile reader is going to advance the current file position.\u001b[0m\u001b[0;34m\u001b[0m\u001b[0;34m\u001b[0m\u001b[0m\n",
            "\u001b[0;32m/usr/local/lib/python3.10/dist-packages/torch/serialization.py\u001b[0m in \u001b[0;36m_open_file_like\u001b[0;34m(name_or_buffer, mode)\u001b[0m\n\u001b[1;32m    448\u001b[0m             \u001b[0;32mreturn\u001b[0m \u001b[0m_open_buffer_writer\u001b[0m\u001b[0;34m(\u001b[0m\u001b[0mname_or_buffer\u001b[0m\u001b[0;34m)\u001b[0m\u001b[0;34m\u001b[0m\u001b[0;34m\u001b[0m\u001b[0m\n\u001b[1;32m    449\u001b[0m         \u001b[0;32melif\u001b[0m \u001b[0;34m'r'\u001b[0m \u001b[0;32min\u001b[0m \u001b[0mmode\u001b[0m\u001b[0;34m:\u001b[0m\u001b[0;34m\u001b[0m\u001b[0;34m\u001b[0m\u001b[0m\n\u001b[0;32m--> 450\u001b[0;31m             \u001b[0;32mreturn\u001b[0m \u001b[0m_open_buffer_reader\u001b[0m\u001b[0;34m(\u001b[0m\u001b[0mname_or_buffer\u001b[0m\u001b[0;34m)\u001b[0m\u001b[0;34m\u001b[0m\u001b[0;34m\u001b[0m\u001b[0m\n\u001b[0m\u001b[1;32m    451\u001b[0m         \u001b[0;32melse\u001b[0m\u001b[0;34m:\u001b[0m\u001b[0;34m\u001b[0m\u001b[0;34m\u001b[0m\u001b[0m\n\u001b[1;32m    452\u001b[0m             \u001b[0;32mraise\u001b[0m \u001b[0mRuntimeError\u001b[0m\u001b[0;34m(\u001b[0m\u001b[0;34mf\"Expected 'r' or 'w' in mode but got {mode}\"\u001b[0m\u001b[0;34m)\u001b[0m\u001b[0;34m\u001b[0m\u001b[0;34m\u001b[0m\u001b[0m\n",
            "\u001b[0;32m/usr/local/lib/python3.10/dist-packages/torch/serialization.py\u001b[0m in \u001b[0;36m__init__\u001b[0;34m(self, buffer)\u001b[0m\n\u001b[1;32m    433\u001b[0m     \u001b[0;32mdef\u001b[0m \u001b[0m__init__\u001b[0m\u001b[0;34m(\u001b[0m\u001b[0mself\u001b[0m\u001b[0;34m,\u001b[0m \u001b[0mbuffer\u001b[0m\u001b[0;34m)\u001b[0m\u001b[0;34m:\u001b[0m\u001b[0;34m\u001b[0m\u001b[0;34m\u001b[0m\u001b[0m\n\u001b[1;32m    434\u001b[0m         \u001b[0msuper\u001b[0m\u001b[0;34m(\u001b[0m\u001b[0;34m)\u001b[0m\u001b[0;34m.\u001b[0m\u001b[0m__init__\u001b[0m\u001b[0;34m(\u001b[0m\u001b[0mbuffer\u001b[0m\u001b[0;34m)\u001b[0m\u001b[0;34m\u001b[0m\u001b[0;34m\u001b[0m\u001b[0m\n\u001b[0;32m--> 435\u001b[0;31m         \u001b[0m_check_seekable\u001b[0m\u001b[0;34m(\u001b[0m\u001b[0mbuffer\u001b[0m\u001b[0;34m)\u001b[0m\u001b[0;34m\u001b[0m\u001b[0;34m\u001b[0m\u001b[0m\n\u001b[0m\u001b[1;32m    436\u001b[0m \u001b[0;34m\u001b[0m\u001b[0m\n\u001b[1;32m    437\u001b[0m \u001b[0;34m\u001b[0m\u001b[0m\n",
            "\u001b[0;32m/usr/local/lib/python3.10/dist-packages/torch/serialization.py\u001b[0m in \u001b[0;36m_check_seekable\u001b[0;34m(f)\u001b[0m\n\u001b[1;32m    542\u001b[0m         \u001b[0;32mreturn\u001b[0m \u001b[0;32mTrue\u001b[0m\u001b[0;34m\u001b[0m\u001b[0;34m\u001b[0m\u001b[0m\n\u001b[1;32m    543\u001b[0m     \u001b[0;32mexcept\u001b[0m \u001b[0;34m(\u001b[0m\u001b[0mio\u001b[0m\u001b[0;34m.\u001b[0m\u001b[0mUnsupportedOperation\u001b[0m\u001b[0;34m,\u001b[0m \u001b[0mAttributeError\u001b[0m\u001b[0;34m)\u001b[0m \u001b[0;32mas\u001b[0m \u001b[0me\u001b[0m\u001b[0;34m:\u001b[0m\u001b[0;34m\u001b[0m\u001b[0;34m\u001b[0m\u001b[0m\n\u001b[0;32m--> 544\u001b[0;31m         \u001b[0mraise_err_msg\u001b[0m\u001b[0;34m(\u001b[0m\u001b[0;34m[\u001b[0m\u001b[0;34m\"seek\"\u001b[0m\u001b[0;34m,\u001b[0m \u001b[0;34m\"tell\"\u001b[0m\u001b[0;34m]\u001b[0m\u001b[0;34m,\u001b[0m \u001b[0me\u001b[0m\u001b[0;34m)\u001b[0m\u001b[0;34m\u001b[0m\u001b[0;34m\u001b[0m\u001b[0m\n\u001b[0m\u001b[1;32m    545\u001b[0m     \u001b[0;32mreturn\u001b[0m \u001b[0;32mFalse\u001b[0m\u001b[0;34m\u001b[0m\u001b[0;34m\u001b[0m\u001b[0m\n\u001b[1;32m    546\u001b[0m \u001b[0;34m\u001b[0m\u001b[0m\n",
            "\u001b[0;32m/usr/local/lib/python3.10/dist-packages/torch/serialization.py\u001b[0m in \u001b[0;36mraise_err_msg\u001b[0;34m(patterns, e)\u001b[0m\n\u001b[1;32m    535\u001b[0m                                 \u001b[0;34m+\u001b[0m \u001b[0;34m\" Please pre-load the data into a buffer like io.BytesIO and\"\u001b[0m\u001b[0;34m\u001b[0m\u001b[0;34m\u001b[0m\u001b[0m\n\u001b[1;32m    536\u001b[0m                                 + \" try to load from it instead.\")\n\u001b[0;32m--> 537\u001b[0;31m                 \u001b[0;32mraise\u001b[0m \u001b[0mtype\u001b[0m\u001b[0;34m(\u001b[0m\u001b[0me\u001b[0m\u001b[0;34m)\u001b[0m\u001b[0;34m(\u001b[0m\u001b[0mmsg\u001b[0m\u001b[0;34m)\u001b[0m\u001b[0;34m\u001b[0m\u001b[0;34m\u001b[0m\u001b[0m\n\u001b[0m\u001b[1;32m    538\u001b[0m         \u001b[0;32mraise\u001b[0m \u001b[0me\u001b[0m\u001b[0;34m\u001b[0m\u001b[0;34m\u001b[0m\u001b[0m\n\u001b[1;32m    539\u001b[0m \u001b[0;34m\u001b[0m\u001b[0m\n",
            "\u001b[0;31mAttributeError\u001b[0m: 'UltraSwin' object has no attribute 'seek'. You can only torch.load from a file that is seekable. Please pre-load the data into a buffer like io.BytesIO and try to load from it instead."
          ]
        }
      ]
    },
    {
      "cell_type": "markdown",
      "source": [],
      "metadata": {
        "id": "f92YMw2qbBE0"
      }
    }
  ],
  "metadata": {
    "colab": {
      "collapsed_sections": [
        "rJajo_jdmLXe",
        "sDMQWcyGNB9H"
      ],
      "provenance": [],
      "gpuType": "T4"
    },
    "kernelspec": {
      "display_name": "Python 3",
      "name": "python3"
    },
    "language_info": {
      "name": "python"
    },
    "widgets": {
      "application/vnd.jupyter.widget-state+json": {
        "51467ed361b0482faac9a8ccac54780d": {
          "model_module": "@jupyter-widgets/controls",
          "model_name": "HBoxModel",
          "model_module_version": "1.5.0",
          "state": {
            "_dom_classes": [],
            "_model_module": "@jupyter-widgets/controls",
            "_model_module_version": "1.5.0",
            "_model_name": "HBoxModel",
            "_view_count": null,
            "_view_module": "@jupyter-widgets/controls",
            "_view_module_version": "1.5.0",
            "_view_name": "HBoxView",
            "box_style": "",
            "children": [
              "IPY_MODEL_321aa51c8dc141318f16c7b63a32e939",
              "IPY_MODEL_294424366c3a43debe50fb733f68b6cc",
              "IPY_MODEL_69bf0381cb764e6891061cc8df567df8"
            ],
            "layout": "IPY_MODEL_000f286e65c442709341700e8ca52415"
          }
        },
        "321aa51c8dc141318f16c7b63a32e939": {
          "model_module": "@jupyter-widgets/controls",
          "model_name": "HTMLModel",
          "model_module_version": "1.5.0",
          "state": {
            "_dom_classes": [],
            "_model_module": "@jupyter-widgets/controls",
            "_model_module_version": "1.5.0",
            "_model_name": "HTMLModel",
            "_view_count": null,
            "_view_module": "@jupyter-widgets/controls",
            "_view_module_version": "1.5.0",
            "_view_name": "HTMLView",
            "description": "",
            "description_tooltip": null,
            "layout": "IPY_MODEL_eead09d9c98e45c390db12cbc6f10fa8",
            "placeholder": "​",
            "style": "IPY_MODEL_f4de683b13dc49a2ab1a4480c1c47326",
            "value": "Testing DataLoader 0: 100%"
          }
        },
        "294424366c3a43debe50fb733f68b6cc": {
          "model_module": "@jupyter-widgets/controls",
          "model_name": "FloatProgressModel",
          "model_module_version": "1.5.0",
          "state": {
            "_dom_classes": [],
            "_model_module": "@jupyter-widgets/controls",
            "_model_module_version": "1.5.0",
            "_model_name": "FloatProgressModel",
            "_view_count": null,
            "_view_module": "@jupyter-widgets/controls",
            "_view_module_version": "1.5.0",
            "_view_name": "ProgressView",
            "bar_style": "success",
            "description": "",
            "description_tooltip": null,
            "layout": "IPY_MODEL_8342dc40697d43a59983fa7d240378e5",
            "max": 157,
            "min": 0,
            "orientation": "horizontal",
            "style": "IPY_MODEL_13d59f9ea7f948c495c47f19a6af4a8e",
            "value": 157
          }
        },
        "69bf0381cb764e6891061cc8df567df8": {
          "model_module": "@jupyter-widgets/controls",
          "model_name": "HTMLModel",
          "model_module_version": "1.5.0",
          "state": {
            "_dom_classes": [],
            "_model_module": "@jupyter-widgets/controls",
            "_model_module_version": "1.5.0",
            "_model_name": "HTMLModel",
            "_view_count": null,
            "_view_module": "@jupyter-widgets/controls",
            "_view_module_version": "1.5.0",
            "_view_name": "HTMLView",
            "description": "",
            "description_tooltip": null,
            "layout": "IPY_MODEL_ae79615e08f4439fbb448ed0594ab4d4",
            "placeholder": "​",
            "style": "IPY_MODEL_924eb6c0fe85497a85e6bb76bb7f2a53",
            "value": " 157/157 [01:05&lt;00:00,  2.41it/s]"
          }
        },
        "000f286e65c442709341700e8ca52415": {
          "model_module": "@jupyter-widgets/base",
          "model_name": "LayoutModel",
          "model_module_version": "1.2.0",
          "state": {
            "_model_module": "@jupyter-widgets/base",
            "_model_module_version": "1.2.0",
            "_model_name": "LayoutModel",
            "_view_count": null,
            "_view_module": "@jupyter-widgets/base",
            "_view_module_version": "1.2.0",
            "_view_name": "LayoutView",
            "align_content": null,
            "align_items": null,
            "align_self": null,
            "border": null,
            "bottom": null,
            "display": "inline-flex",
            "flex": null,
            "flex_flow": "row wrap",
            "grid_area": null,
            "grid_auto_columns": null,
            "grid_auto_flow": null,
            "grid_auto_rows": null,
            "grid_column": null,
            "grid_gap": null,
            "grid_row": null,
            "grid_template_areas": null,
            "grid_template_columns": null,
            "grid_template_rows": null,
            "height": null,
            "justify_content": null,
            "justify_items": null,
            "left": null,
            "margin": null,
            "max_height": null,
            "max_width": null,
            "min_height": null,
            "min_width": null,
            "object_fit": null,
            "object_position": null,
            "order": null,
            "overflow": null,
            "overflow_x": null,
            "overflow_y": null,
            "padding": null,
            "right": null,
            "top": null,
            "visibility": null,
            "width": "100%"
          }
        },
        "eead09d9c98e45c390db12cbc6f10fa8": {
          "model_module": "@jupyter-widgets/base",
          "model_name": "LayoutModel",
          "model_module_version": "1.2.0",
          "state": {
            "_model_module": "@jupyter-widgets/base",
            "_model_module_version": "1.2.0",
            "_model_name": "LayoutModel",
            "_view_count": null,
            "_view_module": "@jupyter-widgets/base",
            "_view_module_version": "1.2.0",
            "_view_name": "LayoutView",
            "align_content": null,
            "align_items": null,
            "align_self": null,
            "border": null,
            "bottom": null,
            "display": null,
            "flex": null,
            "flex_flow": null,
            "grid_area": null,
            "grid_auto_columns": null,
            "grid_auto_flow": null,
            "grid_auto_rows": null,
            "grid_column": null,
            "grid_gap": null,
            "grid_row": null,
            "grid_template_areas": null,
            "grid_template_columns": null,
            "grid_template_rows": null,
            "height": null,
            "justify_content": null,
            "justify_items": null,
            "left": null,
            "margin": null,
            "max_height": null,
            "max_width": null,
            "min_height": null,
            "min_width": null,
            "object_fit": null,
            "object_position": null,
            "order": null,
            "overflow": null,
            "overflow_x": null,
            "overflow_y": null,
            "padding": null,
            "right": null,
            "top": null,
            "visibility": null,
            "width": null
          }
        },
        "f4de683b13dc49a2ab1a4480c1c47326": {
          "model_module": "@jupyter-widgets/controls",
          "model_name": "DescriptionStyleModel",
          "model_module_version": "1.5.0",
          "state": {
            "_model_module": "@jupyter-widgets/controls",
            "_model_module_version": "1.5.0",
            "_model_name": "DescriptionStyleModel",
            "_view_count": null,
            "_view_module": "@jupyter-widgets/base",
            "_view_module_version": "1.2.0",
            "_view_name": "StyleView",
            "description_width": ""
          }
        },
        "8342dc40697d43a59983fa7d240378e5": {
          "model_module": "@jupyter-widgets/base",
          "model_name": "LayoutModel",
          "model_module_version": "1.2.0",
          "state": {
            "_model_module": "@jupyter-widgets/base",
            "_model_module_version": "1.2.0",
            "_model_name": "LayoutModel",
            "_view_count": null,
            "_view_module": "@jupyter-widgets/base",
            "_view_module_version": "1.2.0",
            "_view_name": "LayoutView",
            "align_content": null,
            "align_items": null,
            "align_self": null,
            "border": null,
            "bottom": null,
            "display": null,
            "flex": "2",
            "flex_flow": null,
            "grid_area": null,
            "grid_auto_columns": null,
            "grid_auto_flow": null,
            "grid_auto_rows": null,
            "grid_column": null,
            "grid_gap": null,
            "grid_row": null,
            "grid_template_areas": null,
            "grid_template_columns": null,
            "grid_template_rows": null,
            "height": null,
            "justify_content": null,
            "justify_items": null,
            "left": null,
            "margin": null,
            "max_height": null,
            "max_width": null,
            "min_height": null,
            "min_width": null,
            "object_fit": null,
            "object_position": null,
            "order": null,
            "overflow": null,
            "overflow_x": null,
            "overflow_y": null,
            "padding": null,
            "right": null,
            "top": null,
            "visibility": null,
            "width": null
          }
        },
        "13d59f9ea7f948c495c47f19a6af4a8e": {
          "model_module": "@jupyter-widgets/controls",
          "model_name": "ProgressStyleModel",
          "model_module_version": "1.5.0",
          "state": {
            "_model_module": "@jupyter-widgets/controls",
            "_model_module_version": "1.5.0",
            "_model_name": "ProgressStyleModel",
            "_view_count": null,
            "_view_module": "@jupyter-widgets/base",
            "_view_module_version": "1.2.0",
            "_view_name": "StyleView",
            "bar_color": null,
            "description_width": ""
          }
        },
        "ae79615e08f4439fbb448ed0594ab4d4": {
          "model_module": "@jupyter-widgets/base",
          "model_name": "LayoutModel",
          "model_module_version": "1.2.0",
          "state": {
            "_model_module": "@jupyter-widgets/base",
            "_model_module_version": "1.2.0",
            "_model_name": "LayoutModel",
            "_view_count": null,
            "_view_module": "@jupyter-widgets/base",
            "_view_module_version": "1.2.0",
            "_view_name": "LayoutView",
            "align_content": null,
            "align_items": null,
            "align_self": null,
            "border": null,
            "bottom": null,
            "display": null,
            "flex": null,
            "flex_flow": null,
            "grid_area": null,
            "grid_auto_columns": null,
            "grid_auto_flow": null,
            "grid_auto_rows": null,
            "grid_column": null,
            "grid_gap": null,
            "grid_row": null,
            "grid_template_areas": null,
            "grid_template_columns": null,
            "grid_template_rows": null,
            "height": null,
            "justify_content": null,
            "justify_items": null,
            "left": null,
            "margin": null,
            "max_height": null,
            "max_width": null,
            "min_height": null,
            "min_width": null,
            "object_fit": null,
            "object_position": null,
            "order": null,
            "overflow": null,
            "overflow_x": null,
            "overflow_y": null,
            "padding": null,
            "right": null,
            "top": null,
            "visibility": null,
            "width": null
          }
        },
        "924eb6c0fe85497a85e6bb76bb7f2a53": {
          "model_module": "@jupyter-widgets/controls",
          "model_name": "DescriptionStyleModel",
          "model_module_version": "1.5.0",
          "state": {
            "_model_module": "@jupyter-widgets/controls",
            "_model_module_version": "1.5.0",
            "_model_name": "DescriptionStyleModel",
            "_view_count": null,
            "_view_module": "@jupyter-widgets/base",
            "_view_module_version": "1.2.0",
            "_view_name": "StyleView",
            "description_width": ""
          }
        },
        "bf84b07f640e48d3be3233e91c48bb1d": {
          "model_module": "@jupyter-widgets/controls",
          "model_name": "HBoxModel",
          "model_module_version": "1.5.0",
          "state": {
            "_dom_classes": [],
            "_model_module": "@jupyter-widgets/controls",
            "_model_module_version": "1.5.0",
            "_model_name": "HBoxModel",
            "_view_count": null,
            "_view_module": "@jupyter-widgets/controls",
            "_view_module_version": "1.5.0",
            "_view_name": "HBoxView",
            "box_style": "",
            "children": [
              "IPY_MODEL_f198f39a6765405fad97a77dfecdec77",
              "IPY_MODEL_9cf135b944864431a36a598fa154ddc1",
              "IPY_MODEL_01931f4cf51b4573b5542ef9bbad580c"
            ],
            "layout": "IPY_MODEL_16c21ed509ab459ba6c409fd6e9ac0b4"
          }
        },
        "f198f39a6765405fad97a77dfecdec77": {
          "model_module": "@jupyter-widgets/controls",
          "model_name": "HTMLModel",
          "model_module_version": "1.5.0",
          "state": {
            "_dom_classes": [],
            "_model_module": "@jupyter-widgets/controls",
            "_model_module_version": "1.5.0",
            "_model_name": "HTMLModel",
            "_view_count": null,
            "_view_module": "@jupyter-widgets/controls",
            "_view_module_version": "1.5.0",
            "_view_name": "HTMLView",
            "description": "",
            "description_tooltip": null,
            "layout": "IPY_MODEL_8928ad7e63294cdd81e1370339885d9a",
            "placeholder": "​",
            "style": "IPY_MODEL_8783664c6a4949a5ae6b917d0087cf57",
            "value": "Testing DataLoader 0: 100%"
          }
        },
        "9cf135b944864431a36a598fa154ddc1": {
          "model_module": "@jupyter-widgets/controls",
          "model_name": "FloatProgressModel",
          "model_module_version": "1.5.0",
          "state": {
            "_dom_classes": [],
            "_model_module": "@jupyter-widgets/controls",
            "_model_module_version": "1.5.0",
            "_model_name": "FloatProgressModel",
            "_view_count": null,
            "_view_module": "@jupyter-widgets/controls",
            "_view_module_version": "1.5.0",
            "_view_name": "ProgressView",
            "bar_style": "success",
            "description": "",
            "description_tooltip": null,
            "layout": "IPY_MODEL_03173da921e8434b98a03d3631e8ac6f",
            "max": 157,
            "min": 0,
            "orientation": "horizontal",
            "style": "IPY_MODEL_a33ab08fcd5446019834777aa7c4ef49",
            "value": 157
          }
        },
        "01931f4cf51b4573b5542ef9bbad580c": {
          "model_module": "@jupyter-widgets/controls",
          "model_name": "HTMLModel",
          "model_module_version": "1.5.0",
          "state": {
            "_dom_classes": [],
            "_model_module": "@jupyter-widgets/controls",
            "_model_module_version": "1.5.0",
            "_model_name": "HTMLModel",
            "_view_count": null,
            "_view_module": "@jupyter-widgets/controls",
            "_view_module_version": "1.5.0",
            "_view_name": "HTMLView",
            "description": "",
            "description_tooltip": null,
            "layout": "IPY_MODEL_cf130a96736b48db861477035f2381d3",
            "placeholder": "​",
            "style": "IPY_MODEL_ddbc851276c24f14a60efa211c152166",
            "value": " 157/157 [00:58&lt;00:00,  2.70it/s]"
          }
        },
        "16c21ed509ab459ba6c409fd6e9ac0b4": {
          "model_module": "@jupyter-widgets/base",
          "model_name": "LayoutModel",
          "model_module_version": "1.2.0",
          "state": {
            "_model_module": "@jupyter-widgets/base",
            "_model_module_version": "1.2.0",
            "_model_name": "LayoutModel",
            "_view_count": null,
            "_view_module": "@jupyter-widgets/base",
            "_view_module_version": "1.2.0",
            "_view_name": "LayoutView",
            "align_content": null,
            "align_items": null,
            "align_self": null,
            "border": null,
            "bottom": null,
            "display": "inline-flex",
            "flex": null,
            "flex_flow": "row wrap",
            "grid_area": null,
            "grid_auto_columns": null,
            "grid_auto_flow": null,
            "grid_auto_rows": null,
            "grid_column": null,
            "grid_gap": null,
            "grid_row": null,
            "grid_template_areas": null,
            "grid_template_columns": null,
            "grid_template_rows": null,
            "height": null,
            "justify_content": null,
            "justify_items": null,
            "left": null,
            "margin": null,
            "max_height": null,
            "max_width": null,
            "min_height": null,
            "min_width": null,
            "object_fit": null,
            "object_position": null,
            "order": null,
            "overflow": null,
            "overflow_x": null,
            "overflow_y": null,
            "padding": null,
            "right": null,
            "top": null,
            "visibility": null,
            "width": "100%"
          }
        },
        "8928ad7e63294cdd81e1370339885d9a": {
          "model_module": "@jupyter-widgets/base",
          "model_name": "LayoutModel",
          "model_module_version": "1.2.0",
          "state": {
            "_model_module": "@jupyter-widgets/base",
            "_model_module_version": "1.2.0",
            "_model_name": "LayoutModel",
            "_view_count": null,
            "_view_module": "@jupyter-widgets/base",
            "_view_module_version": "1.2.0",
            "_view_name": "LayoutView",
            "align_content": null,
            "align_items": null,
            "align_self": null,
            "border": null,
            "bottom": null,
            "display": null,
            "flex": null,
            "flex_flow": null,
            "grid_area": null,
            "grid_auto_columns": null,
            "grid_auto_flow": null,
            "grid_auto_rows": null,
            "grid_column": null,
            "grid_gap": null,
            "grid_row": null,
            "grid_template_areas": null,
            "grid_template_columns": null,
            "grid_template_rows": null,
            "height": null,
            "justify_content": null,
            "justify_items": null,
            "left": null,
            "margin": null,
            "max_height": null,
            "max_width": null,
            "min_height": null,
            "min_width": null,
            "object_fit": null,
            "object_position": null,
            "order": null,
            "overflow": null,
            "overflow_x": null,
            "overflow_y": null,
            "padding": null,
            "right": null,
            "top": null,
            "visibility": null,
            "width": null
          }
        },
        "8783664c6a4949a5ae6b917d0087cf57": {
          "model_module": "@jupyter-widgets/controls",
          "model_name": "DescriptionStyleModel",
          "model_module_version": "1.5.0",
          "state": {
            "_model_module": "@jupyter-widgets/controls",
            "_model_module_version": "1.5.0",
            "_model_name": "DescriptionStyleModel",
            "_view_count": null,
            "_view_module": "@jupyter-widgets/base",
            "_view_module_version": "1.2.0",
            "_view_name": "StyleView",
            "description_width": ""
          }
        },
        "03173da921e8434b98a03d3631e8ac6f": {
          "model_module": "@jupyter-widgets/base",
          "model_name": "LayoutModel",
          "model_module_version": "1.2.0",
          "state": {
            "_model_module": "@jupyter-widgets/base",
            "_model_module_version": "1.2.0",
            "_model_name": "LayoutModel",
            "_view_count": null,
            "_view_module": "@jupyter-widgets/base",
            "_view_module_version": "1.2.0",
            "_view_name": "LayoutView",
            "align_content": null,
            "align_items": null,
            "align_self": null,
            "border": null,
            "bottom": null,
            "display": null,
            "flex": "2",
            "flex_flow": null,
            "grid_area": null,
            "grid_auto_columns": null,
            "grid_auto_flow": null,
            "grid_auto_rows": null,
            "grid_column": null,
            "grid_gap": null,
            "grid_row": null,
            "grid_template_areas": null,
            "grid_template_columns": null,
            "grid_template_rows": null,
            "height": null,
            "justify_content": null,
            "justify_items": null,
            "left": null,
            "margin": null,
            "max_height": null,
            "max_width": null,
            "min_height": null,
            "min_width": null,
            "object_fit": null,
            "object_position": null,
            "order": null,
            "overflow": null,
            "overflow_x": null,
            "overflow_y": null,
            "padding": null,
            "right": null,
            "top": null,
            "visibility": null,
            "width": null
          }
        },
        "a33ab08fcd5446019834777aa7c4ef49": {
          "model_module": "@jupyter-widgets/controls",
          "model_name": "ProgressStyleModel",
          "model_module_version": "1.5.0",
          "state": {
            "_model_module": "@jupyter-widgets/controls",
            "_model_module_version": "1.5.0",
            "_model_name": "ProgressStyleModel",
            "_view_count": null,
            "_view_module": "@jupyter-widgets/base",
            "_view_module_version": "1.2.0",
            "_view_name": "StyleView",
            "bar_color": null,
            "description_width": ""
          }
        },
        "cf130a96736b48db861477035f2381d3": {
          "model_module": "@jupyter-widgets/base",
          "model_name": "LayoutModel",
          "model_module_version": "1.2.0",
          "state": {
            "_model_module": "@jupyter-widgets/base",
            "_model_module_version": "1.2.0",
            "_model_name": "LayoutModel",
            "_view_count": null,
            "_view_module": "@jupyter-widgets/base",
            "_view_module_version": "1.2.0",
            "_view_name": "LayoutView",
            "align_content": null,
            "align_items": null,
            "align_self": null,
            "border": null,
            "bottom": null,
            "display": null,
            "flex": null,
            "flex_flow": null,
            "grid_area": null,
            "grid_auto_columns": null,
            "grid_auto_flow": null,
            "grid_auto_rows": null,
            "grid_column": null,
            "grid_gap": null,
            "grid_row": null,
            "grid_template_areas": null,
            "grid_template_columns": null,
            "grid_template_rows": null,
            "height": null,
            "justify_content": null,
            "justify_items": null,
            "left": null,
            "margin": null,
            "max_height": null,
            "max_width": null,
            "min_height": null,
            "min_width": null,
            "object_fit": null,
            "object_position": null,
            "order": null,
            "overflow": null,
            "overflow_x": null,
            "overflow_y": null,
            "padding": null,
            "right": null,
            "top": null,
            "visibility": null,
            "width": null
          }
        },
        "ddbc851276c24f14a60efa211c152166": {
          "model_module": "@jupyter-widgets/controls",
          "model_name": "DescriptionStyleModel",
          "model_module_version": "1.5.0",
          "state": {
            "_model_module": "@jupyter-widgets/controls",
            "_model_module_version": "1.5.0",
            "_model_name": "DescriptionStyleModel",
            "_view_count": null,
            "_view_module": "@jupyter-widgets/base",
            "_view_module_version": "1.2.0",
            "_view_name": "StyleView",
            "description_width": ""
          }
        },
        "69a0d50e68e24cdf9559fa23e3b8f952": {
          "model_module": "@jupyter-widgets/controls",
          "model_name": "HBoxModel",
          "model_module_version": "1.5.0",
          "state": {
            "_dom_classes": [],
            "_model_module": "@jupyter-widgets/controls",
            "_model_module_version": "1.5.0",
            "_model_name": "HBoxModel",
            "_view_count": null,
            "_view_module": "@jupyter-widgets/controls",
            "_view_module_version": "1.5.0",
            "_view_name": "HBoxView",
            "box_style": "",
            "children": [
              "IPY_MODEL_5f5116ee64754c0f95538fcbc98026c2",
              "IPY_MODEL_ae6f62a1057f47a880420fa6c7502305",
              "IPY_MODEL_8ff3011cd93943b8993234ee84b9609c"
            ],
            "layout": "IPY_MODEL_14ccdfa31e1546e680696c595174a8e3"
          }
        },
        "5f5116ee64754c0f95538fcbc98026c2": {
          "model_module": "@jupyter-widgets/controls",
          "model_name": "HTMLModel",
          "model_module_version": "1.5.0",
          "state": {
            "_dom_classes": [],
            "_model_module": "@jupyter-widgets/controls",
            "_model_module_version": "1.5.0",
            "_model_name": "HTMLModel",
            "_view_count": null,
            "_view_module": "@jupyter-widgets/controls",
            "_view_module_version": "1.5.0",
            "_view_name": "HTMLView",
            "description": "",
            "description_tooltip": null,
            "layout": "IPY_MODEL_c7a9d26e5f464b4987a198cef5b5f72e",
            "placeholder": "​",
            "style": "IPY_MODEL_adfcd13bf347411daa821e40f8d63ddd",
            "value": "Sanity Checking DataLoader 0: 100%"
          }
        },
        "ae6f62a1057f47a880420fa6c7502305": {
          "model_module": "@jupyter-widgets/controls",
          "model_name": "FloatProgressModel",
          "model_module_version": "1.5.0",
          "state": {
            "_dom_classes": [],
            "_model_module": "@jupyter-widgets/controls",
            "_model_module_version": "1.5.0",
            "_model_name": "FloatProgressModel",
            "_view_count": null,
            "_view_module": "@jupyter-widgets/controls",
            "_view_module_version": "1.5.0",
            "_view_name": "ProgressView",
            "bar_style": "",
            "description": "",
            "description_tooltip": null,
            "layout": "IPY_MODEL_eee2be66644f4f8094eda06079d0475e",
            "max": 1,
            "min": 0,
            "orientation": "horizontal",
            "style": "IPY_MODEL_016038c9dda944b99709bce81b113a1c",
            "value": 1
          }
        },
        "8ff3011cd93943b8993234ee84b9609c": {
          "model_module": "@jupyter-widgets/controls",
          "model_name": "HTMLModel",
          "model_module_version": "1.5.0",
          "state": {
            "_dom_classes": [],
            "_model_module": "@jupyter-widgets/controls",
            "_model_module_version": "1.5.0",
            "_model_name": "HTMLModel",
            "_view_count": null,
            "_view_module": "@jupyter-widgets/controls",
            "_view_module_version": "1.5.0",
            "_view_name": "HTMLView",
            "description": "",
            "description_tooltip": null,
            "layout": "IPY_MODEL_4763e0da253d4653b1368460b901df88",
            "placeholder": "​",
            "style": "IPY_MODEL_f3bf69e505d44f2eb77c92208810dc33",
            "value": " 1/1 [00:00&lt;00:00,  5.33it/s]"
          }
        },
        "14ccdfa31e1546e680696c595174a8e3": {
          "model_module": "@jupyter-widgets/base",
          "model_name": "LayoutModel",
          "model_module_version": "1.2.0",
          "state": {
            "_model_module": "@jupyter-widgets/base",
            "_model_module_version": "1.2.0",
            "_model_name": "LayoutModel",
            "_view_count": null,
            "_view_module": "@jupyter-widgets/base",
            "_view_module_version": "1.2.0",
            "_view_name": "LayoutView",
            "align_content": null,
            "align_items": null,
            "align_self": null,
            "border": null,
            "bottom": null,
            "display": "inline-flex",
            "flex": null,
            "flex_flow": "row wrap",
            "grid_area": null,
            "grid_auto_columns": null,
            "grid_auto_flow": null,
            "grid_auto_rows": null,
            "grid_column": null,
            "grid_gap": null,
            "grid_row": null,
            "grid_template_areas": null,
            "grid_template_columns": null,
            "grid_template_rows": null,
            "height": null,
            "justify_content": null,
            "justify_items": null,
            "left": null,
            "margin": null,
            "max_height": null,
            "max_width": null,
            "min_height": null,
            "min_width": null,
            "object_fit": null,
            "object_position": null,
            "order": null,
            "overflow": null,
            "overflow_x": null,
            "overflow_y": null,
            "padding": null,
            "right": null,
            "top": null,
            "visibility": "hidden",
            "width": "100%"
          }
        },
        "c7a9d26e5f464b4987a198cef5b5f72e": {
          "model_module": "@jupyter-widgets/base",
          "model_name": "LayoutModel",
          "model_module_version": "1.2.0",
          "state": {
            "_model_module": "@jupyter-widgets/base",
            "_model_module_version": "1.2.0",
            "_model_name": "LayoutModel",
            "_view_count": null,
            "_view_module": "@jupyter-widgets/base",
            "_view_module_version": "1.2.0",
            "_view_name": "LayoutView",
            "align_content": null,
            "align_items": null,
            "align_self": null,
            "border": null,
            "bottom": null,
            "display": null,
            "flex": null,
            "flex_flow": null,
            "grid_area": null,
            "grid_auto_columns": null,
            "grid_auto_flow": null,
            "grid_auto_rows": null,
            "grid_column": null,
            "grid_gap": null,
            "grid_row": null,
            "grid_template_areas": null,
            "grid_template_columns": null,
            "grid_template_rows": null,
            "height": null,
            "justify_content": null,
            "justify_items": null,
            "left": null,
            "margin": null,
            "max_height": null,
            "max_width": null,
            "min_height": null,
            "min_width": null,
            "object_fit": null,
            "object_position": null,
            "order": null,
            "overflow": null,
            "overflow_x": null,
            "overflow_y": null,
            "padding": null,
            "right": null,
            "top": null,
            "visibility": null,
            "width": null
          }
        },
        "adfcd13bf347411daa821e40f8d63ddd": {
          "model_module": "@jupyter-widgets/controls",
          "model_name": "DescriptionStyleModel",
          "model_module_version": "1.5.0",
          "state": {
            "_model_module": "@jupyter-widgets/controls",
            "_model_module_version": "1.5.0",
            "_model_name": "DescriptionStyleModel",
            "_view_count": null,
            "_view_module": "@jupyter-widgets/base",
            "_view_module_version": "1.2.0",
            "_view_name": "StyleView",
            "description_width": ""
          }
        },
        "eee2be66644f4f8094eda06079d0475e": {
          "model_module": "@jupyter-widgets/base",
          "model_name": "LayoutModel",
          "model_module_version": "1.2.0",
          "state": {
            "_model_module": "@jupyter-widgets/base",
            "_model_module_version": "1.2.0",
            "_model_name": "LayoutModel",
            "_view_count": null,
            "_view_module": "@jupyter-widgets/base",
            "_view_module_version": "1.2.0",
            "_view_name": "LayoutView",
            "align_content": null,
            "align_items": null,
            "align_self": null,
            "border": null,
            "bottom": null,
            "display": null,
            "flex": "2",
            "flex_flow": null,
            "grid_area": null,
            "grid_auto_columns": null,
            "grid_auto_flow": null,
            "grid_auto_rows": null,
            "grid_column": null,
            "grid_gap": null,
            "grid_row": null,
            "grid_template_areas": null,
            "grid_template_columns": null,
            "grid_template_rows": null,
            "height": null,
            "justify_content": null,
            "justify_items": null,
            "left": null,
            "margin": null,
            "max_height": null,
            "max_width": null,
            "min_height": null,
            "min_width": null,
            "object_fit": null,
            "object_position": null,
            "order": null,
            "overflow": null,
            "overflow_x": null,
            "overflow_y": null,
            "padding": null,
            "right": null,
            "top": null,
            "visibility": null,
            "width": null
          }
        },
        "016038c9dda944b99709bce81b113a1c": {
          "model_module": "@jupyter-widgets/controls",
          "model_name": "ProgressStyleModel",
          "model_module_version": "1.5.0",
          "state": {
            "_model_module": "@jupyter-widgets/controls",
            "_model_module_version": "1.5.0",
            "_model_name": "ProgressStyleModel",
            "_view_count": null,
            "_view_module": "@jupyter-widgets/base",
            "_view_module_version": "1.2.0",
            "_view_name": "StyleView",
            "bar_color": null,
            "description_width": ""
          }
        },
        "4763e0da253d4653b1368460b901df88": {
          "model_module": "@jupyter-widgets/base",
          "model_name": "LayoutModel",
          "model_module_version": "1.2.0",
          "state": {
            "_model_module": "@jupyter-widgets/base",
            "_model_module_version": "1.2.0",
            "_model_name": "LayoutModel",
            "_view_count": null,
            "_view_module": "@jupyter-widgets/base",
            "_view_module_version": "1.2.0",
            "_view_name": "LayoutView",
            "align_content": null,
            "align_items": null,
            "align_self": null,
            "border": null,
            "bottom": null,
            "display": null,
            "flex": null,
            "flex_flow": null,
            "grid_area": null,
            "grid_auto_columns": null,
            "grid_auto_flow": null,
            "grid_auto_rows": null,
            "grid_column": null,
            "grid_gap": null,
            "grid_row": null,
            "grid_template_areas": null,
            "grid_template_columns": null,
            "grid_template_rows": null,
            "height": null,
            "justify_content": null,
            "justify_items": null,
            "left": null,
            "margin": null,
            "max_height": null,
            "max_width": null,
            "min_height": null,
            "min_width": null,
            "object_fit": null,
            "object_position": null,
            "order": null,
            "overflow": null,
            "overflow_x": null,
            "overflow_y": null,
            "padding": null,
            "right": null,
            "top": null,
            "visibility": null,
            "width": null
          }
        },
        "f3bf69e505d44f2eb77c92208810dc33": {
          "model_module": "@jupyter-widgets/controls",
          "model_name": "DescriptionStyleModel",
          "model_module_version": "1.5.0",
          "state": {
            "_model_module": "@jupyter-widgets/controls",
            "_model_module_version": "1.5.0",
            "_model_name": "DescriptionStyleModel",
            "_view_count": null,
            "_view_module": "@jupyter-widgets/base",
            "_view_module_version": "1.2.0",
            "_view_name": "StyleView",
            "description_width": ""
          }
        },
        "835148740bd544478a725469672f1d60": {
          "model_module": "@jupyter-widgets/controls",
          "model_name": "HBoxModel",
          "model_module_version": "1.5.0",
          "state": {
            "_dom_classes": [],
            "_model_module": "@jupyter-widgets/controls",
            "_model_module_version": "1.5.0",
            "_model_name": "HBoxModel",
            "_view_count": null,
            "_view_module": "@jupyter-widgets/controls",
            "_view_module_version": "1.5.0",
            "_view_name": "HBoxView",
            "box_style": "",
            "children": [
              "IPY_MODEL_2f42d099b0dc4ebea2fc0be04140fd42",
              "IPY_MODEL_7ee30ee6ee194edb93c048832dc83fb4",
              "IPY_MODEL_ec40790a02be4915a5ca8831d22d4a13"
            ],
            "layout": "IPY_MODEL_4838a72f60804982834ad3318e85d9ce"
          }
        },
        "2f42d099b0dc4ebea2fc0be04140fd42": {
          "model_module": "@jupyter-widgets/controls",
          "model_name": "HTMLModel",
          "model_module_version": "1.5.0",
          "state": {
            "_dom_classes": [],
            "_model_module": "@jupyter-widgets/controls",
            "_model_module_version": "1.5.0",
            "_model_name": "HTMLModel",
            "_view_count": null,
            "_view_module": "@jupyter-widgets/controls",
            "_view_module_version": "1.5.0",
            "_view_name": "HTMLView",
            "description": "",
            "description_tooltip": null,
            "layout": "IPY_MODEL_bceeaebab3044ee1a36f96c5a0cb9cc9",
            "placeholder": "​",
            "style": "IPY_MODEL_07126162d603495a8031010eda90e0ac",
            "value": "Epoch 0: 100%"
          }
        },
        "7ee30ee6ee194edb93c048832dc83fb4": {
          "model_module": "@jupyter-widgets/controls",
          "model_name": "FloatProgressModel",
          "model_module_version": "1.5.0",
          "state": {
            "_dom_classes": [],
            "_model_module": "@jupyter-widgets/controls",
            "_model_module_version": "1.5.0",
            "_model_name": "FloatProgressModel",
            "_view_count": null,
            "_view_module": "@jupyter-widgets/controls",
            "_view_module_version": "1.5.0",
            "_view_name": "ProgressView",
            "bar_style": "success",
            "description": "",
            "description_tooltip": null,
            "layout": "IPY_MODEL_de191de228c2464ab632f83edb2c17ff",
            "max": 896,
            "min": 0,
            "orientation": "horizontal",
            "style": "IPY_MODEL_ffac918070784f95827743fe702c4c02",
            "value": 896
          }
        },
        "ec40790a02be4915a5ca8831d22d4a13": {
          "model_module": "@jupyter-widgets/controls",
          "model_name": "HTMLModel",
          "model_module_version": "1.5.0",
          "state": {
            "_dom_classes": [],
            "_model_module": "@jupyter-widgets/controls",
            "_model_module_version": "1.5.0",
            "_model_name": "HTMLModel",
            "_view_count": null,
            "_view_module": "@jupyter-widgets/controls",
            "_view_module_version": "1.5.0",
            "_view_name": "HTMLView",
            "description": "",
            "description_tooltip": null,
            "layout": "IPY_MODEL_3fbfec0844404c9299b92da9e3268291",
            "placeholder": "​",
            "style": "IPY_MODEL_cfb6eaa183254710bba3e2c7200f4c6e",
            "value": " 896/896 [15:53&lt;00:00,  0.94it/s, v_num=1, val_loss=0.0146]"
          }
        },
        "4838a72f60804982834ad3318e85d9ce": {
          "model_module": "@jupyter-widgets/base",
          "model_name": "LayoutModel",
          "model_module_version": "1.2.0",
          "state": {
            "_model_module": "@jupyter-widgets/base",
            "_model_module_version": "1.2.0",
            "_model_name": "LayoutModel",
            "_view_count": null,
            "_view_module": "@jupyter-widgets/base",
            "_view_module_version": "1.2.0",
            "_view_name": "LayoutView",
            "align_content": null,
            "align_items": null,
            "align_self": null,
            "border": null,
            "bottom": null,
            "display": "inline-flex",
            "flex": null,
            "flex_flow": "row wrap",
            "grid_area": null,
            "grid_auto_columns": null,
            "grid_auto_flow": null,
            "grid_auto_rows": null,
            "grid_column": null,
            "grid_gap": null,
            "grid_row": null,
            "grid_template_areas": null,
            "grid_template_columns": null,
            "grid_template_rows": null,
            "height": null,
            "justify_content": null,
            "justify_items": null,
            "left": null,
            "margin": null,
            "max_height": null,
            "max_width": null,
            "min_height": null,
            "min_width": null,
            "object_fit": null,
            "object_position": null,
            "order": null,
            "overflow": null,
            "overflow_x": null,
            "overflow_y": null,
            "padding": null,
            "right": null,
            "top": null,
            "visibility": null,
            "width": "100%"
          }
        },
        "bceeaebab3044ee1a36f96c5a0cb9cc9": {
          "model_module": "@jupyter-widgets/base",
          "model_name": "LayoutModel",
          "model_module_version": "1.2.0",
          "state": {
            "_model_module": "@jupyter-widgets/base",
            "_model_module_version": "1.2.0",
            "_model_name": "LayoutModel",
            "_view_count": null,
            "_view_module": "@jupyter-widgets/base",
            "_view_module_version": "1.2.0",
            "_view_name": "LayoutView",
            "align_content": null,
            "align_items": null,
            "align_self": null,
            "border": null,
            "bottom": null,
            "display": null,
            "flex": null,
            "flex_flow": null,
            "grid_area": null,
            "grid_auto_columns": null,
            "grid_auto_flow": null,
            "grid_auto_rows": null,
            "grid_column": null,
            "grid_gap": null,
            "grid_row": null,
            "grid_template_areas": null,
            "grid_template_columns": null,
            "grid_template_rows": null,
            "height": null,
            "justify_content": null,
            "justify_items": null,
            "left": null,
            "margin": null,
            "max_height": null,
            "max_width": null,
            "min_height": null,
            "min_width": null,
            "object_fit": null,
            "object_position": null,
            "order": null,
            "overflow": null,
            "overflow_x": null,
            "overflow_y": null,
            "padding": null,
            "right": null,
            "top": null,
            "visibility": null,
            "width": null
          }
        },
        "07126162d603495a8031010eda90e0ac": {
          "model_module": "@jupyter-widgets/controls",
          "model_name": "DescriptionStyleModel",
          "model_module_version": "1.5.0",
          "state": {
            "_model_module": "@jupyter-widgets/controls",
            "_model_module_version": "1.5.0",
            "_model_name": "DescriptionStyleModel",
            "_view_count": null,
            "_view_module": "@jupyter-widgets/base",
            "_view_module_version": "1.2.0",
            "_view_name": "StyleView",
            "description_width": ""
          }
        },
        "de191de228c2464ab632f83edb2c17ff": {
          "model_module": "@jupyter-widgets/base",
          "model_name": "LayoutModel",
          "model_module_version": "1.2.0",
          "state": {
            "_model_module": "@jupyter-widgets/base",
            "_model_module_version": "1.2.0",
            "_model_name": "LayoutModel",
            "_view_count": null,
            "_view_module": "@jupyter-widgets/base",
            "_view_module_version": "1.2.0",
            "_view_name": "LayoutView",
            "align_content": null,
            "align_items": null,
            "align_self": null,
            "border": null,
            "bottom": null,
            "display": null,
            "flex": "2",
            "flex_flow": null,
            "grid_area": null,
            "grid_auto_columns": null,
            "grid_auto_flow": null,
            "grid_auto_rows": null,
            "grid_column": null,
            "grid_gap": null,
            "grid_row": null,
            "grid_template_areas": null,
            "grid_template_columns": null,
            "grid_template_rows": null,
            "height": null,
            "justify_content": null,
            "justify_items": null,
            "left": null,
            "margin": null,
            "max_height": null,
            "max_width": null,
            "min_height": null,
            "min_width": null,
            "object_fit": null,
            "object_position": null,
            "order": null,
            "overflow": null,
            "overflow_x": null,
            "overflow_y": null,
            "padding": null,
            "right": null,
            "top": null,
            "visibility": null,
            "width": null
          }
        },
        "ffac918070784f95827743fe702c4c02": {
          "model_module": "@jupyter-widgets/controls",
          "model_name": "ProgressStyleModel",
          "model_module_version": "1.5.0",
          "state": {
            "_model_module": "@jupyter-widgets/controls",
            "_model_module_version": "1.5.0",
            "_model_name": "ProgressStyleModel",
            "_view_count": null,
            "_view_module": "@jupyter-widgets/base",
            "_view_module_version": "1.2.0",
            "_view_name": "StyleView",
            "bar_color": null,
            "description_width": ""
          }
        },
        "3fbfec0844404c9299b92da9e3268291": {
          "model_module": "@jupyter-widgets/base",
          "model_name": "LayoutModel",
          "model_module_version": "1.2.0",
          "state": {
            "_model_module": "@jupyter-widgets/base",
            "_model_module_version": "1.2.0",
            "_model_name": "LayoutModel",
            "_view_count": null,
            "_view_module": "@jupyter-widgets/base",
            "_view_module_version": "1.2.0",
            "_view_name": "LayoutView",
            "align_content": null,
            "align_items": null,
            "align_self": null,
            "border": null,
            "bottom": null,
            "display": null,
            "flex": null,
            "flex_flow": null,
            "grid_area": null,
            "grid_auto_columns": null,
            "grid_auto_flow": null,
            "grid_auto_rows": null,
            "grid_column": null,
            "grid_gap": null,
            "grid_row": null,
            "grid_template_areas": null,
            "grid_template_columns": null,
            "grid_template_rows": null,
            "height": null,
            "justify_content": null,
            "justify_items": null,
            "left": null,
            "margin": null,
            "max_height": null,
            "max_width": null,
            "min_height": null,
            "min_width": null,
            "object_fit": null,
            "object_position": null,
            "order": null,
            "overflow": null,
            "overflow_x": null,
            "overflow_y": null,
            "padding": null,
            "right": null,
            "top": null,
            "visibility": null,
            "width": null
          }
        },
        "cfb6eaa183254710bba3e2c7200f4c6e": {
          "model_module": "@jupyter-widgets/controls",
          "model_name": "DescriptionStyleModel",
          "model_module_version": "1.5.0",
          "state": {
            "_model_module": "@jupyter-widgets/controls",
            "_model_module_version": "1.5.0",
            "_model_name": "DescriptionStyleModel",
            "_view_count": null,
            "_view_module": "@jupyter-widgets/base",
            "_view_module_version": "1.2.0",
            "_view_name": "StyleView",
            "description_width": ""
          }
        },
        "47f65b8e729a43d1b6d541356e23000e": {
          "model_module": "@jupyter-widgets/controls",
          "model_name": "HBoxModel",
          "model_module_version": "1.5.0",
          "state": {
            "_dom_classes": [],
            "_model_module": "@jupyter-widgets/controls",
            "_model_module_version": "1.5.0",
            "_model_name": "HBoxModel",
            "_view_count": null,
            "_view_module": "@jupyter-widgets/controls",
            "_view_module_version": "1.5.0",
            "_view_name": "HBoxView",
            "box_style": "",
            "children": [
              "IPY_MODEL_26f446ce1bc2493888b03b652f30c581",
              "IPY_MODEL_ef6542aa145b440ea6f98d3e8fa3ed06",
              "IPY_MODEL_8c23b2577bf7479cbefdc02245c2bc16"
            ],
            "layout": "IPY_MODEL_392560c987464e2aa5a7a9b89d57b1fd"
          }
        },
        "26f446ce1bc2493888b03b652f30c581": {
          "model_module": "@jupyter-widgets/controls",
          "model_name": "HTMLModel",
          "model_module_version": "1.5.0",
          "state": {
            "_dom_classes": [],
            "_model_module": "@jupyter-widgets/controls",
            "_model_module_version": "1.5.0",
            "_model_name": "HTMLModel",
            "_view_count": null,
            "_view_module": "@jupyter-widgets/controls",
            "_view_module_version": "1.5.0",
            "_view_name": "HTMLView",
            "description": "",
            "description_tooltip": null,
            "layout": "IPY_MODEL_7a8ef887dde14e639b777f44aa1f549c",
            "placeholder": "​",
            "style": "IPY_MODEL_727fcd6bc6d54bac8526951023b3d274",
            "value": "Validation DataLoader 0: 100%"
          }
        },
        "ef6542aa145b440ea6f98d3e8fa3ed06": {
          "model_module": "@jupyter-widgets/controls",
          "model_name": "FloatProgressModel",
          "model_module_version": "1.5.0",
          "state": {
            "_dom_classes": [],
            "_model_module": "@jupyter-widgets/controls",
            "_model_module_version": "1.5.0",
            "_model_name": "FloatProgressModel",
            "_view_count": null,
            "_view_module": "@jupyter-widgets/controls",
            "_view_module_version": "1.5.0",
            "_view_name": "ProgressView",
            "bar_style": "",
            "description": "",
            "description_tooltip": null,
            "layout": "IPY_MODEL_cda9dbe9643b4e4486f37c84b427fdf4",
            "max": 162,
            "min": 0,
            "orientation": "horizontal",
            "style": "IPY_MODEL_245008691ef14630851123419b6a23f6",
            "value": 162
          }
        },
        "8c23b2577bf7479cbefdc02245c2bc16": {
          "model_module": "@jupyter-widgets/controls",
          "model_name": "HTMLModel",
          "model_module_version": "1.5.0",
          "state": {
            "_dom_classes": [],
            "_model_module": "@jupyter-widgets/controls",
            "_model_module_version": "1.5.0",
            "_model_name": "HTMLModel",
            "_view_count": null,
            "_view_module": "@jupyter-widgets/controls",
            "_view_module_version": "1.5.0",
            "_view_name": "HTMLView",
            "description": "",
            "description_tooltip": null,
            "layout": "IPY_MODEL_193d71ed082f46bd85ef0c8fa22db028",
            "placeholder": "​",
            "style": "IPY_MODEL_39b0a9926f2e47828b54119caa0bb075",
            "value": " 162/162 [00:52&lt;00:00,  3.11it/s]"
          }
        },
        "392560c987464e2aa5a7a9b89d57b1fd": {
          "model_module": "@jupyter-widgets/base",
          "model_name": "LayoutModel",
          "model_module_version": "1.2.0",
          "state": {
            "_model_module": "@jupyter-widgets/base",
            "_model_module_version": "1.2.0",
            "_model_name": "LayoutModel",
            "_view_count": null,
            "_view_module": "@jupyter-widgets/base",
            "_view_module_version": "1.2.0",
            "_view_name": "LayoutView",
            "align_content": null,
            "align_items": null,
            "align_self": null,
            "border": null,
            "bottom": null,
            "display": "inline-flex",
            "flex": null,
            "flex_flow": "row wrap",
            "grid_area": null,
            "grid_auto_columns": null,
            "grid_auto_flow": null,
            "grid_auto_rows": null,
            "grid_column": null,
            "grid_gap": null,
            "grid_row": null,
            "grid_template_areas": null,
            "grid_template_columns": null,
            "grid_template_rows": null,
            "height": null,
            "justify_content": null,
            "justify_items": null,
            "left": null,
            "margin": null,
            "max_height": null,
            "max_width": null,
            "min_height": null,
            "min_width": null,
            "object_fit": null,
            "object_position": null,
            "order": null,
            "overflow": null,
            "overflow_x": null,
            "overflow_y": null,
            "padding": null,
            "right": null,
            "top": null,
            "visibility": "hidden",
            "width": "100%"
          }
        },
        "7a8ef887dde14e639b777f44aa1f549c": {
          "model_module": "@jupyter-widgets/base",
          "model_name": "LayoutModel",
          "model_module_version": "1.2.0",
          "state": {
            "_model_module": "@jupyter-widgets/base",
            "_model_module_version": "1.2.0",
            "_model_name": "LayoutModel",
            "_view_count": null,
            "_view_module": "@jupyter-widgets/base",
            "_view_module_version": "1.2.0",
            "_view_name": "LayoutView",
            "align_content": null,
            "align_items": null,
            "align_self": null,
            "border": null,
            "bottom": null,
            "display": null,
            "flex": null,
            "flex_flow": null,
            "grid_area": null,
            "grid_auto_columns": null,
            "grid_auto_flow": null,
            "grid_auto_rows": null,
            "grid_column": null,
            "grid_gap": null,
            "grid_row": null,
            "grid_template_areas": null,
            "grid_template_columns": null,
            "grid_template_rows": null,
            "height": null,
            "justify_content": null,
            "justify_items": null,
            "left": null,
            "margin": null,
            "max_height": null,
            "max_width": null,
            "min_height": null,
            "min_width": null,
            "object_fit": null,
            "object_position": null,
            "order": null,
            "overflow": null,
            "overflow_x": null,
            "overflow_y": null,
            "padding": null,
            "right": null,
            "top": null,
            "visibility": null,
            "width": null
          }
        },
        "727fcd6bc6d54bac8526951023b3d274": {
          "model_module": "@jupyter-widgets/controls",
          "model_name": "DescriptionStyleModel",
          "model_module_version": "1.5.0",
          "state": {
            "_model_module": "@jupyter-widgets/controls",
            "_model_module_version": "1.5.0",
            "_model_name": "DescriptionStyleModel",
            "_view_count": null,
            "_view_module": "@jupyter-widgets/base",
            "_view_module_version": "1.2.0",
            "_view_name": "StyleView",
            "description_width": ""
          }
        },
        "cda9dbe9643b4e4486f37c84b427fdf4": {
          "model_module": "@jupyter-widgets/base",
          "model_name": "LayoutModel",
          "model_module_version": "1.2.0",
          "state": {
            "_model_module": "@jupyter-widgets/base",
            "_model_module_version": "1.2.0",
            "_model_name": "LayoutModel",
            "_view_count": null,
            "_view_module": "@jupyter-widgets/base",
            "_view_module_version": "1.2.0",
            "_view_name": "LayoutView",
            "align_content": null,
            "align_items": null,
            "align_self": null,
            "border": null,
            "bottom": null,
            "display": null,
            "flex": "2",
            "flex_flow": null,
            "grid_area": null,
            "grid_auto_columns": null,
            "grid_auto_flow": null,
            "grid_auto_rows": null,
            "grid_column": null,
            "grid_gap": null,
            "grid_row": null,
            "grid_template_areas": null,
            "grid_template_columns": null,
            "grid_template_rows": null,
            "height": null,
            "justify_content": null,
            "justify_items": null,
            "left": null,
            "margin": null,
            "max_height": null,
            "max_width": null,
            "min_height": null,
            "min_width": null,
            "object_fit": null,
            "object_position": null,
            "order": null,
            "overflow": null,
            "overflow_x": null,
            "overflow_y": null,
            "padding": null,
            "right": null,
            "top": null,
            "visibility": null,
            "width": null
          }
        },
        "245008691ef14630851123419b6a23f6": {
          "model_module": "@jupyter-widgets/controls",
          "model_name": "ProgressStyleModel",
          "model_module_version": "1.5.0",
          "state": {
            "_model_module": "@jupyter-widgets/controls",
            "_model_module_version": "1.5.0",
            "_model_name": "ProgressStyleModel",
            "_view_count": null,
            "_view_module": "@jupyter-widgets/base",
            "_view_module_version": "1.2.0",
            "_view_name": "StyleView",
            "bar_color": null,
            "description_width": ""
          }
        },
        "193d71ed082f46bd85ef0c8fa22db028": {
          "model_module": "@jupyter-widgets/base",
          "model_name": "LayoutModel",
          "model_module_version": "1.2.0",
          "state": {
            "_model_module": "@jupyter-widgets/base",
            "_model_module_version": "1.2.0",
            "_model_name": "LayoutModel",
            "_view_count": null,
            "_view_module": "@jupyter-widgets/base",
            "_view_module_version": "1.2.0",
            "_view_name": "LayoutView",
            "align_content": null,
            "align_items": null,
            "align_self": null,
            "border": null,
            "bottom": null,
            "display": null,
            "flex": null,
            "flex_flow": null,
            "grid_area": null,
            "grid_auto_columns": null,
            "grid_auto_flow": null,
            "grid_auto_rows": null,
            "grid_column": null,
            "grid_gap": null,
            "grid_row": null,
            "grid_template_areas": null,
            "grid_template_columns": null,
            "grid_template_rows": null,
            "height": null,
            "justify_content": null,
            "justify_items": null,
            "left": null,
            "margin": null,
            "max_height": null,
            "max_width": null,
            "min_height": null,
            "min_width": null,
            "object_fit": null,
            "object_position": null,
            "order": null,
            "overflow": null,
            "overflow_x": null,
            "overflow_y": null,
            "padding": null,
            "right": null,
            "top": null,
            "visibility": null,
            "width": null
          }
        },
        "39b0a9926f2e47828b54119caa0bb075": {
          "model_module": "@jupyter-widgets/controls",
          "model_name": "DescriptionStyleModel",
          "model_module_version": "1.5.0",
          "state": {
            "_model_module": "@jupyter-widgets/controls",
            "_model_module_version": "1.5.0",
            "_model_name": "DescriptionStyleModel",
            "_view_count": null,
            "_view_module": "@jupyter-widgets/base",
            "_view_module_version": "1.2.0",
            "_view_name": "StyleView",
            "description_width": ""
          }
        },
        "cc7a4f6f55ae4a208a0ab9e5bd3a95e0": {
          "model_module": "@jupyter-widgets/controls",
          "model_name": "HBoxModel",
          "model_module_version": "1.5.0",
          "state": {
            "_dom_classes": [],
            "_model_module": "@jupyter-widgets/controls",
            "_model_module_version": "1.5.0",
            "_model_name": "HBoxModel",
            "_view_count": null,
            "_view_module": "@jupyter-widgets/controls",
            "_view_module_version": "1.5.0",
            "_view_name": "HBoxView",
            "box_style": "",
            "children": [
              "IPY_MODEL_dbf4c3992cfb4d518541e45ba581ed14",
              "IPY_MODEL_0a3732ce39e24a15a0af12e5b0e7d576",
              "IPY_MODEL_af102ed95f5b4303845097d57a68800d"
            ],
            "layout": "IPY_MODEL_2385f4dd13d645fb89ffa80b6c9309a5"
          }
        },
        "dbf4c3992cfb4d518541e45ba581ed14": {
          "model_module": "@jupyter-widgets/controls",
          "model_name": "HTMLModel",
          "model_module_version": "1.5.0",
          "state": {
            "_dom_classes": [],
            "_model_module": "@jupyter-widgets/controls",
            "_model_module_version": "1.5.0",
            "_model_name": "HTMLModel",
            "_view_count": null,
            "_view_module": "@jupyter-widgets/controls",
            "_view_module_version": "1.5.0",
            "_view_name": "HTMLView",
            "description": "",
            "description_tooltip": null,
            "layout": "IPY_MODEL_74d27a2173b74241ba2bd13364567b7f",
            "placeholder": "​",
            "style": "IPY_MODEL_fe2dde10063547308bab46c9241f53aa",
            "value": "Sanity Checking DataLoader 0: 100%"
          }
        },
        "0a3732ce39e24a15a0af12e5b0e7d576": {
          "model_module": "@jupyter-widgets/controls",
          "model_name": "FloatProgressModel",
          "model_module_version": "1.5.0",
          "state": {
            "_dom_classes": [],
            "_model_module": "@jupyter-widgets/controls",
            "_model_module_version": "1.5.0",
            "_model_name": "FloatProgressModel",
            "_view_count": null,
            "_view_module": "@jupyter-widgets/controls",
            "_view_module_version": "1.5.0",
            "_view_name": "ProgressView",
            "bar_style": "",
            "description": "",
            "description_tooltip": null,
            "layout": "IPY_MODEL_33b3365691bb40e0a6f00b7ec47e1f76",
            "max": 1,
            "min": 0,
            "orientation": "horizontal",
            "style": "IPY_MODEL_b954ee0dfc7540a6a4377e7679ffebbb",
            "value": 1
          }
        },
        "af102ed95f5b4303845097d57a68800d": {
          "model_module": "@jupyter-widgets/controls",
          "model_name": "HTMLModel",
          "model_module_version": "1.5.0",
          "state": {
            "_dom_classes": [],
            "_model_module": "@jupyter-widgets/controls",
            "_model_module_version": "1.5.0",
            "_model_name": "HTMLModel",
            "_view_count": null,
            "_view_module": "@jupyter-widgets/controls",
            "_view_module_version": "1.5.0",
            "_view_name": "HTMLView",
            "description": "",
            "description_tooltip": null,
            "layout": "IPY_MODEL_a0524532dcb34932b56319e001617d30",
            "placeholder": "​",
            "style": "IPY_MODEL_812d2d28f7fd4a53a95e8e8cac08b005",
            "value": " 1/1 [00:03&lt;00:00,  0.32it/s]"
          }
        },
        "2385f4dd13d645fb89ffa80b6c9309a5": {
          "model_module": "@jupyter-widgets/base",
          "model_name": "LayoutModel",
          "model_module_version": "1.2.0",
          "state": {
            "_model_module": "@jupyter-widgets/base",
            "_model_module_version": "1.2.0",
            "_model_name": "LayoutModel",
            "_view_count": null,
            "_view_module": "@jupyter-widgets/base",
            "_view_module_version": "1.2.0",
            "_view_name": "LayoutView",
            "align_content": null,
            "align_items": null,
            "align_self": null,
            "border": null,
            "bottom": null,
            "display": "inline-flex",
            "flex": null,
            "flex_flow": "row wrap",
            "grid_area": null,
            "grid_auto_columns": null,
            "grid_auto_flow": null,
            "grid_auto_rows": null,
            "grid_column": null,
            "grid_gap": null,
            "grid_row": null,
            "grid_template_areas": null,
            "grid_template_columns": null,
            "grid_template_rows": null,
            "height": null,
            "justify_content": null,
            "justify_items": null,
            "left": null,
            "margin": null,
            "max_height": null,
            "max_width": null,
            "min_height": null,
            "min_width": null,
            "object_fit": null,
            "object_position": null,
            "order": null,
            "overflow": null,
            "overflow_x": null,
            "overflow_y": null,
            "padding": null,
            "right": null,
            "top": null,
            "visibility": "hidden",
            "width": "100%"
          }
        },
        "74d27a2173b74241ba2bd13364567b7f": {
          "model_module": "@jupyter-widgets/base",
          "model_name": "LayoutModel",
          "model_module_version": "1.2.0",
          "state": {
            "_model_module": "@jupyter-widgets/base",
            "_model_module_version": "1.2.0",
            "_model_name": "LayoutModel",
            "_view_count": null,
            "_view_module": "@jupyter-widgets/base",
            "_view_module_version": "1.2.0",
            "_view_name": "LayoutView",
            "align_content": null,
            "align_items": null,
            "align_self": null,
            "border": null,
            "bottom": null,
            "display": null,
            "flex": null,
            "flex_flow": null,
            "grid_area": null,
            "grid_auto_columns": null,
            "grid_auto_flow": null,
            "grid_auto_rows": null,
            "grid_column": null,
            "grid_gap": null,
            "grid_row": null,
            "grid_template_areas": null,
            "grid_template_columns": null,
            "grid_template_rows": null,
            "height": null,
            "justify_content": null,
            "justify_items": null,
            "left": null,
            "margin": null,
            "max_height": null,
            "max_width": null,
            "min_height": null,
            "min_width": null,
            "object_fit": null,
            "object_position": null,
            "order": null,
            "overflow": null,
            "overflow_x": null,
            "overflow_y": null,
            "padding": null,
            "right": null,
            "top": null,
            "visibility": null,
            "width": null
          }
        },
        "fe2dde10063547308bab46c9241f53aa": {
          "model_module": "@jupyter-widgets/controls",
          "model_name": "DescriptionStyleModel",
          "model_module_version": "1.5.0",
          "state": {
            "_model_module": "@jupyter-widgets/controls",
            "_model_module_version": "1.5.0",
            "_model_name": "DescriptionStyleModel",
            "_view_count": null,
            "_view_module": "@jupyter-widgets/base",
            "_view_module_version": "1.2.0",
            "_view_name": "StyleView",
            "description_width": ""
          }
        },
        "33b3365691bb40e0a6f00b7ec47e1f76": {
          "model_module": "@jupyter-widgets/base",
          "model_name": "LayoutModel",
          "model_module_version": "1.2.0",
          "state": {
            "_model_module": "@jupyter-widgets/base",
            "_model_module_version": "1.2.0",
            "_model_name": "LayoutModel",
            "_view_count": null,
            "_view_module": "@jupyter-widgets/base",
            "_view_module_version": "1.2.0",
            "_view_name": "LayoutView",
            "align_content": null,
            "align_items": null,
            "align_self": null,
            "border": null,
            "bottom": null,
            "display": null,
            "flex": "2",
            "flex_flow": null,
            "grid_area": null,
            "grid_auto_columns": null,
            "grid_auto_flow": null,
            "grid_auto_rows": null,
            "grid_column": null,
            "grid_gap": null,
            "grid_row": null,
            "grid_template_areas": null,
            "grid_template_columns": null,
            "grid_template_rows": null,
            "height": null,
            "justify_content": null,
            "justify_items": null,
            "left": null,
            "margin": null,
            "max_height": null,
            "max_width": null,
            "min_height": null,
            "min_width": null,
            "object_fit": null,
            "object_position": null,
            "order": null,
            "overflow": null,
            "overflow_x": null,
            "overflow_y": null,
            "padding": null,
            "right": null,
            "top": null,
            "visibility": null,
            "width": null
          }
        },
        "b954ee0dfc7540a6a4377e7679ffebbb": {
          "model_module": "@jupyter-widgets/controls",
          "model_name": "ProgressStyleModel",
          "model_module_version": "1.5.0",
          "state": {
            "_model_module": "@jupyter-widgets/controls",
            "_model_module_version": "1.5.0",
            "_model_name": "ProgressStyleModel",
            "_view_count": null,
            "_view_module": "@jupyter-widgets/base",
            "_view_module_version": "1.2.0",
            "_view_name": "StyleView",
            "bar_color": null,
            "description_width": ""
          }
        },
        "a0524532dcb34932b56319e001617d30": {
          "model_module": "@jupyter-widgets/base",
          "model_name": "LayoutModel",
          "model_module_version": "1.2.0",
          "state": {
            "_model_module": "@jupyter-widgets/base",
            "_model_module_version": "1.2.0",
            "_model_name": "LayoutModel",
            "_view_count": null,
            "_view_module": "@jupyter-widgets/base",
            "_view_module_version": "1.2.0",
            "_view_name": "LayoutView",
            "align_content": null,
            "align_items": null,
            "align_self": null,
            "border": null,
            "bottom": null,
            "display": null,
            "flex": null,
            "flex_flow": null,
            "grid_area": null,
            "grid_auto_columns": null,
            "grid_auto_flow": null,
            "grid_auto_rows": null,
            "grid_column": null,
            "grid_gap": null,
            "grid_row": null,
            "grid_template_areas": null,
            "grid_template_columns": null,
            "grid_template_rows": null,
            "height": null,
            "justify_content": null,
            "justify_items": null,
            "left": null,
            "margin": null,
            "max_height": null,
            "max_width": null,
            "min_height": null,
            "min_width": null,
            "object_fit": null,
            "object_position": null,
            "order": null,
            "overflow": null,
            "overflow_x": null,
            "overflow_y": null,
            "padding": null,
            "right": null,
            "top": null,
            "visibility": null,
            "width": null
          }
        },
        "812d2d28f7fd4a53a95e8e8cac08b005": {
          "model_module": "@jupyter-widgets/controls",
          "model_name": "DescriptionStyleModel",
          "model_module_version": "1.5.0",
          "state": {
            "_model_module": "@jupyter-widgets/controls",
            "_model_module_version": "1.5.0",
            "_model_name": "DescriptionStyleModel",
            "_view_count": null,
            "_view_module": "@jupyter-widgets/base",
            "_view_module_version": "1.2.0",
            "_view_name": "StyleView",
            "description_width": ""
          }
        },
        "c5f609e08e3744698f9accea2c4f90f0": {
          "model_module": "@jupyter-widgets/controls",
          "model_name": "HBoxModel",
          "model_module_version": "1.5.0",
          "state": {
            "_dom_classes": [],
            "_model_module": "@jupyter-widgets/controls",
            "_model_module_version": "1.5.0",
            "_model_name": "HBoxModel",
            "_view_count": null,
            "_view_module": "@jupyter-widgets/controls",
            "_view_module_version": "1.5.0",
            "_view_name": "HBoxView",
            "box_style": "",
            "children": [
              "IPY_MODEL_1eb99d7e034a4cc983f6975ab07b8feb",
              "IPY_MODEL_261fe3b1d8504b02bb643c8dcde066e6",
              "IPY_MODEL_bc3e8166a09344b49d473b9c8c7a849e"
            ],
            "layout": "IPY_MODEL_d4d104c1920f458cbd83c46c07730f00"
          }
        },
        "1eb99d7e034a4cc983f6975ab07b8feb": {
          "model_module": "@jupyter-widgets/controls",
          "model_name": "HTMLModel",
          "model_module_version": "1.5.0",
          "state": {
            "_dom_classes": [],
            "_model_module": "@jupyter-widgets/controls",
            "_model_module_version": "1.5.0",
            "_model_name": "HTMLModel",
            "_view_count": null,
            "_view_module": "@jupyter-widgets/controls",
            "_view_module_version": "1.5.0",
            "_view_name": "HTMLView",
            "description": "",
            "description_tooltip": null,
            "layout": "IPY_MODEL_4f914bc280e44f83b2196816fbe7136c",
            "placeholder": "​",
            "style": "IPY_MODEL_5aeefcbea68e4024a04925f7c092d901",
            "value": "Epoch 1: 100%"
          }
        },
        "261fe3b1d8504b02bb643c8dcde066e6": {
          "model_module": "@jupyter-widgets/controls",
          "model_name": "FloatProgressModel",
          "model_module_version": "1.5.0",
          "state": {
            "_dom_classes": [],
            "_model_module": "@jupyter-widgets/controls",
            "_model_module_version": "1.5.0",
            "_model_name": "FloatProgressModel",
            "_view_count": null,
            "_view_module": "@jupyter-widgets/controls",
            "_view_module_version": "1.5.0",
            "_view_name": "ProgressView",
            "bar_style": "success",
            "description": "",
            "description_tooltip": null,
            "layout": "IPY_MODEL_fd348fb74f1a4230bfb4210b203eb8fd",
            "max": 896,
            "min": 0,
            "orientation": "horizontal",
            "style": "IPY_MODEL_542b3f15109e4a6d86ba89a7f7b5ac46",
            "value": 896
          }
        },
        "bc3e8166a09344b49d473b9c8c7a849e": {
          "model_module": "@jupyter-widgets/controls",
          "model_name": "HTMLModel",
          "model_module_version": "1.5.0",
          "state": {
            "_dom_classes": [],
            "_model_module": "@jupyter-widgets/controls",
            "_model_module_version": "1.5.0",
            "_model_name": "HTMLModel",
            "_view_count": null,
            "_view_module": "@jupyter-widgets/controls",
            "_view_module_version": "1.5.0",
            "_view_name": "HTMLView",
            "description": "",
            "description_tooltip": null,
            "layout": "IPY_MODEL_68c99f8ee787465da559407d07004c58",
            "placeholder": "​",
            "style": "IPY_MODEL_29cba093d9e2406b9e96042326ae5c98",
            "value": " 896/896 [18:17&lt;00:00,  0.82it/s, v_num=0, val_loss=0.0147, val_rmse=0.121, val_mae=0.0874, val_r2=-0.014]"
          }
        },
        "d4d104c1920f458cbd83c46c07730f00": {
          "model_module": "@jupyter-widgets/base",
          "model_name": "LayoutModel",
          "model_module_version": "1.2.0",
          "state": {
            "_model_module": "@jupyter-widgets/base",
            "_model_module_version": "1.2.0",
            "_model_name": "LayoutModel",
            "_view_count": null,
            "_view_module": "@jupyter-widgets/base",
            "_view_module_version": "1.2.0",
            "_view_name": "LayoutView",
            "align_content": null,
            "align_items": null,
            "align_self": null,
            "border": null,
            "bottom": null,
            "display": "inline-flex",
            "flex": null,
            "flex_flow": "row wrap",
            "grid_area": null,
            "grid_auto_columns": null,
            "grid_auto_flow": null,
            "grid_auto_rows": null,
            "grid_column": null,
            "grid_gap": null,
            "grid_row": null,
            "grid_template_areas": null,
            "grid_template_columns": null,
            "grid_template_rows": null,
            "height": null,
            "justify_content": null,
            "justify_items": null,
            "left": null,
            "margin": null,
            "max_height": null,
            "max_width": null,
            "min_height": null,
            "min_width": null,
            "object_fit": null,
            "object_position": null,
            "order": null,
            "overflow": null,
            "overflow_x": null,
            "overflow_y": null,
            "padding": null,
            "right": null,
            "top": null,
            "visibility": null,
            "width": "100%"
          }
        },
        "4f914bc280e44f83b2196816fbe7136c": {
          "model_module": "@jupyter-widgets/base",
          "model_name": "LayoutModel",
          "model_module_version": "1.2.0",
          "state": {
            "_model_module": "@jupyter-widgets/base",
            "_model_module_version": "1.2.0",
            "_model_name": "LayoutModel",
            "_view_count": null,
            "_view_module": "@jupyter-widgets/base",
            "_view_module_version": "1.2.0",
            "_view_name": "LayoutView",
            "align_content": null,
            "align_items": null,
            "align_self": null,
            "border": null,
            "bottom": null,
            "display": null,
            "flex": null,
            "flex_flow": null,
            "grid_area": null,
            "grid_auto_columns": null,
            "grid_auto_flow": null,
            "grid_auto_rows": null,
            "grid_column": null,
            "grid_gap": null,
            "grid_row": null,
            "grid_template_areas": null,
            "grid_template_columns": null,
            "grid_template_rows": null,
            "height": null,
            "justify_content": null,
            "justify_items": null,
            "left": null,
            "margin": null,
            "max_height": null,
            "max_width": null,
            "min_height": null,
            "min_width": null,
            "object_fit": null,
            "object_position": null,
            "order": null,
            "overflow": null,
            "overflow_x": null,
            "overflow_y": null,
            "padding": null,
            "right": null,
            "top": null,
            "visibility": null,
            "width": null
          }
        },
        "5aeefcbea68e4024a04925f7c092d901": {
          "model_module": "@jupyter-widgets/controls",
          "model_name": "DescriptionStyleModel",
          "model_module_version": "1.5.0",
          "state": {
            "_model_module": "@jupyter-widgets/controls",
            "_model_module_version": "1.5.0",
            "_model_name": "DescriptionStyleModel",
            "_view_count": null,
            "_view_module": "@jupyter-widgets/base",
            "_view_module_version": "1.2.0",
            "_view_name": "StyleView",
            "description_width": ""
          }
        },
        "fd348fb74f1a4230bfb4210b203eb8fd": {
          "model_module": "@jupyter-widgets/base",
          "model_name": "LayoutModel",
          "model_module_version": "1.2.0",
          "state": {
            "_model_module": "@jupyter-widgets/base",
            "_model_module_version": "1.2.0",
            "_model_name": "LayoutModel",
            "_view_count": null,
            "_view_module": "@jupyter-widgets/base",
            "_view_module_version": "1.2.0",
            "_view_name": "LayoutView",
            "align_content": null,
            "align_items": null,
            "align_self": null,
            "border": null,
            "bottom": null,
            "display": null,
            "flex": "2",
            "flex_flow": null,
            "grid_area": null,
            "grid_auto_columns": null,
            "grid_auto_flow": null,
            "grid_auto_rows": null,
            "grid_column": null,
            "grid_gap": null,
            "grid_row": null,
            "grid_template_areas": null,
            "grid_template_columns": null,
            "grid_template_rows": null,
            "height": null,
            "justify_content": null,
            "justify_items": null,
            "left": null,
            "margin": null,
            "max_height": null,
            "max_width": null,
            "min_height": null,
            "min_width": null,
            "object_fit": null,
            "object_position": null,
            "order": null,
            "overflow": null,
            "overflow_x": null,
            "overflow_y": null,
            "padding": null,
            "right": null,
            "top": null,
            "visibility": null,
            "width": null
          }
        },
        "542b3f15109e4a6d86ba89a7f7b5ac46": {
          "model_module": "@jupyter-widgets/controls",
          "model_name": "ProgressStyleModel",
          "model_module_version": "1.5.0",
          "state": {
            "_model_module": "@jupyter-widgets/controls",
            "_model_module_version": "1.5.0",
            "_model_name": "ProgressStyleModel",
            "_view_count": null,
            "_view_module": "@jupyter-widgets/base",
            "_view_module_version": "1.2.0",
            "_view_name": "StyleView",
            "bar_color": null,
            "description_width": ""
          }
        },
        "68c99f8ee787465da559407d07004c58": {
          "model_module": "@jupyter-widgets/base",
          "model_name": "LayoutModel",
          "model_module_version": "1.2.0",
          "state": {
            "_model_module": "@jupyter-widgets/base",
            "_model_module_version": "1.2.0",
            "_model_name": "LayoutModel",
            "_view_count": null,
            "_view_module": "@jupyter-widgets/base",
            "_view_module_version": "1.2.0",
            "_view_name": "LayoutView",
            "align_content": null,
            "align_items": null,
            "align_self": null,
            "border": null,
            "bottom": null,
            "display": null,
            "flex": null,
            "flex_flow": null,
            "grid_area": null,
            "grid_auto_columns": null,
            "grid_auto_flow": null,
            "grid_auto_rows": null,
            "grid_column": null,
            "grid_gap": null,
            "grid_row": null,
            "grid_template_areas": null,
            "grid_template_columns": null,
            "grid_template_rows": null,
            "height": null,
            "justify_content": null,
            "justify_items": null,
            "left": null,
            "margin": null,
            "max_height": null,
            "max_width": null,
            "min_height": null,
            "min_width": null,
            "object_fit": null,
            "object_position": null,
            "order": null,
            "overflow": null,
            "overflow_x": null,
            "overflow_y": null,
            "padding": null,
            "right": null,
            "top": null,
            "visibility": null,
            "width": null
          }
        },
        "29cba093d9e2406b9e96042326ae5c98": {
          "model_module": "@jupyter-widgets/controls",
          "model_name": "DescriptionStyleModel",
          "model_module_version": "1.5.0",
          "state": {
            "_model_module": "@jupyter-widgets/controls",
            "_model_module_version": "1.5.0",
            "_model_name": "DescriptionStyleModel",
            "_view_count": null,
            "_view_module": "@jupyter-widgets/base",
            "_view_module_version": "1.2.0",
            "_view_name": "StyleView",
            "description_width": ""
          }
        },
        "26a13e27aa7a4261bad0330acddee050": {
          "model_module": "@jupyter-widgets/controls",
          "model_name": "HBoxModel",
          "model_module_version": "1.5.0",
          "state": {
            "_dom_classes": [],
            "_model_module": "@jupyter-widgets/controls",
            "_model_module_version": "1.5.0",
            "_model_name": "HBoxModel",
            "_view_count": null,
            "_view_module": "@jupyter-widgets/controls",
            "_view_module_version": "1.5.0",
            "_view_name": "HBoxView",
            "box_style": "",
            "children": [
              "IPY_MODEL_bb4bdb4878004aafb28c77456de86ead",
              "IPY_MODEL_2b615bdea5254061a16d710c3aa8ab86",
              "IPY_MODEL_16a37ef039054ae7a7cd02fc8ce3ecd3"
            ],
            "layout": "IPY_MODEL_593e2e0539c34739adf15dec7c22a636"
          }
        },
        "bb4bdb4878004aafb28c77456de86ead": {
          "model_module": "@jupyter-widgets/controls",
          "model_name": "HTMLModel",
          "model_module_version": "1.5.0",
          "state": {
            "_dom_classes": [],
            "_model_module": "@jupyter-widgets/controls",
            "_model_module_version": "1.5.0",
            "_model_name": "HTMLModel",
            "_view_count": null,
            "_view_module": "@jupyter-widgets/controls",
            "_view_module_version": "1.5.0",
            "_view_name": "HTMLView",
            "description": "",
            "description_tooltip": null,
            "layout": "IPY_MODEL_c0528d4b021449e398e5ef5ed9dc9be3",
            "placeholder": "​",
            "style": "IPY_MODEL_00b62e9a426349adaf1439b911bfca82",
            "value": "Validation DataLoader 0: 100%"
          }
        },
        "2b615bdea5254061a16d710c3aa8ab86": {
          "model_module": "@jupyter-widgets/controls",
          "model_name": "FloatProgressModel",
          "model_module_version": "1.5.0",
          "state": {
            "_dom_classes": [],
            "_model_module": "@jupyter-widgets/controls",
            "_model_module_version": "1.5.0",
            "_model_name": "FloatProgressModel",
            "_view_count": null,
            "_view_module": "@jupyter-widgets/controls",
            "_view_module_version": "1.5.0",
            "_view_name": "ProgressView",
            "bar_style": "",
            "description": "",
            "description_tooltip": null,
            "layout": "IPY_MODEL_6d3711ad3e154cd980ea06b101bf5ec5",
            "max": 162,
            "min": 0,
            "orientation": "horizontal",
            "style": "IPY_MODEL_d43a1c27a7f04c7d865a308429174085",
            "value": 162
          }
        },
        "16a37ef039054ae7a7cd02fc8ce3ecd3": {
          "model_module": "@jupyter-widgets/controls",
          "model_name": "HTMLModel",
          "model_module_version": "1.5.0",
          "state": {
            "_dom_classes": [],
            "_model_module": "@jupyter-widgets/controls",
            "_model_module_version": "1.5.0",
            "_model_name": "HTMLModel",
            "_view_count": null,
            "_view_module": "@jupyter-widgets/controls",
            "_view_module_version": "1.5.0",
            "_view_name": "HTMLView",
            "description": "",
            "description_tooltip": null,
            "layout": "IPY_MODEL_63aebd16ac344aa8bdc34476f854b9ff",
            "placeholder": "​",
            "style": "IPY_MODEL_55416a3192014f6cb9ee4747d90e7be7",
            "value": " 162/162 [01:09&lt;00:00,  2.33it/s]"
          }
        },
        "593e2e0539c34739adf15dec7c22a636": {
          "model_module": "@jupyter-widgets/base",
          "model_name": "LayoutModel",
          "model_module_version": "1.2.0",
          "state": {
            "_model_module": "@jupyter-widgets/base",
            "_model_module_version": "1.2.0",
            "_model_name": "LayoutModel",
            "_view_count": null,
            "_view_module": "@jupyter-widgets/base",
            "_view_module_version": "1.2.0",
            "_view_name": "LayoutView",
            "align_content": null,
            "align_items": null,
            "align_self": null,
            "border": null,
            "bottom": null,
            "display": "inline-flex",
            "flex": null,
            "flex_flow": "row wrap",
            "grid_area": null,
            "grid_auto_columns": null,
            "grid_auto_flow": null,
            "grid_auto_rows": null,
            "grid_column": null,
            "grid_gap": null,
            "grid_row": null,
            "grid_template_areas": null,
            "grid_template_columns": null,
            "grid_template_rows": null,
            "height": null,
            "justify_content": null,
            "justify_items": null,
            "left": null,
            "margin": null,
            "max_height": null,
            "max_width": null,
            "min_height": null,
            "min_width": null,
            "object_fit": null,
            "object_position": null,
            "order": null,
            "overflow": null,
            "overflow_x": null,
            "overflow_y": null,
            "padding": null,
            "right": null,
            "top": null,
            "visibility": "hidden",
            "width": "100%"
          }
        },
        "c0528d4b021449e398e5ef5ed9dc9be3": {
          "model_module": "@jupyter-widgets/base",
          "model_name": "LayoutModel",
          "model_module_version": "1.2.0",
          "state": {
            "_model_module": "@jupyter-widgets/base",
            "_model_module_version": "1.2.0",
            "_model_name": "LayoutModel",
            "_view_count": null,
            "_view_module": "@jupyter-widgets/base",
            "_view_module_version": "1.2.0",
            "_view_name": "LayoutView",
            "align_content": null,
            "align_items": null,
            "align_self": null,
            "border": null,
            "bottom": null,
            "display": null,
            "flex": null,
            "flex_flow": null,
            "grid_area": null,
            "grid_auto_columns": null,
            "grid_auto_flow": null,
            "grid_auto_rows": null,
            "grid_column": null,
            "grid_gap": null,
            "grid_row": null,
            "grid_template_areas": null,
            "grid_template_columns": null,
            "grid_template_rows": null,
            "height": null,
            "justify_content": null,
            "justify_items": null,
            "left": null,
            "margin": null,
            "max_height": null,
            "max_width": null,
            "min_height": null,
            "min_width": null,
            "object_fit": null,
            "object_position": null,
            "order": null,
            "overflow": null,
            "overflow_x": null,
            "overflow_y": null,
            "padding": null,
            "right": null,
            "top": null,
            "visibility": null,
            "width": null
          }
        },
        "00b62e9a426349adaf1439b911bfca82": {
          "model_module": "@jupyter-widgets/controls",
          "model_name": "DescriptionStyleModel",
          "model_module_version": "1.5.0",
          "state": {
            "_model_module": "@jupyter-widgets/controls",
            "_model_module_version": "1.5.0",
            "_model_name": "DescriptionStyleModel",
            "_view_count": null,
            "_view_module": "@jupyter-widgets/base",
            "_view_module_version": "1.2.0",
            "_view_name": "StyleView",
            "description_width": ""
          }
        },
        "6d3711ad3e154cd980ea06b101bf5ec5": {
          "model_module": "@jupyter-widgets/base",
          "model_name": "LayoutModel",
          "model_module_version": "1.2.0",
          "state": {
            "_model_module": "@jupyter-widgets/base",
            "_model_module_version": "1.2.0",
            "_model_name": "LayoutModel",
            "_view_count": null,
            "_view_module": "@jupyter-widgets/base",
            "_view_module_version": "1.2.0",
            "_view_name": "LayoutView",
            "align_content": null,
            "align_items": null,
            "align_self": null,
            "border": null,
            "bottom": null,
            "display": null,
            "flex": "2",
            "flex_flow": null,
            "grid_area": null,
            "grid_auto_columns": null,
            "grid_auto_flow": null,
            "grid_auto_rows": null,
            "grid_column": null,
            "grid_gap": null,
            "grid_row": null,
            "grid_template_areas": null,
            "grid_template_columns": null,
            "grid_template_rows": null,
            "height": null,
            "justify_content": null,
            "justify_items": null,
            "left": null,
            "margin": null,
            "max_height": null,
            "max_width": null,
            "min_height": null,
            "min_width": null,
            "object_fit": null,
            "object_position": null,
            "order": null,
            "overflow": null,
            "overflow_x": null,
            "overflow_y": null,
            "padding": null,
            "right": null,
            "top": null,
            "visibility": null,
            "width": null
          }
        },
        "d43a1c27a7f04c7d865a308429174085": {
          "model_module": "@jupyter-widgets/controls",
          "model_name": "ProgressStyleModel",
          "model_module_version": "1.5.0",
          "state": {
            "_model_module": "@jupyter-widgets/controls",
            "_model_module_version": "1.5.0",
            "_model_name": "ProgressStyleModel",
            "_view_count": null,
            "_view_module": "@jupyter-widgets/base",
            "_view_module_version": "1.2.0",
            "_view_name": "StyleView",
            "bar_color": null,
            "description_width": ""
          }
        },
        "63aebd16ac344aa8bdc34476f854b9ff": {
          "model_module": "@jupyter-widgets/base",
          "model_name": "LayoutModel",
          "model_module_version": "1.2.0",
          "state": {
            "_model_module": "@jupyter-widgets/base",
            "_model_module_version": "1.2.0",
            "_model_name": "LayoutModel",
            "_view_count": null,
            "_view_module": "@jupyter-widgets/base",
            "_view_module_version": "1.2.0",
            "_view_name": "LayoutView",
            "align_content": null,
            "align_items": null,
            "align_self": null,
            "border": null,
            "bottom": null,
            "display": null,
            "flex": null,
            "flex_flow": null,
            "grid_area": null,
            "grid_auto_columns": null,
            "grid_auto_flow": null,
            "grid_auto_rows": null,
            "grid_column": null,
            "grid_gap": null,
            "grid_row": null,
            "grid_template_areas": null,
            "grid_template_columns": null,
            "grid_template_rows": null,
            "height": null,
            "justify_content": null,
            "justify_items": null,
            "left": null,
            "margin": null,
            "max_height": null,
            "max_width": null,
            "min_height": null,
            "min_width": null,
            "object_fit": null,
            "object_position": null,
            "order": null,
            "overflow": null,
            "overflow_x": null,
            "overflow_y": null,
            "padding": null,
            "right": null,
            "top": null,
            "visibility": null,
            "width": null
          }
        },
        "55416a3192014f6cb9ee4747d90e7be7": {
          "model_module": "@jupyter-widgets/controls",
          "model_name": "DescriptionStyleModel",
          "model_module_version": "1.5.0",
          "state": {
            "_model_module": "@jupyter-widgets/controls",
            "_model_module_version": "1.5.0",
            "_model_name": "DescriptionStyleModel",
            "_view_count": null,
            "_view_module": "@jupyter-widgets/base",
            "_view_module_version": "1.2.0",
            "_view_name": "StyleView",
            "description_width": ""
          }
        },
        "61af18fb14a1464f811c5189daedae65": {
          "model_module": "@jupyter-widgets/controls",
          "model_name": "HBoxModel",
          "model_module_version": "1.5.0",
          "state": {
            "_dom_classes": [],
            "_model_module": "@jupyter-widgets/controls",
            "_model_module_version": "1.5.0",
            "_model_name": "HBoxModel",
            "_view_count": null,
            "_view_module": "@jupyter-widgets/controls",
            "_view_module_version": "1.5.0",
            "_view_name": "HBoxView",
            "box_style": "",
            "children": [
              "IPY_MODEL_06931c2a5d184f6a9e690e73d8fdfc09",
              "IPY_MODEL_286978246d644808865498196e09e846",
              "IPY_MODEL_2d0832fdd8cb42d9be29e56fb300b23b"
            ],
            "layout": "IPY_MODEL_405e6c99afc848309d7ecc1a65c2805d"
          }
        },
        "06931c2a5d184f6a9e690e73d8fdfc09": {
          "model_module": "@jupyter-widgets/controls",
          "model_name": "HTMLModel",
          "model_module_version": "1.5.0",
          "state": {
            "_dom_classes": [],
            "_model_module": "@jupyter-widgets/controls",
            "_model_module_version": "1.5.0",
            "_model_name": "HTMLModel",
            "_view_count": null,
            "_view_module": "@jupyter-widgets/controls",
            "_view_module_version": "1.5.0",
            "_view_name": "HTMLView",
            "description": "",
            "description_tooltip": null,
            "layout": "IPY_MODEL_ccf413f4498745d29f85241cbb7ebdc8",
            "placeholder": "​",
            "style": "IPY_MODEL_84373c9d6ff2494c9742b1990c98536a",
            "value": "Validation DataLoader 0: 100%"
          }
        },
        "286978246d644808865498196e09e846": {
          "model_module": "@jupyter-widgets/controls",
          "model_name": "FloatProgressModel",
          "model_module_version": "1.5.0",
          "state": {
            "_dom_classes": [],
            "_model_module": "@jupyter-widgets/controls",
            "_model_module_version": "1.5.0",
            "_model_name": "FloatProgressModel",
            "_view_count": null,
            "_view_module": "@jupyter-widgets/controls",
            "_view_module_version": "1.5.0",
            "_view_name": "ProgressView",
            "bar_style": "",
            "description": "",
            "description_tooltip": null,
            "layout": "IPY_MODEL_34016b0d5c8e4c32b09032bd2065041b",
            "max": 162,
            "min": 0,
            "orientation": "horizontal",
            "style": "IPY_MODEL_9d3aa1dbb26245b9a6fa99e71c5a1480",
            "value": 162
          }
        },
        "2d0832fdd8cb42d9be29e56fb300b23b": {
          "model_module": "@jupyter-widgets/controls",
          "model_name": "HTMLModel",
          "model_module_version": "1.5.0",
          "state": {
            "_dom_classes": [],
            "_model_module": "@jupyter-widgets/controls",
            "_model_module_version": "1.5.0",
            "_model_name": "HTMLModel",
            "_view_count": null,
            "_view_module": "@jupyter-widgets/controls",
            "_view_module_version": "1.5.0",
            "_view_name": "HTMLView",
            "description": "",
            "description_tooltip": null,
            "layout": "IPY_MODEL_8174e863712f406ea328b5821683515d",
            "placeholder": "​",
            "style": "IPY_MODEL_4238099705164050a2fb7ec507ee47dd",
            "value": " 162/162 [01:09&lt;00:00,  2.34it/s]"
          }
        },
        "405e6c99afc848309d7ecc1a65c2805d": {
          "model_module": "@jupyter-widgets/base",
          "model_name": "LayoutModel",
          "model_module_version": "1.2.0",
          "state": {
            "_model_module": "@jupyter-widgets/base",
            "_model_module_version": "1.2.0",
            "_model_name": "LayoutModel",
            "_view_count": null,
            "_view_module": "@jupyter-widgets/base",
            "_view_module_version": "1.2.0",
            "_view_name": "LayoutView",
            "align_content": null,
            "align_items": null,
            "align_self": null,
            "border": null,
            "bottom": null,
            "display": "inline-flex",
            "flex": null,
            "flex_flow": "row wrap",
            "grid_area": null,
            "grid_auto_columns": null,
            "grid_auto_flow": null,
            "grid_auto_rows": null,
            "grid_column": null,
            "grid_gap": null,
            "grid_row": null,
            "grid_template_areas": null,
            "grid_template_columns": null,
            "grid_template_rows": null,
            "height": null,
            "justify_content": null,
            "justify_items": null,
            "left": null,
            "margin": null,
            "max_height": null,
            "max_width": null,
            "min_height": null,
            "min_width": null,
            "object_fit": null,
            "object_position": null,
            "order": null,
            "overflow": null,
            "overflow_x": null,
            "overflow_y": null,
            "padding": null,
            "right": null,
            "top": null,
            "visibility": "hidden",
            "width": "100%"
          }
        },
        "ccf413f4498745d29f85241cbb7ebdc8": {
          "model_module": "@jupyter-widgets/base",
          "model_name": "LayoutModel",
          "model_module_version": "1.2.0",
          "state": {
            "_model_module": "@jupyter-widgets/base",
            "_model_module_version": "1.2.0",
            "_model_name": "LayoutModel",
            "_view_count": null,
            "_view_module": "@jupyter-widgets/base",
            "_view_module_version": "1.2.0",
            "_view_name": "LayoutView",
            "align_content": null,
            "align_items": null,
            "align_self": null,
            "border": null,
            "bottom": null,
            "display": null,
            "flex": null,
            "flex_flow": null,
            "grid_area": null,
            "grid_auto_columns": null,
            "grid_auto_flow": null,
            "grid_auto_rows": null,
            "grid_column": null,
            "grid_gap": null,
            "grid_row": null,
            "grid_template_areas": null,
            "grid_template_columns": null,
            "grid_template_rows": null,
            "height": null,
            "justify_content": null,
            "justify_items": null,
            "left": null,
            "margin": null,
            "max_height": null,
            "max_width": null,
            "min_height": null,
            "min_width": null,
            "object_fit": null,
            "object_position": null,
            "order": null,
            "overflow": null,
            "overflow_x": null,
            "overflow_y": null,
            "padding": null,
            "right": null,
            "top": null,
            "visibility": null,
            "width": null
          }
        },
        "84373c9d6ff2494c9742b1990c98536a": {
          "model_module": "@jupyter-widgets/controls",
          "model_name": "DescriptionStyleModel",
          "model_module_version": "1.5.0",
          "state": {
            "_model_module": "@jupyter-widgets/controls",
            "_model_module_version": "1.5.0",
            "_model_name": "DescriptionStyleModel",
            "_view_count": null,
            "_view_module": "@jupyter-widgets/base",
            "_view_module_version": "1.2.0",
            "_view_name": "StyleView",
            "description_width": ""
          }
        },
        "34016b0d5c8e4c32b09032bd2065041b": {
          "model_module": "@jupyter-widgets/base",
          "model_name": "LayoutModel",
          "model_module_version": "1.2.0",
          "state": {
            "_model_module": "@jupyter-widgets/base",
            "_model_module_version": "1.2.0",
            "_model_name": "LayoutModel",
            "_view_count": null,
            "_view_module": "@jupyter-widgets/base",
            "_view_module_version": "1.2.0",
            "_view_name": "LayoutView",
            "align_content": null,
            "align_items": null,
            "align_self": null,
            "border": null,
            "bottom": null,
            "display": null,
            "flex": "2",
            "flex_flow": null,
            "grid_area": null,
            "grid_auto_columns": null,
            "grid_auto_flow": null,
            "grid_auto_rows": null,
            "grid_column": null,
            "grid_gap": null,
            "grid_row": null,
            "grid_template_areas": null,
            "grid_template_columns": null,
            "grid_template_rows": null,
            "height": null,
            "justify_content": null,
            "justify_items": null,
            "left": null,
            "margin": null,
            "max_height": null,
            "max_width": null,
            "min_height": null,
            "min_width": null,
            "object_fit": null,
            "object_position": null,
            "order": null,
            "overflow": null,
            "overflow_x": null,
            "overflow_y": null,
            "padding": null,
            "right": null,
            "top": null,
            "visibility": null,
            "width": null
          }
        },
        "9d3aa1dbb26245b9a6fa99e71c5a1480": {
          "model_module": "@jupyter-widgets/controls",
          "model_name": "ProgressStyleModel",
          "model_module_version": "1.5.0",
          "state": {
            "_model_module": "@jupyter-widgets/controls",
            "_model_module_version": "1.5.0",
            "_model_name": "ProgressStyleModel",
            "_view_count": null,
            "_view_module": "@jupyter-widgets/base",
            "_view_module_version": "1.2.0",
            "_view_name": "StyleView",
            "bar_color": null,
            "description_width": ""
          }
        },
        "8174e863712f406ea328b5821683515d": {
          "model_module": "@jupyter-widgets/base",
          "model_name": "LayoutModel",
          "model_module_version": "1.2.0",
          "state": {
            "_model_module": "@jupyter-widgets/base",
            "_model_module_version": "1.2.0",
            "_model_name": "LayoutModel",
            "_view_count": null,
            "_view_module": "@jupyter-widgets/base",
            "_view_module_version": "1.2.0",
            "_view_name": "LayoutView",
            "align_content": null,
            "align_items": null,
            "align_self": null,
            "border": null,
            "bottom": null,
            "display": null,
            "flex": null,
            "flex_flow": null,
            "grid_area": null,
            "grid_auto_columns": null,
            "grid_auto_flow": null,
            "grid_auto_rows": null,
            "grid_column": null,
            "grid_gap": null,
            "grid_row": null,
            "grid_template_areas": null,
            "grid_template_columns": null,
            "grid_template_rows": null,
            "height": null,
            "justify_content": null,
            "justify_items": null,
            "left": null,
            "margin": null,
            "max_height": null,
            "max_width": null,
            "min_height": null,
            "min_width": null,
            "object_fit": null,
            "object_position": null,
            "order": null,
            "overflow": null,
            "overflow_x": null,
            "overflow_y": null,
            "padding": null,
            "right": null,
            "top": null,
            "visibility": null,
            "width": null
          }
        },
        "4238099705164050a2fb7ec507ee47dd": {
          "model_module": "@jupyter-widgets/controls",
          "model_name": "DescriptionStyleModel",
          "model_module_version": "1.5.0",
          "state": {
            "_model_module": "@jupyter-widgets/controls",
            "_model_module_version": "1.5.0",
            "_model_name": "DescriptionStyleModel",
            "_view_count": null,
            "_view_module": "@jupyter-widgets/base",
            "_view_module_version": "1.2.0",
            "_view_name": "StyleView",
            "description_width": ""
          }
        },
        "b1b63344643a45df9292655000a1ee79": {
          "model_module": "@jupyter-widgets/controls",
          "model_name": "HBoxModel",
          "model_module_version": "1.5.0",
          "state": {
            "_dom_classes": [],
            "_model_module": "@jupyter-widgets/controls",
            "_model_module_version": "1.5.0",
            "_model_name": "HBoxModel",
            "_view_count": null,
            "_view_module": "@jupyter-widgets/controls",
            "_view_module_version": "1.5.0",
            "_view_name": "HBoxView",
            "box_style": "",
            "children": [
              "IPY_MODEL_e2d1178b34504cf9babad79c7adc9f77",
              "IPY_MODEL_089dd77c4c664ab6be0770a5a9abb502",
              "IPY_MODEL_ac03c0e4d3d94991945017d318a46126"
            ],
            "layout": "IPY_MODEL_c4729c1d3a724e3a89a8838c0f5ee89a"
          }
        },
        "e2d1178b34504cf9babad79c7adc9f77": {
          "model_module": "@jupyter-widgets/controls",
          "model_name": "HTMLModel",
          "model_module_version": "1.5.0",
          "state": {
            "_dom_classes": [],
            "_model_module": "@jupyter-widgets/controls",
            "_model_module_version": "1.5.0",
            "_model_name": "HTMLModel",
            "_view_count": null,
            "_view_module": "@jupyter-widgets/controls",
            "_view_module_version": "1.5.0",
            "_view_name": "HTMLView",
            "description": "",
            "description_tooltip": null,
            "layout": "IPY_MODEL_b059c08c49804399b2c0d7b55212562e",
            "placeholder": "​",
            "style": "IPY_MODEL_e1e69ee459f64e64965628339b161580",
            "value": "Testing DataLoader 0: 100%"
          }
        },
        "089dd77c4c664ab6be0770a5a9abb502": {
          "model_module": "@jupyter-widgets/controls",
          "model_name": "FloatProgressModel",
          "model_module_version": "1.5.0",
          "state": {
            "_dom_classes": [],
            "_model_module": "@jupyter-widgets/controls",
            "_model_module_version": "1.5.0",
            "_model_name": "FloatProgressModel",
            "_view_count": null,
            "_view_module": "@jupyter-widgets/controls",
            "_view_module_version": "1.5.0",
            "_view_name": "ProgressView",
            "bar_style": "success",
            "description": "",
            "description_tooltip": null,
            "layout": "IPY_MODEL_c6106434c6994f8db9a1705bd4e44e2b",
            "max": 157,
            "min": 0,
            "orientation": "horizontal",
            "style": "IPY_MODEL_9d57cec5468c4a988063aed139ba105d",
            "value": 157
          }
        },
        "ac03c0e4d3d94991945017d318a46126": {
          "model_module": "@jupyter-widgets/controls",
          "model_name": "HTMLModel",
          "model_module_version": "1.5.0",
          "state": {
            "_dom_classes": [],
            "_model_module": "@jupyter-widgets/controls",
            "_model_module_version": "1.5.0",
            "_model_name": "HTMLModel",
            "_view_count": null,
            "_view_module": "@jupyter-widgets/controls",
            "_view_module_version": "1.5.0",
            "_view_name": "HTMLView",
            "description": "",
            "description_tooltip": null,
            "layout": "IPY_MODEL_21429b19697b4d0eb2e1625f969f9c33",
            "placeholder": "​",
            "style": "IPY_MODEL_e5874a790b6549b78ff04c6d75a2e678",
            "value": " 157/157 [00:53&lt;00:00,  2.92it/s]"
          }
        },
        "c4729c1d3a724e3a89a8838c0f5ee89a": {
          "model_module": "@jupyter-widgets/base",
          "model_name": "LayoutModel",
          "model_module_version": "1.2.0",
          "state": {
            "_model_module": "@jupyter-widgets/base",
            "_model_module_version": "1.2.0",
            "_model_name": "LayoutModel",
            "_view_count": null,
            "_view_module": "@jupyter-widgets/base",
            "_view_module_version": "1.2.0",
            "_view_name": "LayoutView",
            "align_content": null,
            "align_items": null,
            "align_self": null,
            "border": null,
            "bottom": null,
            "display": "inline-flex",
            "flex": null,
            "flex_flow": "row wrap",
            "grid_area": null,
            "grid_auto_columns": null,
            "grid_auto_flow": null,
            "grid_auto_rows": null,
            "grid_column": null,
            "grid_gap": null,
            "grid_row": null,
            "grid_template_areas": null,
            "grid_template_columns": null,
            "grid_template_rows": null,
            "height": null,
            "justify_content": null,
            "justify_items": null,
            "left": null,
            "margin": null,
            "max_height": null,
            "max_width": null,
            "min_height": null,
            "min_width": null,
            "object_fit": null,
            "object_position": null,
            "order": null,
            "overflow": null,
            "overflow_x": null,
            "overflow_y": null,
            "padding": null,
            "right": null,
            "top": null,
            "visibility": null,
            "width": "100%"
          }
        },
        "b059c08c49804399b2c0d7b55212562e": {
          "model_module": "@jupyter-widgets/base",
          "model_name": "LayoutModel",
          "model_module_version": "1.2.0",
          "state": {
            "_model_module": "@jupyter-widgets/base",
            "_model_module_version": "1.2.0",
            "_model_name": "LayoutModel",
            "_view_count": null,
            "_view_module": "@jupyter-widgets/base",
            "_view_module_version": "1.2.0",
            "_view_name": "LayoutView",
            "align_content": null,
            "align_items": null,
            "align_self": null,
            "border": null,
            "bottom": null,
            "display": null,
            "flex": null,
            "flex_flow": null,
            "grid_area": null,
            "grid_auto_columns": null,
            "grid_auto_flow": null,
            "grid_auto_rows": null,
            "grid_column": null,
            "grid_gap": null,
            "grid_row": null,
            "grid_template_areas": null,
            "grid_template_columns": null,
            "grid_template_rows": null,
            "height": null,
            "justify_content": null,
            "justify_items": null,
            "left": null,
            "margin": null,
            "max_height": null,
            "max_width": null,
            "min_height": null,
            "min_width": null,
            "object_fit": null,
            "object_position": null,
            "order": null,
            "overflow": null,
            "overflow_x": null,
            "overflow_y": null,
            "padding": null,
            "right": null,
            "top": null,
            "visibility": null,
            "width": null
          }
        },
        "e1e69ee459f64e64965628339b161580": {
          "model_module": "@jupyter-widgets/controls",
          "model_name": "DescriptionStyleModel",
          "model_module_version": "1.5.0",
          "state": {
            "_model_module": "@jupyter-widgets/controls",
            "_model_module_version": "1.5.0",
            "_model_name": "DescriptionStyleModel",
            "_view_count": null,
            "_view_module": "@jupyter-widgets/base",
            "_view_module_version": "1.2.0",
            "_view_name": "StyleView",
            "description_width": ""
          }
        },
        "c6106434c6994f8db9a1705bd4e44e2b": {
          "model_module": "@jupyter-widgets/base",
          "model_name": "LayoutModel",
          "model_module_version": "1.2.0",
          "state": {
            "_model_module": "@jupyter-widgets/base",
            "_model_module_version": "1.2.0",
            "_model_name": "LayoutModel",
            "_view_count": null,
            "_view_module": "@jupyter-widgets/base",
            "_view_module_version": "1.2.0",
            "_view_name": "LayoutView",
            "align_content": null,
            "align_items": null,
            "align_self": null,
            "border": null,
            "bottom": null,
            "display": null,
            "flex": "2",
            "flex_flow": null,
            "grid_area": null,
            "grid_auto_columns": null,
            "grid_auto_flow": null,
            "grid_auto_rows": null,
            "grid_column": null,
            "grid_gap": null,
            "grid_row": null,
            "grid_template_areas": null,
            "grid_template_columns": null,
            "grid_template_rows": null,
            "height": null,
            "justify_content": null,
            "justify_items": null,
            "left": null,
            "margin": null,
            "max_height": null,
            "max_width": null,
            "min_height": null,
            "min_width": null,
            "object_fit": null,
            "object_position": null,
            "order": null,
            "overflow": null,
            "overflow_x": null,
            "overflow_y": null,
            "padding": null,
            "right": null,
            "top": null,
            "visibility": null,
            "width": null
          }
        },
        "9d57cec5468c4a988063aed139ba105d": {
          "model_module": "@jupyter-widgets/controls",
          "model_name": "ProgressStyleModel",
          "model_module_version": "1.5.0",
          "state": {
            "_model_module": "@jupyter-widgets/controls",
            "_model_module_version": "1.5.0",
            "_model_name": "ProgressStyleModel",
            "_view_count": null,
            "_view_module": "@jupyter-widgets/base",
            "_view_module_version": "1.2.0",
            "_view_name": "StyleView",
            "bar_color": null,
            "description_width": ""
          }
        },
        "21429b19697b4d0eb2e1625f969f9c33": {
          "model_module": "@jupyter-widgets/base",
          "model_name": "LayoutModel",
          "model_module_version": "1.2.0",
          "state": {
            "_model_module": "@jupyter-widgets/base",
            "_model_module_version": "1.2.0",
            "_model_name": "LayoutModel",
            "_view_count": null,
            "_view_module": "@jupyter-widgets/base",
            "_view_module_version": "1.2.0",
            "_view_name": "LayoutView",
            "align_content": null,
            "align_items": null,
            "align_self": null,
            "border": null,
            "bottom": null,
            "display": null,
            "flex": null,
            "flex_flow": null,
            "grid_area": null,
            "grid_auto_columns": null,
            "grid_auto_flow": null,
            "grid_auto_rows": null,
            "grid_column": null,
            "grid_gap": null,
            "grid_row": null,
            "grid_template_areas": null,
            "grid_template_columns": null,
            "grid_template_rows": null,
            "height": null,
            "justify_content": null,
            "justify_items": null,
            "left": null,
            "margin": null,
            "max_height": null,
            "max_width": null,
            "min_height": null,
            "min_width": null,
            "object_fit": null,
            "object_position": null,
            "order": null,
            "overflow": null,
            "overflow_x": null,
            "overflow_y": null,
            "padding": null,
            "right": null,
            "top": null,
            "visibility": null,
            "width": null
          }
        },
        "e5874a790b6549b78ff04c6d75a2e678": {
          "model_module": "@jupyter-widgets/controls",
          "model_name": "DescriptionStyleModel",
          "model_module_version": "1.5.0",
          "state": {
            "_model_module": "@jupyter-widgets/controls",
            "_model_module_version": "1.5.0",
            "_model_name": "DescriptionStyleModel",
            "_view_count": null,
            "_view_module": "@jupyter-widgets/base",
            "_view_module_version": "1.2.0",
            "_view_name": "StyleView",
            "description_width": ""
          }
        }
      }
    },
    "accelerator": "GPU"
  },
  "nbformat": 4,
  "nbformat_minor": 0
}